{
  "nbformat": 4,
  "nbformat_minor": 0,
  "metadata": {
    "colab": {
      "provenance": [],
      "include_colab_link": true
    },
    "kernelspec": {
      "name": "python3",
      "display_name": "Python 3"
    },
    "language_info": {
      "name": "python"
    }
  },
  "cells": [
    {
      "cell_type": "markdown",
      "metadata": {
        "id": "view-in-github",
        "colab_type": "text"
      },
      "source": [
        "<a href=\"https://colab.research.google.com/github/Untick/NetOptik/blob/Zaitseva-Maria-branch/Zaitseva%20Maria/%D0%9F%D0%B0%D1%80%D1%81%D0%B5%D1%80_%D0%9D%D0%B5%D1%82%D0%9E%D0%BF%D1%82%D0%B8%D0%BA.ipynb\" target=\"_parent\"><img src=\"https://colab.research.google.com/assets/colab-badge.svg\" alt=\"Open In Colab\"/></a>"
      ]
    },
    {
      "cell_type": "code",
      "source": [
        "from google.colab import drive\n",
        "drive.mount('/content/drive')"
      ],
      "metadata": {
        "colab": {
          "base_uri": "https://localhost:8080/"
        },
        "id": "EjGzLdb43CeS",
        "outputId": "98d7b371-fdb4-406c-9ac5-b402f606eff7"
      },
      "execution_count": null,
      "outputs": [
        {
          "output_type": "stream",
          "name": "stdout",
          "text": [
            "Mounted at /content/drive\n"
          ]
        }
      ]
    },
    {
      "cell_type": "code",
      "metadata": {
        "id": "Vp5qUa6wqe7T"
      },
      "source": [
        "# импорт библиотек, необходимых для решения задач\n",
        "from bs4 import BeautifulSoup\n",
        "import requests\n",
        "import pandas as pd\n",
        "import os"
      ],
      "execution_count": null,
      "outputs": []
    },
    {
      "cell_type": "code",
      "source": [
        "#файл для парсинга\n",
        "path = '/content/drive/MyDrive/ИИ/yandexmarket.yml.xml'\n",
        "with open(path, 'r', encoding='utf-8') as f:\n",
        "  contents = f.read() #читаем файл\n",
        "\n",
        "soup = BeautifulSoup(contents, 'xml') #парсим\n",
        "items = soup.find_all('picture') #находим все теги с картинками\n",
        "print(len(items))\n",
        "\n",
        "#ссылки на картинки\n",
        "num = 0\n",
        "\n",
        "for item in items[3543:3556]:\n",
        "  img_url = item.text #получаем ссылки на картинки\n",
        "  print(item)\n",
        "  #get запрос\n",
        "  filename = requests.get(img_url)\n",
        "\n",
        "  #сохраняем изображение в файл\n",
        "  with open(f'/content/drive/MyDrive/ИИ/img_{num}.jpg', \"wb\") as out:\n",
        "    out.write(filename.content)\n",
        "    full_path = os.path.abspath(f'/content/drive/MyDrive/ИИ/img_{num}.jpg')\n",
        "    print(full_path)\n",
        "  num+=1\n",
        "\n"
      ],
      "metadata": {
        "colab": {
          "base_uri": "https://localhost:8080/"
        },
        "id": "dnlCl6RJvL7p",
        "outputId": "fb814040-d58c-4129-d59c-3ac2493de3a4"
      },
      "execution_count": null,
      "outputs": [
        {
          "output_type": "stream",
          "name": "stdout",
          "text": [
            "6571\n",
            "<picture>https://www.netoptik.ru/image/cache/catalog/Fisher%20Price%203/fisher-price-fpvn021-smk-s2-1%20(1)-600x600.jpg</picture>\n",
            "/content/drive/MyDrive/ИИ/img_0.jpg\n",
            "<picture>https://www.netoptik.ru/image/cache/catalog/Fisher%20Price%203/fisher-price-fpvn021-smk-s2-2%20(2)-600x600.jpg</picture>\n",
            "/content/drive/MyDrive/ИИ/img_1.jpg\n",
            "<picture>https://www.netoptik.ru/image/cache/catalog/Fisher%20Price%203/fisher-price-fpvn021-smk-s2-3%20(3)-600x600.jpg</picture>\n",
            "/content/drive/MyDrive/ИИ/img_2.jpg\n",
            "<picture>https://www.netoptik.ru/image/cache/catalog/Fisher%20Price/FISHER-PRICE-FPV-27-522-43-2-600x600.jpg</picture>\n",
            "/content/drive/MyDrive/ИИ/img_3.jpg\n",
            "<picture>https://www.netoptik.ru/image/cache/catalog/Fisher%20Price/FISHER-PRICE-FPV-27-522-43-1-600x600.jpg</picture>\n",
            "/content/drive/MyDrive/ИИ/img_4.jpg\n",
            "<picture>https://www.netoptik.ru/image/cache/catalog/Fisher%20Price/FISHER-PRICE-FPV-27-522-43-3-600x600.jpg</picture>\n",
            "/content/drive/MyDrive/ИИ/img_5.jpg\n",
            "<picture>https://www.netoptik.ru/image/cache/catalog/Fisher%20Price/FISHER-PRICE-FPV-27-522-43-4-600x600.jpg</picture>\n",
            "/content/drive/MyDrive/ИИ/img_6.jpg\n",
            "<picture>https://www.netoptik.ru/image/cache/catalog/Fisher%20Price%202/fisher-price-kids-fpv10-c419-s2-1%20(2)-600x600.jpg</picture>\n",
            "/content/drive/MyDrive/ИИ/img_7.jpg\n",
            "<picture>https://www.netoptik.ru/image/cache/catalog/Fisher%20Price%202/fisher-price-kids-fpv10-c419-s2-2%20(1)-600x600.jpg</picture>\n",
            "/content/drive/MyDrive/ИИ/img_8.jpg\n",
            "<picture>https://www.netoptik.ru/image/cache/catalog/Fisher%20Price%202/fisher-price-kids-fpv10-c419-s2-3%20(3)-600x600.jpg</picture>\n",
            "/content/drive/MyDrive/ИИ/img_9.jpg\n",
            "<picture>https://www.netoptik.ru/image/cache/catalog/Fisher%20Price%202/fisher-price-kids-fpv30-530-s2-1%20(2)-600x600.jpg</picture>\n",
            "/content/drive/MyDrive/ИИ/img_10.jpg\n",
            "<picture>https://www.netoptik.ru/image/cache/catalog/Fisher%20Price%202/fisher-price-kids-fpv30-530-s2-2%20(1)-600x600.jpg</picture>\n",
            "/content/drive/MyDrive/ИИ/img_11.jpg\n",
            "<picture>https://www.netoptik.ru/image/cache/catalog/Fisher%20Price%202/fisher-price-kids-fpv30-530-s2-3%20(3)-600x600.jpg</picture>\n",
            "/content/drive/MyDrive/ИИ/img_12.jpg\n"
          ]
        }
      ]
    },
    {
      "cell_type": "code",
      "source": [],
      "metadata": {
        "id": "6qWNjWhooSa0"
      },
      "execution_count": null,
      "outputs": []
    }
  ]
}