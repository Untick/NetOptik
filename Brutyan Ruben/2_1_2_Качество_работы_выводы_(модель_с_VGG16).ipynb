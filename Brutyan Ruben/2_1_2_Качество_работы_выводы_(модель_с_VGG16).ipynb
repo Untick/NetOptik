{
  "nbformat": 4,
  "nbformat_minor": 0,
  "metadata": {
    "colab": {
      "provenance": [],
      "toc_visible": true,
      "include_colab_link": true
    },
    "kernelspec": {
      "name": "python3",
      "display_name": "Python 3"
    },
    "language_info": {
      "name": "python"
    }
  },
  "cells": [
    {
      "cell_type": "markdown",
      "metadata": {
        "id": "view-in-github",
        "colab_type": "text"
      },
      "source": [
        "<a href=\"https://colab.research.google.com/github/Untick/NetOptik/blob/main/Brutyan%20Ruben/2_1_2_%D0%9A%D0%B0%D1%87%D0%B5%D1%81%D1%82%D0%B2%D0%BE_%D1%80%D0%B0%D0%B1%D0%BE%D1%82%D1%8B_%D0%B2%D1%8B%D0%B2%D0%BE%D0%B4%D1%8B_(%D0%BC%D0%BE%D0%B4%D0%B5%D0%BB%D1%8C_%D1%81_VGG16).ipynb\" target=\"_parent\"><img src=\"https://colab.research.google.com/assets/colab-badge.svg\" alt=\"Open In Colab\"/></a>"
      ]
    },
    {
      "cell_type": "markdown",
      "source": [
        "## Загрузка библиотек"
      ],
      "metadata": {
        "id": "m9crjDtmLbML"
      }
    },
    {
      "cell_type": "code",
      "source": [
        "import os # Для работы с файлами\n",
        "\n",
        "from tensorflow.keras.models import Sequential                                                                 # абстрактный класс базовой модели сети от кераса\n",
        "from tensorflow.keras.layers import Input, Conv2D, MaxPooling2D, Flatten, Dense, Activation, Dropout, Flatten  # слои(нормализации, регуляризации и т.д)\n",
        "from tensorflow.keras.optimizers import Adam\n",
        "from tensorflow.keras.utils import to_categorical\n",
        "from tensorflow.keras import utils\n",
        "\n",
        "from tensorflow.keras.preprocessing.image import ImageDataGenerator             # модуль ImageDataGenerator из библиотеки tensorflow\n",
        "\n",
        "import matplotlib.pyplot as plt                                                 # для создания графиков и визуализаций в Python\n",
        "import random                                                                   # для генерации случайных чисел\n",
        "from PIL import Image                                                           # методы для отрисовки изображений, обработки и манипулирования изображениями"
      ],
      "metadata": {
        "id": "On-VEoruLesC"
      },
      "execution_count": null,
      "outputs": []
    },
    {
      "cell_type": "markdown",
      "source": [
        "# Начальные данные:"
      ],
      "metadata": {
        "id": "MldyMMarlETZ"
      }
    },
    {
      "cell_type": "markdown",
      "source": [
        "## Начальные переменные"
      ],
      "metadata": {
        "id": "Cia0sC7s77bF"
      }
    },
    {
      "cell_type": "code",
      "source": [
        "# Параметры для ImageDataGenerator:\n",
        "batch_size = 32\n",
        "img_height = 675\n",
        "img_width = 450\n",
        "augment_dir = '/content/drive/MyDrive/НетОптик/Dataset/test_augment'               # папка с клонами (новые фото)\n",
        "augment_dir_1p = '/content/drive/MyDrive/НетОптик/Dataset/test_augment/class_1p'   # папка с клонами (пластик)\n",
        "augment_dir_2m = '/content/drive/MyDrive/НетОптик/Dataset/test_augment/class_2m'   # папка с клонами (метал)"
      ],
      "metadata": {
        "id": "peJ-PTggG0CU"
      },
      "execution_count": null,
      "outputs": []
    },
    {
      "cell_type": "markdown",
      "source": [
        "## Генератор - Test_а"
      ],
      "metadata": {
        "id": "PwJLEPXn_Ems"
      }
    },
    {
      "cell_type": "code",
      "source": [
        "from tensorflow.keras.preprocessing.image import ImageDataGenerator             # модуль ImageDataGenerator из библиотеки tensorflow\n",
        "\n",
        "# настройки для генератора данных изображений (ImageDataGenerator) в задаче обработки изображений\n",
        "datagen = ImageDataGenerator(\n",
        "    rotation_range=12,                            # случайные повороты в диапазоне [-12, 12] градусов\n",
        "    width_shift_range=5.0,                        # случайное горизонтальное смещение в диапазоне [-5.0, 5.0]\n",
        "    height_shift_range=5.0 ,                      # случайное вертикальное смещение в диапазоне [-5.0, 5.0]\n",
        "    zoom_range=0.2,                               # случайное масштабирование в диапазоне [0.8, 1.2]\n",
        "    horizontal_flip=True,                         # Случайное отражение изображений по горизонтали\n",
        "    # validation_split=0.2                          # доля отводимая на валидацию от общего количества фото для валидации\n",
        ")\n",
        "\n",
        "# Генератор данных для ТЕСТИРОВАНИЯ на основе аугментированных изображений из каталога augment_dir\n",
        "test_a_generator = datagen.flow_from_directory(\n",
        "    augment_dir,                                     # Путь к тестовой аугментированной выборке\n",
        "    target_size=(img_width, img_height),\n",
        "    batch_size=batch_size,\n",
        "    class_mode='binary',\n",
        "    shuffle=False                                # Перемешивание выборки\n",
        ")"
      ],
      "metadata": {
        "colab": {
          "base_uri": "https://localhost:8080/"
        },
        "id": "srsTPBJg99du",
        "outputId": "f68fb888-64d5-47bf-d2bb-43ce68598185"
      },
      "execution_count": null,
      "outputs": [
        {
          "output_type": "stream",
          "name": "stdout",
          "text": [
            "Found 108 images belonging to 2 classes.\n"
          ]
        }
      ]
    },
    {
      "cell_type": "markdown",
      "source": [
        "## X_Test , Y_Test"
      ],
      "metadata": {
        "id": "Bjrp3GvW_MAj"
      }
    },
    {
      "cell_type": "markdown",
      "source": [
        "X_Test , Y_Test тензоры (из аугментированных)"
      ],
      "metadata": {
        "id": "BxSDSGVNM-E_"
      }
    },
    {
      "cell_type": "code",
      "source": [
        "import numpy as np\n",
        "\n",
        "num = 0\n",
        "for x,y in test_a_generator:\n",
        "    if  num == 0:\n",
        "       X_test = x\n",
        "       Y_test = y\n",
        "    else:\n",
        "       X_test = np.concatenate([X_test,x])\n",
        "       Y_test = np.concatenate([Y_test,y])\n",
        "    num += 1\n",
        "    if  num == 4:                     # \"num\" = количество образцов в аугментированном наборе данных = 108, деленному на размер пакета (batch_size = 32)\n",
        "      break\n",
        "\n",
        "print('Общее количество образцов, высота-ширина изображений, количество цветовых каналов:')\n",
        "print('X_test:', X_test.shape)                                                          # Размер выборок\n",
        "print('Общее количество образцов:')\n",
        "print('Y_test:', Y_test.shape)"
      ],
      "metadata": {
        "colab": {
          "base_uri": "https://localhost:8080/"
        },
        "id": "lTuS2G-Z9U-E",
        "outputId": "57214b88-a5c4-44a6-b0cc-211112f7c334"
      },
      "execution_count": null,
      "outputs": [
        {
          "output_type": "stream",
          "name": "stdout",
          "text": [
            "Общее количество образцов, высота-ширина изображений, количество цветовых каналов:\n",
            "X_test: (108, 450, 675, 3)\n",
            "Общее количество образцов:\n",
            "Y_test: (108,)\n"
          ]
        }
      ]
    },
    {
      "cell_type": "markdown",
      "source": [
        "## Визуализация тензора"
      ],
      "metadata": {
        "id": "6fDlrxrWBA0F"
      }
    },
    {
      "cell_type": "code",
      "source": [
        "print(Y_test)\n",
        "print()\n",
        "print(\"Метка №54 картинки из первого класса (Y_test):\", Y_test[53])  # 54 картинка из первого класса\n",
        "print(\"Метка первой картинки из второго класса (Y_test):\",Y_test[54]) # первая картинка из второго класса\n",
        "print(\"Метка №108 картинки из второго класса (Y_test):\",Y_test[107]) # 54 картинка из второго второго"
      ],
      "metadata": {
        "colab": {
          "base_uri": "https://localhost:8080/"
        },
        "id": "uOTj5H-Y_mOd",
        "outputId": "2fd42f0a-9e1c-4817-a417-e448ded61e55"
      },
      "execution_count": null,
      "outputs": [
        {
          "output_type": "stream",
          "name": "stdout",
          "text": [
            "[0. 0. 0. 0. 0. 0. 0. 0. 0. 0. 0. 0. 0. 0. 0. 0. 0. 0. 0. 0. 0. 0. 0. 0.\n",
            " 0. 0. 0. 0. 0. 0. 0. 0. 0. 0. 0. 0. 0. 0. 0. 0. 0. 0. 0. 0. 0. 0. 0. 0.\n",
            " 0. 0. 0. 0. 0. 0. 1. 1. 1. 1. 1. 1. 1. 1. 1. 1. 1. 1. 1. 1. 1. 1. 1. 1.\n",
            " 1. 1. 1. 1. 1. 1. 1. 1. 1. 1. 1. 1. 1. 1. 1. 1. 1. 1. 1. 1. 1. 1. 1. 1.\n",
            " 1. 1. 1. 1. 1. 1. 1. 1. 1. 1. 1. 1.]\n",
            "\n",
            "Метка №54 картинки из первого класса (Y_test): 0.0\n",
            "Метка первой картинки из второго класса (Y_test): 1.0\n",
            "Метка №108 картинки из второго класса (Y_test): 1.0\n"
          ]
        }
      ]
    },
    {
      "cell_type": "markdown",
      "source": [
        "# МОДЕЛЬ с VGG-16"
      ],
      "metadata": {
        "id": "baiGyYvj8nOq"
      }
    },
    {
      "cell_type": "markdown",
      "source": [
        "## *Загрузка модели*"
      ],
      "metadata": {
        "id": "QaJHxtqTlAtU"
      }
    },
    {
      "cell_type": "markdown",
      "source": [
        "Загрузка обученной модели с VGG-16"
      ],
      "metadata": {
        "id": "ppYdiqX8O2eh"
      }
    },
    {
      "cell_type": "code",
      "source": [
        "from tensorflow.keras.models import load_model\n",
        "\n",
        "print('Загружаем сеть')\n",
        "\n",
        "# Загружаем модель из файла\n",
        "model = load_model(\"/content/drive/MyDrive/НетОптик/Save_models/net_optic_VGG16.h5\")\n",
        "\n",
        "print('Загрузка сети из файла net_optic_VGG16.h5 завершена')"
      ],
      "metadata": {
        "colab": {
          "base_uri": "https://localhost:8080/"
        },
        "id": "kwNqkhrRKbob",
        "outputId": "1169d2f8-6c64-4d9d-9655-14f40df998e1"
      },
      "execution_count": null,
      "outputs": [
        {
          "output_type": "stream",
          "name": "stdout",
          "text": [
            "Загружаем сеть\n",
            "Загрузка сети из файла net_optic_VGG16.h5 завершена\n"
          ]
        }
      ]
    },
    {
      "cell_type": "markdown",
      "source": [
        "## Проверка модели вручную"
      ],
      "metadata": {
        "id": "LzjirZWWqj07"
      }
    },
    {
      "cell_type": "code",
      "source": [
        "import numpy as np\n",
        "import matplotlib.pyplot as plt\n",
        "from tensorflow.keras.preprocessing import image\n",
        "\n",
        "# image_path_2m = '/content/drive/MyDrive/НетОптик/Dataset/augment_test/class_1p/1p_17.jpg'\n",
        "\n",
        "# Путь к одному файлу из двух категорий (пластик или металл)\n",
        "image_path_1p = augment_dir + '/' + 'class_1p' + '/' + '1p_53.jpg'\n",
        "image_path_2m = augment_dir + '/' + 'class_2m' + '/' + '2m_0.jpg'\n",
        "\n",
        "# Загрузка тестовой картинки из пластика\n",
        "test_image_p = image.load_img(image_path_1p, target_size=(img_width, img_height))\n",
        "test_image_p = image.img_to_array(test_image_p)\n",
        "test_image_p = np.expand_dims(test_image_p, axis=0)\n",
        "\n",
        "# Загрузка тестовой картинки из металла\n",
        "test_image_m = image.load_img(image_path_2m, target_size=(img_width, img_height))\n",
        "test_image_m = image.img_to_array(test_image_m)\n",
        "test_image_m = np.expand_dims(test_image_m, axis=0)\n",
        "\n",
        "# Предсказание класса тестовой картинки из папки пластик с использованием обученной модели\n",
        "pred_p = model.predict(test_image_p)\n",
        "pred_class_p = int(pred_p[0])\n",
        "\n",
        "# Предсказание класса тестовой картинки из папки металл с использованием обученной модели\n",
        "pred_m = model.predict(test_image_m)\n",
        "pred_class_m = int(pred_m[0])\n",
        "\n",
        "# Отображение тестовой картинки из папки пластик и предсказанного класса\n",
        "plt.subplot(1, 2, 1)\n",
        "plt.imshow(test_image_p[0].astype(np.uint8))\n",
        "plt.title(f'Предсказанный класс: {pred_class_p}')\n",
        "\n",
        "# Отображение тестовой картинки из папки металл и предсказанного класса\n",
        "plt.subplot(1, 2, 2)\n",
        "plt.imshow(test_image_m[0].astype(np.uint8))\n",
        "plt.title(f'Предсказанный класс: {pred_class_m}')\n",
        "\n",
        "plt.show()"
      ],
      "metadata": {
        "colab": {
          "base_uri": "https://localhost:8080/",
          "height": 268
        },
        "id": "G1H_2dcCufwC",
        "outputId": "6cf6a011-2723-4959-b13c-852ec653f968"
      },
      "execution_count": null,
      "outputs": [
        {
          "output_type": "stream",
          "name": "stdout",
          "text": [
            "1/1 [==============================] - 0s 69ms/step\n",
            "1/1 [==============================] - 0s 82ms/step\n"
          ]
        },
        {
          "output_type": "display_data",
          "data": {
            "text/plain": [
              "<Figure size 640x480 with 2 Axes>"
            ],
            "image/png": "[encoded data removed]"
          },
          "metadata": {}
        }
      ]
    },
    {
      "cell_type": "markdown",
      "source": [
        "# Выводы о качестве работы модели"
      ],
      "metadata": {
        "id": "VdnbO3tPy5PP"
      }
    },
    {
      "cell_type": "markdown",
      "source": [
        "Оценка качества работы модели нейронной сети может быть выполнена с помощью различных метрик. Некоторые из них:\n",
        "\n",
        "1. Точность (Accuracy): определяет, насколько часто модель дает правильный ответ. Это отношение количества правильных предсказаний к общему числу предсказаний.\n",
        "\n",
        "2. Полнота (Recall): измеряет, насколько хорошо модель находит положительные примеры из всего множества положительных примеров. Это отношение количества верно классифицированных положительных примеров к общему числу положительных примеров.\n",
        "\n",
        "3. Точность предсказания (Precision): определяет, насколько точно модель классифицирует положительные примеры. Это отношение количества верно классифицированных положительных примеров к общему числу предсказанных положительных примеров.\n",
        "\n",
        "4. F-мера (F1-score): это гармоническое среднее между полнотой и точностью предсказания. Она дает более сбалансированную оценку качества модели, учитывая и полноту, и точность."
      ],
      "metadata": {
        "id": "GUscyigazegz"
      }
    },
    {
      "cell_type": "markdown",
      "source": [
        "### Точность (Accuracy)"
      ],
      "metadata": {
        "id": "SXnz4OYBpcX3"
      }
    },
    {
      "cell_type": "markdown",
      "source": [
        "Оценка модели на тестовых данных.  Генератор test_a_generator подает тестовые образцы в модель, с шагами, определенными как test_samples // batch_size."
      ],
      "metadata": {
        "id": "_kvSRtengdNa"
      }
    },
    {
      "cell_type": "code",
      "source": [
        "import os # Для работы с файлами\n",
        "\n",
        "test_samples = len(os.listdir(augment_dir_1p)) + len(os.listdir(augment_dir_2m))\n",
        "print(f'Всего тестовых изображений: {test_samples}\\n')\n",
        "scores = model.evaluate(test_a_generator, steps=test_samples // batch_size)\n",
        "print(\"\\nTest_accuracy (точность работы модели) на тестовых данных: %.2f%%\" % (scores[1]*100))"
      ],
      "metadata": {
        "colab": {
          "base_uri": "https://localhost:8080/"
        },
        "id": "JXs-5RVi7yvD",
        "outputId": "d38db35f-f515-48ed-9029-8fb612335d2b"
      },
      "execution_count": null,
      "outputs": [
        {
          "output_type": "stream",
          "name": "stdout",
          "text": [
            "Всего тестовых изображений: 108\n",
            "\n",
            "3/3 [==============================] - 346s 113s/step - loss: 0.1481 - accuracy: 0.9792\n",
            "\n",
            "Test_accuracy (точность работы модели) на тестовых данных: 97.92%\n"
          ]
        }
      ]
    },
    {
      "cell_type": "markdown",
      "source": [
        "Вычисляем метрику accuracy"
      ],
      "metadata": {
        "id": "jYNw2IgrrK8X"
      }
    },
    {
      "cell_type": "code",
      "source": [
        "# Вычисляем метрику accuracy\n",
        "loss, accuracy = model.evaluate(X_test, Y_test)\n",
        "\n",
        "# Выводим полученные результаты\n",
        "print(f'Loss: {loss}')\n",
        "print(f'Accuracy: {accuracy}')"
      ],
      "metadata": {
        "colab": {
          "base_uri": "https://localhost:8080/"
        },
        "id": "NCDA-Srun0_l",
        "outputId": "36dd9907-380b-46a3-9800-a744968a31bd"
      },
      "execution_count": null,
      "outputs": [
        {
          "output_type": "stream",
          "name": "stdout",
          "text": [
            "4/4 [==============================] - 376s 89s/step - loss: 0.0784 - accuracy: 0.9722\n",
            "Loss: 0.07838848233222961\n",
            "Accuracy: 0.9722222089767456\n"
          ]
        }
      ]
    },
    {
      "cell_type": "markdown",
      "source": [
        "### График confusion_matrix - на X_test и Y_test"
      ],
      "metadata": {
        "id": "JUAlIZKR942-"
      }
    },
    {
      "cell_type": "code",
      "source": [
        "# Импорт метода построения confusion_matrix\n",
        "from sklearn.metrics import confusion_matrix\n",
        "# Импорт метода визуализации confusion_matrix\n",
        "from sklearn.metrics import ConfusionMatrixDisplay\n",
        "\n",
        "# Получение предсказанных значений модели для тестового набора данных\n",
        "# y_pred = model.predict(test_a_generator)\n",
        "y_pred = model.predict(X_test)\n",
        "\n",
        "y_pred = np.round(y_pred).flatten()                    # округление до целых чисел и преобразование в одномерный массив\n",
        "\n",
        "# Получение истинных значений тестового набора данных\n",
        "# y_test = test_a_generator.classes\n",
        "y_test = Y_test\n",
        "\n",
        "# Построение confusion matrix\n",
        "cm = confusion_matrix(y_test, y_pred)\n",
        "\n",
        "TEST_CLASS_LIST = sorted(os.listdir(augment_dir))\n",
        "\n",
        "# # Визуализация матрицы ошибок\n",
        "# disp = ConfusionMatrixDisplay(confusion_matrix=cm, display_labels = ['Пластик', 'Метал'])\n",
        "display_label = np.arange(len(TEST_CLASS_LIST))\n",
        "disp = ConfusionMatrixDisplay(confusion_matrix=cm, display_labels = display_label)\n",
        "disp.plot()\n",
        "\n",
        "plt.title('Матрица ошибок')\n",
        "plt.xticks(display_label, TEST_CLASS_LIST, rotation=45)\n",
        "plt.yticks(display_label, TEST_CLASS_LIST, rotation=45)\n",
        "plt.xlabel('Предсказания модели')\n",
        "plt.ylabel('Правильные ответы')\n",
        "plt.show()"
      ],
      "metadata": {
        "colab": {
          "base_uri": "https://localhost:8080/",
          "height": 530
        },
        "id": "FFfHoBNLquVV",
        "outputId": "04f7437f-4a7b-4745-d764-aa3836f2fce5"
      },
      "execution_count": null,
      "outputs": [
        {
          "output_type": "stream",
          "name": "stdout",
          "text": [
            "4/4 [==============================] - 3s 781ms/step\n"
          ]
        },
        {
          "output_type": "display_data",
          "data": {
            "text/plain": [
              "<Figure size 640x480 with 2 Axes>"
            ],
            "image/png": "[encoded data removed]"
          },
          "metadata": {}
        }
      ]
    },
    {
      "cell_type": "markdown",
      "source": [
        "### График confusion_matrix - на генераторе"
      ],
      "metadata": {
        "id": "xw4L4l6zrdu5"
      }
    },
    {
      "cell_type": "code",
      "source": [
        "from sklearn.metrics import confusion_matrix                                    # Импорт метода построения confusion_matrix\n",
        "from sklearn.metrics import ConfusionMatrixDisplay                              # Импорт метода визуализации confusion_matrix\n",
        "\n",
        "# Получение предсказанных значений модели для тестового набора данных\n",
        "y_pred = model.predict(test_a_generator)\n",
        "# y_pred = model.predict(X_test)\n",
        "\n",
        "y_pred = np.round(y_pred).flatten()                                             # округление до целых чисел и преобразование в одномерный массив\n",
        "\n",
        "# Получение истинных значений тестового набора данных\n",
        "y_test = test_a_generator.classes\n",
        "# y_test = Y_test\n",
        "\n",
        "# Построение confusion matrix\n",
        "cm = confusion_matrix(y_test, y_pred)\n",
        "\n",
        "TEST_CLASS_LIST = sorted(os.listdir(augment_dir))\n",
        "\n",
        "# # Визуализация матрицы ошибок\n",
        "# disp = ConfusionMatrixDisplay(confusion_matrix=cm, display_labels = ['Пластик', 'Метал'])\n",
        "display_label = np.arange(len(TEST_CLASS_LIST))\n",
        "disp = ConfusionMatrixDisplay(confusion_matrix=cm, display_labels = display_label)\n",
        "disp.plot()\n",
        "\n",
        "plt.title('Матрица ошибок')\n",
        "plt.xticks(display_label, TEST_CLASS_LIST, rotation=45)\n",
        "plt.yticks(display_label, TEST_CLASS_LIST, rotation=45)\n",
        "plt.xlabel('Предсказания модели')\n",
        "plt.ylabel('Правильные ответы')\n",
        "plt.show()"
      ],
      "metadata": {
        "colab": {
          "base_uri": "https://localhost:8080/",
          "height": 530
        },
        "id": "8RnmDWkS__oH",
        "outputId": "312ebd7b-dabc-4c63-ac6e-e6890c166f52"
      },
      "execution_count": null,
      "outputs": [
        {
          "output_type": "stream",
          "name": "stdout",
          "text": [
            "4/4 [==============================] - 8s 2s/step\n"
          ]
        },
        {
          "output_type": "display_data",
          "data": {
            "text/plain": [
              "<Figure size 640x480 with 2 Axes>"
            ],
            "image/png": "[encoded data removed]"
          },
          "metadata": {}
        }
      ]
    },
    {
      "cell_type": "markdown",
      "source": [
        "## Расчет метрики precision"
      ],
      "metadata": {
        "id": "7Tixzf78JTPo"
      }
    },
    {
      "cell_type": "markdown",
      "source": [
        "Метрика precision показывает: насколько хорошо модель способна отличать выбранный класс от всех остальных. Для этого количество правильных ответов для выбранного класса (51 для пластика) нужно разделить на количество примеров, когда модель предсказала выбранный класс пластик (51+0)."
      ],
      "metadata": {
        "id": "pa9RNsMMJuGF"
      }
    },
    {
      "cell_type": "code",
      "source": [
        "import numpy as np\n",
        "\n",
        "# Получение предсказанных значений модели для тестового набора данных\n",
        "y_pred = model.predict(test_a_generator)\n",
        "# y_pred = model.predict(X_test)\n",
        "\n",
        "y_pred = np.round(y_pred).flatten()                    # округление до целых чисел и преобразование в одномерный массив\n",
        "\n",
        "# Получение истинных значений тестового набора данных\n",
        "y_test = test_a_generator.classes\n",
        "# y_test = Y_test\n",
        "\n",
        "# Построение confusion matrix\n",
        "cm = confusion_matrix(y_test, y_pred)\n",
        "\n",
        "# Расчет метрики precision для класса пластик\n",
        "precision_class_p = cm[0,0] / sum(cm[:,0])\n",
        "print('Метрика precision для класса пластик', precision_class_p)\n",
        "\n",
        "# Расчет метрики precision для класса металл\n",
        "precision_class_m = cm[1,1] / sum(cm[:,1])\n",
        "print('Метрика precision для класса металл',precision_class_m)"
      ],
      "metadata": {
        "colab": {
          "base_uri": "https://localhost:8080/"
        },
        "id": "UEx3PtrJIo7U",
        "outputId": "49456be4-65ec-4379-8bdd-375483381e6d"
      },
      "execution_count": null,
      "outputs": [
        {
          "output_type": "stream",
          "name": "stdout",
          "text": [
            "4/4 [==============================] - 8s 2s/step\n",
            "Метрика precision для класса пластик 1.0\n",
            "Метрика precision для класса металл 0.9473684210526315\n"
          ]
        }
      ]
    },
    {
      "cell_type": "markdown",
      "source": [
        "Вывод: Модель отлично справляется с фильтрацией пластика от металла (100%), и чуть хуже в обратном случае, когда нужно отличить металл от пластика (95%)"
      ],
      "metadata": {
        "id": "mqNEWzmgMTtI"
      }
    },
    {
      "cell_type": "markdown",
      "source": [
        "## Метрика recall"
      ],
      "metadata": {
        "id": "mU9qevBFSYiQ"
      }
    },
    {
      "cell_type": "markdown",
      "source": [
        "Метрика recall показыает насколько хорошо модель в принципе способна находить выбранный класс. В случае этой метрики мы берем общеее количество правильных ответов выбранного класса пластик (52) и делим на общее количество примеров выбранного класса - пластик в проверочном наборе (52+2)."
      ],
      "metadata": {
        "id": "KXI7CCynSV88"
      }
    },
    {
      "cell_type": "code",
      "source": [
        "# Расчет метрики recall для класса пластик\n",
        "recall_class_p = cm[0,0] / sum(cm[0])\n",
        "print('Метрика recall для класса пластик', recall_class_p)\n",
        "\n",
        "# Расчет метрики recall для класса металл\n",
        "recall_class_m = cm[1,1] / sum(cm[1])\n",
        "print('Метрика recall для класса металл', recall_class_m)"
      ],
      "metadata": {
        "colab": {
          "base_uri": "https://localhost:8080/"
        },
        "id": "RNk4ShYPSRBx",
        "outputId": "6722b95f-fe11-4fad-cb34-65ebc3acb438"
      },
      "execution_count": null,
      "outputs": [
        {
          "output_type": "stream",
          "name": "stdout",
          "text": [
            "Метрика recall для класса пластик 0.9444444444444444\n",
            "Метрика recall для класса металл 1.0\n"
          ]
        }
      ]
    },
    {
      "cell_type": "markdown",
      "source": [
        "После того, как посчитали метрики для каждого класса, можно объединить их для получения результирующих метрик.\n",
        "\n",
        "Есть различные подходы к подобному объединению. В sklearn'е реализовано два варианта.\n",
        "\n",
        "1. С помощью простого среднего арифметического\n",
        "2. С помощью взвешенного среднего арифметического"
      ],
      "metadata": {
        "id": "gLiYK1SpThWw"
      }
    },
    {
      "cell_type": "code",
      "source": [
        "# Расчет метрик через среднее арифметическое (_1)\n",
        "precision_1 = (precision_class_p + precision_class_m) / 2\n",
        "recall_1 = (recall_class_p + recall_class_m) / 2\n",
        "print(f'precision (ср. ариф.) {precision_1}')\n",
        "print(f'recall (ср. ариф.)    {recall_1}')\n",
        "\n",
        "# Расчет метрик через среднее арифметическое взвешенное (_2)\n",
        "precision_2 = (precision_class_p * sum(cm[0]) + precision_class_m * sum(cm[1])) / len(y_test)\n",
        "recall_2 = (recall_class_p * sum(cm[0]) + recall_class_m * sum(cm[1]))  / len(y_test)\n",
        "print(f'precision (ср. ариф. взв.) {precision_2}')\n",
        "print(f'recall (ср. ариф. взв.)    {recall_2}')"
      ],
      "metadata": {
        "colab": {
          "base_uri": "https://localhost:8080/"
        },
        "id": "XN7jStwfTiXe",
        "outputId": "492fac2f-971e-432c-de57-e557c5164c34"
      },
      "execution_count": null,
      "outputs": [
        {
          "output_type": "stream",
          "name": "stdout",
          "text": [
            "precision (ср. ариф.) 0.9736842105263157\n",
            "recall (ср. ариф.)    0.9722222222222222\n",
            "precision (ср. ариф. взв.) 0.9736842105263158\n",
            "recall (ср. ариф. взв.)    0.9722222222222222\n"
          ]
        }
      ]
    },
    {
      "cell_type": "markdown",
      "source": [
        "## Метрика f1-score"
      ],
      "metadata": {
        "id": "HGwgBA53UiWq"
      }
    },
    {
      "cell_type": "markdown",
      "source": [
        "Метрика f1-score является средним гармоническим между presicion и recall и расчитывается по формуле:\n",
        "\n",
        "\n",
        "$f1 = 2 * \\frac{recall *precision}{recall + precision}$\n",
        "\n",
        "По аналогии метрика f1-score расчитывается для каждого класса отдельно, а затем через среднее арифметическое (простое или взвешанное) получается финальный результат"
      ],
      "metadata": {
        "id": "0s2lngECUd4j"
      }
    },
    {
      "cell_type": "code",
      "source": [
        "# Расчет f1_score для класса пластик\n",
        "f1_class_p = 2 * (precision_class_p * recall_class_p) / (precision_class_p + recall_class_p)\n",
        "\n",
        "# Расчет f1_score для класса металл\n",
        "f1_class_m = 2 * (precision_class_m * recall_class_m) / (precision_class_m + recall_class_m)\n",
        "\n",
        "print(f1_class_p)\n",
        "print(f1_class_m)"
      ],
      "metadata": {
        "colab": {
          "base_uri": "https://localhost:8080/"
        },
        "id": "-wgVHTWdUsAW",
        "outputId": "c74b3b1a-9f9c-4ecb-f05f-e49610577f96"
      },
      "execution_count": null,
      "outputs": [
        {
          "output_type": "stream",
          "name": "stdout",
          "text": [
            "0.9714285714285714\n",
            "0.972972972972973\n"
          ]
        }
      ]
    },
    {
      "cell_type": "code",
      "source": [
        "# Расчет f1-score через среднее арифметическое\n",
        "f1_score_1 = (f1_class_p + f1_class_m) / 2\n",
        "\n",
        "# Расчет f1-score через среднее арифметическое взвешенное\n",
        "f1_score_2 = (f1_class_p *  sum(cm[0]) + f1_class_m  * sum(cm[1])) / len(y_test)\n",
        "\n",
        "print(f1_score_1)\n",
        "print(f1_score_2)"
      ],
      "metadata": {
        "colab": {
          "base_uri": "https://localhost:8080/"
        },
        "id": "4F2BxeX8VXFo",
        "outputId": "5747a0ac-5fdc-4b5a-d539-1db21603d694"
      },
      "execution_count": null,
      "outputs": [
        {
          "output_type": "stream",
          "name": "stdout",
          "text": [
            "0.9722007722007722\n",
            "0.9722007722007723\n"
          ]
        }
      ]
    },
    {
      "cell_type": "markdown",
      "source": [
        "## *Метод `precision_recall_fscore_support`*"
      ],
      "metadata": {
        "id": "uVlOBubAVob_"
      }
    },
    {
      "cell_type": "markdown",
      "source": [
        "Расчет метрик можно выполнить с помощью готового метода библиотеки sclearn"
      ],
      "metadata": {
        "id": "teRLD5a4OsIL"
      }
    },
    {
      "cell_type": "code",
      "source": [
        "# Импорт метода расчета метрик\n",
        "from sklearn.metrics import precision_recall_fscore_support\n",
        "\n",
        "import numpy as np\n",
        "\n",
        "# Получение предсказанных значений модели для тестового набора данных\n",
        "y_pred = model.predict(test_a_generator)\n",
        "# y_pred = model.predict(X_test)\n",
        "\n",
        "y_pred = np.round(y_pred).flatten()                    # округление до целых чисел и преобразование в одномерный массив\n",
        "\n",
        "# Получение истинных значений тестового набора данных\n",
        "y_test = test_a_generator.classes\n",
        "# y_test = Y_test\n",
        "\n",
        "# Параметр average задает способ получения финального значения метрик:\n",
        "# 'macro'    - расчет через простое среднее арифметическое\n",
        "# 'weighted' - расчет с помощью взвешанного среднего арифметического\n",
        "metrics = precision_recall_fscore_support(y_test, y_pred, average='macro')\n",
        "\n",
        "print(metrics)\n",
        "print()\n",
        "print(f'precision: {metrics[0]}')\n",
        "print(f'recall:    {metrics[1]}')\n",
        "print(f'f1_score:  {metrics[2]}')"
      ],
      "metadata": {
        "colab": {
          "base_uri": "https://localhost:8080/"
        },
        "id": "sSLEAOZtM4fy",
        "outputId": "73010724-2af5-4110-d230-384dd76058f2"
      },
      "execution_count": null,
      "outputs": [
        {
          "output_type": "stream",
          "name": "stdout",
          "text": [
            "4/4 [==============================] - 8s 2s/step\n",
            "(0.9821428571428572, 0.9814814814814814, 0.9814751286449399, None)\n",
            "precision: 0.9821428571428572\n",
            "recall:    0.9814814814814814\n",
            "f1_score:  0.9814751286449399\n"
          ]
        }
      ]
    }
  ]
}