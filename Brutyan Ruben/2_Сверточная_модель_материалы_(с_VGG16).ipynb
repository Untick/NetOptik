{
  "nbformat": 4,
  "nbformat_minor": 0,
  "metadata": {
    "colab": {
      "provenance": [],
      "toc_visible": true,
      "include_colab_link": true
    },
    "kernelspec": {
      "name": "python3",
      "display_name": "Python 3"
    },
    "language_info": {
      "name": "python"
    }
  },
  "cells": [
    {
      "cell_type": "markdown",
      "metadata": {
        "id": "view-in-github",
        "colab_type": "text"
      },
      "source": [
        "<a href=\"https://colab.research.google.com/github/Untick/NetOptik/blob/main/Brutyan%20Ruben/2_%D0%A1%D0%B2%D0%B5%D1%80%D1%82%D0%BE%D1%87%D0%BD%D0%B0%D1%8F_%D0%BC%D0%BE%D0%B4%D0%B5%D0%BB%D1%8C_%D0%BC%D0%B0%D1%82%D0%B5%D1%80%D0%B8%D0%B0%D0%BB%D1%8B_(%D1%81_VGG16).ipynb\" target=\"_parent\"><img src=\"https://colab.research.google.com/assets/colab-badge.svg\" alt=\"Open In Colab\"/></a>"
      ]
    },
    {
      "cell_type": "markdown",
      "source": [
        "Папки для 2-х классов цветных изображений (0 - комбинированные, 1 - металл, 2 - пластик)"
      ],
      "metadata": {
        "id": "lT2nukTX4ZJe"
      }
    },
    {
      "cell_type": "code",
      "source": [
        "!mkdir '/content/drive/MyDrive/НетОптик/Dataset/'           # создаём папку Dataset\n",
        "!mkdir '/content/drive/MyDrive/НетОптик/Dataset/train'      # создаём папку train - обучающие фото\n",
        "!mkdir '/content/drive/MyDrive/НетОптик/Dataset/test'       # создаём папку test - тестовые фото"
      ],
      "metadata": {
        "id": "5N9eYEjnPSou",
        "colab": {
          "base_uri": "https://localhost:8080/"
        },
        "outputId": "5b1356e0-ac3e-4fb2-f0a7-844e8f69522f"
      },
      "execution_count": null,
      "outputs": [
        {
          "output_type": "stream",
          "name": "stdout",
          "text": [
            "mkdir: cannot create directory ‘/content/drive/MyDrive/НетОптик/Dataset/’: File exists\n",
            "mkdir: cannot create directory ‘/content/drive/MyDrive/НетОптик/Dataset/train’: File exists\n",
            "mkdir: cannot create directory ‘/content/drive/MyDrive/НетОптик/Dataset/test’: File exists\n"
          ]
        }
      ]
    },
    {
      "cell_type": "markdown",
      "source": [
        "Проверяем текущее местоположение"
      ],
      "metadata": {
        "id": "OydjcaJ2pZh8"
      }
    },
    {
      "cell_type": "code",
      "source": [
        "print(\"Текущее местоположение:\")\n",
        "!pwd\n",
        "\n",
        "print(\"\\nСодержание папки Dataset:\")\n",
        "! ls --format=single-column /content/drive/MyDrive/НетОптик/Dataset"
      ],
      "metadata": {
        "colab": {
          "base_uri": "https://localhost:8080/"
        },
        "id": "_5wChWB4O2iI",
        "outputId": "54548162-46a2-4142-912a-5d6ddbc8c855"
      },
      "execution_count": null,
      "outputs": [
        {
          "output_type": "stream",
          "name": "stdout",
          "text": [
            "Текущее местоположение:\n",
            "/content\n",
            "\n",
            "Содержание папки Dataset:\n",
            "DS_2classes\n",
            "DS_3classes\n"
          ]
        }
      ]
    },
    {
      "cell_type": "markdown",
      "source": [
        "# Загрузка библиотек"
      ],
      "metadata": {
        "id": "m9crjDtmLbML"
      }
    },
    {
      "cell_type": "code",
      "source": [
        "import os # Для работы с файлами\n",
        "\n",
        "import numpy as np\n",
        "\n",
        "from tensorflow.keras.models import Sequential                                                                 # абстрактный класс базовой модели сети от keras\n",
        "from tensorflow.keras.layers import Input, Conv2D, MaxPooling2D, Flatten, Dense, Activation, Dropout, Flatten  # слои(нормализации, регуляризации и т.д)\n",
        "from tensorflow.keras.optimizers import Adam\n",
        "from tensorflow.keras.utils import to_categorical\n",
        "from tensorflow.keras import utils\n",
        "\n",
        "from tensorflow.keras.preprocessing.image import ImageDataGenerator                     # модуль ImageDataGenerator из библиотеки tensorflow\n",
        "\n",
        "import matplotlib.pyplot as plt     # для создания графиков и визуализаций в Python\n",
        "import random                       # для генерации случайных чисел\n",
        "from PIL import Image               # методы для отрисовки изображений, обработки и манипулирования изображениями\n",
        "\n",
        "from tensorflow.keras.preprocessing import image"
      ],
      "metadata": {
        "id": "On-VEoruLesC"
      },
      "execution_count": null,
      "outputs": []
    },
    {
      "cell_type": "markdown",
      "source": [
        "# Начальные данные:"
      ],
      "metadata": {
        "id": "MldyMMarlETZ"
      }
    },
    {
      "cell_type": "markdown",
      "source": [
        "## Определение переменных"
      ],
      "metadata": {
        "id": "Cia0sC7s77bF"
      }
    },
    {
      "cell_type": "code",
      "source": [
        "# Параметры для ImageDataGenerator:\n",
        "batch_size = 32\n",
        "img_height = 450\n",
        "img_width = 675\n",
        "\n",
        "# Пути к папкам Train/Test\n",
        "train_dir = '/content/drive/MyDrive/НетОптик/Dataset/DS_2classes/train'\n",
        "test_dir = '/content/drive/MyDrive/НетОптик/Dataset/DS_2classes/test'\n",
        "test_dir_a = '/content/drive/MyDrive/НетОптик/Dataset/DS_2classes/augment'      # Путь к папке augment с аугментированными Test изображениями\n",
        "\n",
        "# Пути к классам Train/Test\n",
        "TRAIN_IMAGE_PATH_1p = f'{train_dir}/class_1p'\n",
        "TRAIN_IMAGE_PATH_2m = f'{train_dir}/class_2m'\n",
        "TEST_IMAGE_PATH_1p = f'{test_dir}/class_1p'\n",
        "TEST_IMAGE_PATH_2m = f'{test_dir}/class_2m'\n",
        "TEST_IMAGE_PATH_1p_a = f'{test_dir_a}/class_1p'                                 # Пути к классам аугментированных Test\n",
        "TEST_IMAGE_PATH_2m_a = f'{test_dir_a}/class_2m'\n",
        "\n",
        "# Список имен классов для Train/Test\n",
        "TRAIN_CLASS_LIST = sorted(os.listdir(train_dir))\n",
        "TEST_CLASS_LIST = sorted(os.listdir(test_dir))\n",
        "TEST_CLASS_LIST_a = sorted(os.listdir(test_dir_a))                              # Список имен классов для аугментированных Test\n",
        "\n",
        "# Количество классов для Train/Test\n",
        "TRAIN_CLASS_COUNT = len(TRAIN_CLASS_LIST)\n",
        "TEST_CLASS_COUNT = len(TEST_CLASS_LIST)\n",
        "TEST_CLASS_COUNT_a = len(TEST_CLASS_LIST_a)                                     # Количество классов для аугментированных Test\n",
        "\n",
        "# Количество изображений из всех классов для Train/Test\n",
        "train_samples = len(os.listdir(TRAIN_IMAGE_PATH_1p)) + len(os.listdir(TRAIN_IMAGE_PATH_2m))\n",
        "test_samples = len(os.listdir(TEST_IMAGE_PATH_1p)) + len(os.listdir(TEST_IMAGE_PATH_2m))\n",
        "test_samples_a = len(os.listdir(TEST_IMAGE_PATH_1p_a)) + len(os.listdir(TEST_IMAGE_PATH_2m_a))  # Количество изображений из всех классов для аугментированных Test\n",
        "\n",
        "# Размерность тензора на основе изображения для входных данных в нейронную сеть (выбираем вид backend Tensorflow, channels_last)\n",
        "input_shape = (img_height, img_width, 3)\n",
        "\n",
        "# Процент отводимый на валидацию от общего количества обучающей Train выборки\n",
        "validation_split = 0.2"
      ],
      "metadata": {
        "id": "XuVlFzHyyQzI"
      },
      "execution_count": null,
      "outputs": []
    },
    {
      "cell_type": "markdown",
      "source": [
        "### **Проверка:**"
      ],
      "metadata": {
        "id": "B3WubMKcejbg"
      }
    },
    {
      "cell_type": "markdown",
      "source": [
        "### *Нач. переменных*"
      ],
      "metadata": {
        "id": "NtNQZ-A0L-8b"
      }
    },
    {
      "cell_type": "code",
      "source": [
        "# Проверка результата\n",
        "print(f'Подпапки для обучения train_dir: {os.listdir(train_dir)}')\n",
        "print(f'Подпапки для проверки test_dir: {os.listdir(test_dir)}\\n')\n",
        "print(f'Метки обучающих классов TRAIN_CLASS_LIST: {TRAIN_CLASS_LIST}')\n",
        "print(f'Метки проверочных классов TEST_CLASS_LIST: {TEST_CLASS_LIST}\\n')\n",
        "print(f'Количество обучающих классов TRAIN_CLASS_COUNT: {TRAIN_CLASS_COUNT}')\n",
        "print(f'Количество проверочных классов TEST_CLASS_COUNT: {TEST_CLASS_COUNT}\\n')\n",
        "print(f\"Количество Train-изображений из всех классов: {train_samples}\")\n",
        "print(f\"Количество Test-изображений из всех классов: {test_samples}\")\n",
        "print(f\"Количество Test-аугментированный изображений из всех классов: {test_samples_a}\")"
      ],
      "metadata": {
        "colab": {
          "base_uri": "https://localhost:8080/"
        },
        "id": "Ok1Z4v5CL455",
        "outputId": "794dd17b-9315-467f-91c1-462dd4ec9d0d"
      },
      "execution_count": null,
      "outputs": [
        {
          "output_type": "stream",
          "name": "stdout",
          "text": [
            "Подпапки для обучения train_dir: ['class_1p', 'class_2m']\n",
            "Подпапки для проверки test_dir: ['class_1p', 'class_2m']\n",
            "\n",
            "Метки обучающих классов TRAIN_CLASS_LIST: ['class_1p', 'class_2m']\n",
            "Метки проверочных классов TEST_CLASS_LIST: ['class_1p', 'class_2m']\n",
            "\n",
            "Количество обучающих классов TRAIN_CLASS_COUNT: 2\n",
            "Количество проверочных классов TEST_CLASS_COUNT: 2\n",
            "\n",
            "Количество Train-изображений из всех классов: 800\n",
            "Количество Test-изображений из всех классов: 36\n",
            "Количество Test-аугментированный изображений из всех классов: 144\n"
          ]
        }
      ]
    },
    {
      "cell_type": "markdown",
      "source": [
        "### *Имена файлов картинок*"
      ],
      "metadata": {
        "id": "yMRcZ19Hzzlk"
      }
    },
    {
      "cell_type": "code",
      "source": [
        "# Список файлов для каждого класса Train\n",
        "print(\"Подпапки в папке Train для обучения:\")\n",
        "for train_name_folder in TRAIN_CLASS_LIST:\n",
        "  train_file_name = os.listdir(f'{train_dir}/{train_name_folder}/')\n",
        "  print(f'\\nВ папке \"{train_name_folder}\" всего {len(train_file_name)} картинок:\\n{train_file_name}')\n",
        "\n",
        "# Список файлов для каждого класса Test\n",
        "print(\"\\nПодпапки в папке Test для проверки:\")\n",
        "for test_name_folder in TEST_CLASS_LIST:\n",
        "  test_file_name = os.listdir(f'{test_dir}/{test_name_folder}/')\n",
        "  print(f'\\nВ папке \"{test_name_folder}\" всего {len(test_file_name)} картинок:\\n{test_file_name}')"
      ],
      "metadata": {
        "colab": {
          "base_uri": "https://localhost:8080/"
        },
        "id": "VIpZwIW2T7yN",
        "outputId": "2450ba0a-eb65-4706-cc61-0c1a3bdff451"
      },
      "execution_count": null,
      "outputs": [
        {
          "output_type": "stream",
          "name": "stdout",
          "text": [
            "Подпапки в папке Train для обучения:\n",
            "\n",
            "В папке \"class_1p\" всего 400 картинок:\n",
            "['baldessarini-b5103-b-s2-2 (1).jpg', 'baldessarini-b5103-b-s2-1 (2).jpg', 'carrera-ca6167-t29-s2-2 (1).jpg', 'carrera-ca6172-87u-s2-2 (5).jpg', 'carrera-ca6172-87u-s2-2 (6).jpg', 'carrera-ca6192-8c0-s2-2 (5).jpg', 'carrera-ca6609-dhr-s2-2 (1).jpg', 'carrera-ca6167-t29-s2-1 (2).jpg', 'carrera-ca6609-dhr-s2-1 (2).jpg', 'giorgio-armani-ga889-807-s2-2 (2).jpg', 'giorgio-armani-ga936-086-s2-2 (2).jpg', 'giorgio-armani-ga936-086-s2-1 (3).jpg', 'giorgio-armani-ga936-807-s2-2 (3).jpg', 'giorgio-armani-ga936-807-s2-1 (4).jpg', 'giorgio-armani-ga938-807-s2-2 (2).jpg', 'giorgio-armani-ga938-807-s2-1 (3).jpg', 'giorgio-armani-ga941-086-s2-2 (2).jpg', 'giorgio-armani-ga941-086-s2-1 (3).jpg', 'giorgio-armani-ga965-7c5-s2-2 (2).jpg', 'giorgio-armani-ga965-7c5-s2-1 (3).jpg', 'giorgio-armani-ga970-807-s2-2 (2).jpg', 'giorgio-armani-ga970-807-s2-1 (3).jpg', 'giorgio-armani-ar7065q-5029-s2-2 (2).jpg', 'giorgio-armani-ar7065q-5029-s2-1 (3).jpg', 'giorgio-armani-ga889-807-s2-1 (3).jpg', 'giorgio-armani-ga889-fqr-s2-2 (2).jpg', 'giorgio-armani-ga889-fqr-s2-1 (3).jpg', 'giorgio-armani-ga890-xzw-s2-2 (2).jpg', 'giorgio-armani-ga890-xzw-s2-1 (3).jpg', 'giorgio-armani-ga897-v53-s2-2 (2).jpg', 'giorgio-armani-ga897-v53-s2-1 (3).jpg', 'chopard-vch078-722-s2-1 (3).jpg', 'caractere-ct439-blkw-s2-2 (2).jpg', 'caractere-ct448-ha-s2-2 (2).jpg', 'caractere-ct448-ha-s2-1 (3).jpg', 'caractere-ctv06-c6-s2-2 (2).jpg', 'caractere-ctv06-c6-s2-1 (3).jpg', 'caractere-ct448-blk-s2-2 (2).jpg', 'caractere-ct448-blk-s2-1 (3).jpg', 'caractere-ct392-vi-s2-2 (2).jpg', 'caractere-ct392-vi-s2-1 (3).jpg', 'caractere-ct449-ha-s2-2 (2).jpg', 'caractere-ct449-ha-s2-1 (3).jpg', 'caractere-ct439-blkw-s2-1 (3).jpg', 'caractere-ct449-br-s2-2 (2).jpg', 'caractere-ct449-br-s2-1 (3).jpg', 'fendi-ff0008-7ri-s2-2 (2).jpg', 'fendi-ff0008-7ri-s2-1 (3).jpg', 'fendi-ff0011-7sp-s2-2 (2).jpg', 'fendi-ff0011-7sp-s2-1 (3).jpg', 'fendi-ff0023-7uu-s2-2 (2).jpg', 'fendi-ff0023-7uu-s2-1 (3).jpg', 'givenchy-vgv859-700-s2-2 (2).jpg', 'givenchy-vgv859-700-s2-1 (3).jpg', 'givenchy-vgv864-apu-s2-2 (2).jpg', 'givenchy-vgv864-apu-s2-1 (3).jpg', 'christian-dior-cd3199-q0n-s2-2 (2).jpg', 'christian-dior-cd3199-q0n-s2-1 (3).jpg', 'christian-dior-cd3216-o6l-s2-2 (2).jpg', 'christian-dior-cd3216-o6l-s2-1 (3).jpg', 'christian-dior-cd3202-q26-s2-2 (2).jpg', 'christian-dior-cd3202-q26-s2-1 (3).jpg', 'christian-dior-cd3219-gca-s2-2 (2).jpg', 'christian-dior-cd3219-gca-s2-1 (3).jpg', 'christian-dior-cd3221-gf9-s2-2 (2).jpg', 'christian-dior-cd3221-gf9-s2-1 (3).jpg', 'christian-dior-cd3227-vh7-s2-2 (2).jpg', 'christian-dior-cd3227-vh7-s2-1 (3).jpg', 'christian-dior-cd3229-xli-s2-2 (2).jpg', 'christian-dior-cd3229-xli-s2-1 (3).jpg', 'christian-dior-cd3229-dzd-s2-2 (2).jpg', 'christian-dior-cd3229-dzd-s2-1 (3).jpg', 'christian-dior-cd3233-ay1-s2-2 (2).jpg', 'christian-dior-cd3233-ay1-s2-1 (3).jpg', 'christian-dior-cd3234-ay1-s2-32(2).jpg', 'christian-dior-cd3234-ay1-s2-1 (3).jpg', 'christian-dior-cd3249-sl3-s2-2 (2).jpg', 'christian-dior-cd3249-sl3-s2-1 (3).jpg', 'christian-dior-cd3252-305-s2-2 (2).jpg', 'christian-dior-cd3252-305-s2-1 (3).jpg', 'christian-dior-cd3286-6ml-s2-2 (2).jpg', 'christian-dior-cd3286-6ml-s2-1 (3).jpg', 'christian-dior-cd3286-6ly-s2-2 (2).jpg', 'christian-dior-cd3286-6ly-s2-1 (3).jpg', 'christian-dior-blacktie-168-edv-s2-2 (2).jpg', 'christian-dior-blacktie-168-edv-s2-1 (3).jpg', 'christian-dior-dior0193-98u-s2-2 (2).jpg', 'christian-dior-dior0193-98u-s2-1 (3).jpg', 'gucci-gg1052-807-s2-1 (3).jpg', 'gucci-gg1052-807-s2-2 (2).jpg', 'gucci-gg1070-rpc-s2-2 (5).jpg', 'gucci-gg1070-rpc-s2-2 (6).jpg', 'gucci-gg1071-5cm-s2-2 (2).jpg', 'gucci-gg1071-5cm-s2-1 (3).jpg', 'gucci-gg3095-v08-s2-2 (2).jpg', 'gucci-gg3095-v08-s2-1 (3).jpg', 'gucci-gg3184-sgr-s2-2 (2).jpg', 'gucci-gg3184-sgr-s2-1 (3).jpg', 'gucci-gg3567-w9b-s2-2 (2).jpg', 'gucci-gg3567-w9b-s2-1 (3).jpg', 'gucci-gg3607-807-s2-2 (2).jpg', 'gucci-gg3607-807-s2-1 (3).jpg', 'gucci-gg3608-6f4-s2-2 (2).jpg', 'gucci-gg3608-6f4-s2-1 (3).jpg', 'gucci-gg3625-6f4-s2-1 (3).jpg', 'gucci-gg3625-6es-s2-2 (2).jpg', 'gucci-gg3625-6es-s2-1 (3).jpg', 'balenciaga-bal0077-bg4-s2-2 (2).jpg', 'balenciaga-bal0077-bg4-s2-1 (3).jpg', 'balenciaga-bal0078-05l-s2-2 (2).jpg', 'balenciaga-bal0078-05l-s2-1 (3).jpg', 'balenciaga-bal0111-doq-s2-2 (2).jpg', 'balenciaga-bal0111-doq-s2-1 (3).jpg', 'balenciaga-bal0111-rkl-s2-2 (2).jpg', 'balenciaga-bal0111-rkl-s2-1 (3).jpg', 'balenciaga-bal0112-rkl-s2-2 (2).jpg', 'balenciaga-bal0112-rkl-s2-1 (3).jpg', 'balenciaga-bal0112-086-s2-2 (2).jpg', 'balenciaga-bal0112-086-s2-1 (3).jpg', 'balenciaga-bal0113-4py-s2-1 (2).jpg', 'balenciaga-bal0113-4py-s2-1 (3).jpg', 'balenciaga-bal0113-kbb-s2-2 (2).jpg', 'balenciaga-bal0113-kbb-s2-1 (3).jpg', 'balenciaga-bal0135-807-s2-2 (2).jpg', 'balenciaga-bal0135-807-s2-1 (3).jpg', 'balenciaga-bal0137-69r-s2-2 (2).jpg', 'balenciaga-bal0137-69r-s2-1 (3).jpg', 'alexander-mcqueen-amq4165-086-s2-2 (2).jpg', 'alexander-mcqueen-amq4165-086-s2-1 (3).jpg', 'alexander-mcqueen-amq4185-wcr-s2-2 (2).jpg', 'alexander-mcqueen-amq4185-wcr-s2-1 (3).jpg', 'alexander-mcqueen-amq4205-f45-s2-2 (1).jpg', 'alexander-mcqueen-amq4205-f45-s2-1 (2).jpg', 'carrera-ca6167-t29-s2-2 (2).jpg', 'carrera-ca6167-t29-s2-1 (3).jpg', 'carrera-ca6173-87u-s2-2 (2).jpg', 'carrera-ca6173-87u-s2-1 (3).jpg', 'carrera-ca6192-8c0-s2-2 (2).jpg', 'carrera-ca6192-8c0-s2-1 (3).jpg', 'carrera-ca6609-dhr-s2-2 (2).jpg', 'carrera-ca6609-dhr-s2-1 (3).jpg', 'carrera-ca6610-807-s2-2 (2).jpg', 'carrera-ca6610-807-s2-1 (3).jpg', 'carrera-ca6170-85o-s2-2 (2).jpg', 'carrera-ca6170-85o-s2-1 (3).jpg', 'fendi-ff0020-coi-s2-2 (2).jpg', 'fendi-ff0020-coi-s2-1 (3).jpg', 'dior-homme-blacktie198-fb8-s2-2 (2).jpg', 'dior-homme-blacktie198-fb8-s2-1 (3).jpg', 'dior-homme-blacktie204-g6i-s2-2 (2).jpg', 'dior-homme-blacktie204-g6i-s2-1 (3).jpg', 'christian-dior-montaigne4-g7j-s2-2 (2).jpg', 'christian-dior-montaigne4-g7j-s2-1 (3).jpg', 'christian-dior-cd3284-807-s2-2 (2).jpg', 'christian-dior-cd3284-807-s2-1 (3).jpg', 'gucci-gg1077-jwp-s2-2 (2).jpg', 'gucci-gg1077-jwp-s2-1 (3).jpg', 'christian-dior-cd3285-6nh-s2-2 (2).jpg', 'christian-dior-cd3285-6nh-s2-1 (3).jpg', 'gucci-gg1070-qe8-s2-2 (2).jpg', 'gucci-gg1070-qe8-s2-1 (3).jpg', 'gucci-gg1092-d28-s2-1 (2).jpg', 'gucci-gg1092-d28-s2-1 (3).jpg', 'balenciaga-bal5021-096-s2-2 (2).jpg', 'balenciaga-bal5021-096-s2-1 (3).jpg', 'balenciaga-bal5027-20a-s2-2 (2).jpg', 'balenciaga-bal5027-20a-s2-1 (3).jpg', 'emilio-pucci-ep5019-074-s2-2 (2).jpg', 'emilio-pucci-ep5019-074-s2-1 (3).jpg', 'giorgio-armani-ar7068-5358-s2-2 (2).jpg', 'giorgio-armani-ar7068-5358-s2-1 (3).jpg', 'givenchy-vgv868-06ua-s2-2 (2).jpg', 'givenchy-vgv868-06ua-s2-1 (3).jpg', 'givenchy-vgv890-2arn-s2-2 (2).jpg', 'givenchy-vgv890-2arn-s2-1 (3).jpg', 'givenchy-vgv890-0700-s2-2 (2).jpg', 'givenchy-vgv890-0700-s2-1 (3).jpg', 'adidas-ah57-6056-s2-2 (2).jpg', 'adidas-ah57-6056-s2-1 (3).jpg', 'boss-hugo-boss-boss0641-hrm-s2-2 (2).jpg', 'boss-hugo-boss-boss0641-hrm-s2-1 (3).jpg', 'boss-hugo-boss-boss0643-hxe-s2-2 (2).jpg', 'boss-hugo-boss-boss0643-hxe-s2-1 (3).jpg', 'boss-orange-bo0172-zlm-s2-2 (2).jpg', 'boss-orange-bo0172-zlm-s2-1 (3).jpg', 'boss-orange-bo0173-zlm-s2-2 (2).jpg', 'boss-orange-bo0173-zlm-s2-1 (3).jpg', 'boss-orange-bo0024-af6-s2-2 (2).jpg', 'boss-orange-bo0024-af6-s2-1 (3).jpg', 'emilio-pucci-ep2713-210-s2-2 (2).jpg', 'emilio-pucci-ep2713-210-s2-1 (3).jpg', 'emilio-pucci-ep2699-244-s2-2 (2).jpg', 'emilio-pucci-ep2699-244-s2-1 (3).jpg', 'emilio-pucci-ep2690-278-s2-2 (2).jpg', 'emilio-pucci-ep2690-278-s2-1 (3).jpg', 'emilio-pucci-ep2696-504-s2-2 (2).jpg', 'emilio-pucci-ep2696-504-s2-1 (3).jpg', 'dosuno-street-l-du125432-s2-2 (2).jpg', 'dosuno-street-l-du125432-s2-1 (1).jpg', 'dosuno-street-l-du125432-s2-3 (2).jpg', 'dosuno-urban-du145101-s2-2 (3).jpg', 'dosuno-urban-du145101-s2-1 (4).jpg', 'andy-wolf-4449-g-s2-2 (2).jpg', 'andy-wolf-4449-g-s2-1 (3).jpg', 'andy-wolf-4470-h-s2-2 (2).jpg', 'andy-wolf-4470-h-s2-1 (3).jpg', 'gucci-gg1139-d28-s2-2 (2).jpg', 'gucci-gg1139-d28-s2-1 (3).jpg', 'gucci-gg1081-wr9-s2-2 (2).jpg', 'gucci-gg1081-wr9-s2-1 (3).jpg', 'gucci-gg1160-vm8-s2-2 (2).jpg', 'gucci-gg1160-vm8-s2-1 (3).jpg', 'gucci-gg1152-d28-s2-2 (2).jpg', 'gucci-gg1152-d28-s2-1 (3).jpg', 'gucci-gg1152-dl5-s2-2 (2).jpg', 'gucci-gg1152-dl5-s2-1 (3).jpg', 'dosuno-urban-du145180-s2-1 (3).jpg', 'dosuno-urban-du145180-s2-2 (2).jpg', 'dosuno-urban-du225201-s2-2 (2).jpg', 'dosuno-urban-du225201-s2-1 (3).jpg', 'balenciaga-ba5060-020-s2-2 (2).jpg', 'balenciaga-ba5060-020-s2-1 (3).jpg', 'emilio-pucci-ep5031-071-s2-2 (2).jpg', 'emilio-pucci-ep5031-071-s2-1 (3).jpg', 'emilio-pucci-ep5012-092-s2-2 (2).jpg', 'emilio-pucci-ep5012-092-s2-1 (3).jpg', 'emilio-pucci-ep5022-093-s2-2 (2).jpg', 'emilio-pucci-ep5022-093-s2-1 (3).jpg', 'emilio-pucci-ep5058-090-s2-2 (2).jpg', 'emilio-pucci-ep5058-090-s2-1 (3).jpg', 'diesel-dl5062-050-s2-2 (2).jpg', 'diesel-dl5062-050-s2-1 (3).jpg', 'boss-hugo-boss-boss0771-qnx-s2-2 (5).jpg', 'boss-hugo-boss-boss0771-qnx-s2-1 (6).jpg', 'boss-orange-bo0173-zlm-s2-2 (26).jpg', 'boss-orange-bo0173-zlm-s2-1 (27).jpg', 'balmain-1030-03-s2-2 (2).jpg', 'balmain-1030-03-s2- (3).jpg', 'blue-bay-bb869-29a-s2-2 (4).jpg', 'blue-bay-bb869-29a-s2-1 (5).jpg', 'blue-bay-bb868-29a-s2-2 (7).jpg', 'blue-bay-bb868-29a-s2-1 (8).jpg', 'blue-bay-bb883-ruv-s2-2 (13).jpg', 'blue-bay-bb883-ruv-s2-1 (14).jpg', 'blue-bay-bb842-807-s2-2 (16).jpg', 'blue-bay-bb842-807-s2-1 (17).jpg', 'blue-bay-bb842-ok0-s2-2 (19).jpg', 'blue-bay-bb842-ok0-s2-1 (20).jpg', 'blue-bay-bb869-gps-s2-2 (2).jpg', 'blue-bay-bb869-gps-s2-1 (3).jpg', 'dsquared2-dq5225-005-s2-2 (13).jpg', 'dsquared2-dq5225-005-s2-1 (14).jpg', 'dsquared2-dq5230-001-s2-2 (16).jpg', 'dsquared2-dq5230-001-s2-1 (17).jpg', 'dsquared2-dq5230-090-s2-2 (19).jpg', 'dsquared2-dq5230-090-s2-1 (20).jpg', 'gant-ga3134-020-s2-2 (2).jpg', 'gant-ga3134-020-s2-1 (3).jpg', 'diesel-dl5230-001-s2-2 (4).jpg', 'diesel-dl5230-001-s2-1 (5).jpg', 'diesel-dl5029-052-s2-2 (7).jpg', 'diesel-dl5029-052-s2-1 (8).jpg', 'diesel-dl5263-052-s2-2 (10).jpg', 'diesel-dl5263-052-s2-1 (11).jpg', 'diesel-dl5229-001-s2-2 (13).jpg', 'diesel-dl5229-001-s2-1 (14).jpg', 'diesel-dl5255-001-s2-2 (16).jpg', 'diesel-dl5255-001-s2-1 (17).jpg', 'diesel-dl5250-052-s2-2 (19).jpg', 'diesel-dl5250-052-s2-1 (20).jpg', 'armani-exchange-ax3035-8194-s2-2 (7).jpg', 'armani-exchange-ax3035-8194-s2-1 (8).jpg', 'despada-ds776-c3-s2-2 (2).jpg', 'despada-ds776-c3-s2-1 (3).jpg', 'calvin-klein-ck5978-001-s2-2 (4).jpg', 'calvin-klein-ck5978-001-s2-1 (5).jpg', 'armani-exchange-ax3060-8029-s2-2 (2).jpg', 'armani-exchange-ax3060-8029-s2-1 (3).jpg', 'givenchy-gv0105-900-s2-2 (2).jpg', 'givenchy-gv0105-900-s2-1 (3).jpg', 'givenchy-gv0094-wta-s2-2 (2).jpg', 'givenchy-gv0094-wta-s2-1 (3).jpg', 'despada-ds857-c3-s2-2 (2).jpg', 'despada-ds857-c3-s2-1 (3).jpg', 'armani-exchange-ax3062-8294-s2-2 (4).jpg', 'armani-exchange-ax3062-8294-s2-1 (5).jpg', 'diesel-dl5295-090-s2-2 (2).jpg', 'diesel-dl5295-090-s2-1 (3).jpg', 'despada-ds818-c3-s2-2 (2).jpg', 'despada-ds818-c3-s2-1 (3).jpg', 'armani-exchange-ax3025-8178-s2-2 (4).jpg', 'armani-exchange-ax3025-8178-s2-1 (5).jpg', 'armani-exchange-ax3060-8029-s2-2 (10).jpg', 'armani-exchange-ax3060-8029-s2-1(11).jpg', 'carrera-1102-v-003-s2-2 (2).jpg', 'carrera-1102-v-003-s2-1 (3).jpg', 'armani-exchange-ax3059-8286-s2-1 (1).jpg', 'armani-exchange-ax3059-8286-s2-2 (3).jpg', 'adidas-sp5003-002-s2-2 (2).jpg', 'adidas-sp5003-002-s2-1 (3).jpg', 'adidas-or5005-026-s2-2 (2).jpg', 'adidas-or5005-026-s2-1 (3).jpg', 'armani-exchange-ax3073-8078-s2-1 (2).jpg', 'armani-exchange-ax3073-8078-s2-2 (1).jpg', 'armani-exchange-ax3085-8078-s2-1 (2).jpg', 'armani-exchange-ax3085-6168-s2-1 (2).jpg', 'armani-exchange-ax3085-8078-s2-2 (1).jpg', 'armani-exchange-ax3083u-8078-s2-2 (1).jpg', 'armani-exchange-ax3085-6168-s2-2 (1).jpg', 'armani-exchange-ax3083u-8078-s2-1 (2).jpg', 'armani-exchange-ax3085-8158-s2-2 (1).jpg', 'armani-exchange-ax3085-8158-s2-1 (2).jpg', 'despada-ds1048-c4-s2-1 (2).jpg', 'despada-ds1048-c3-s2-2 (1).jpg', 'despada-ds1048-c4-s2-2 (1).jpg', 'despada-ds1003-c3-s2-1 (2).jpg', 'despada-ds1048-c3-s2-1 (2).jpg', 'despada-ds1003-c3-s2-2 (1).jpg', 'despada-ds971-c1-s2-2 (1).jpg', 'despada-ds921-c1-s2-1 (2).jpg', 'despada-ds971-c1-s2-1 (2).jpg', 'despada-ds923-c1-s2-1 (2).jpg', 'despada-ds989-c2-s2-1 (5).jpg', 'despada-ds989-c2-s2-2 (4).jpg', 'despada-ds990-c3-s2-2 (1).jpg', 'despada-ds987-c02-s2-1 (2).jpg', 'despada-ds990-c3-s2-1 (2).jpg', 'despada-ds921-c1-s2-2 (1).jpg', 'despada-ds987-c02-s2-2 (1).jpg', 'despada-ds923-c1-s2-2 (1).jpg', 'despada-ds1005-c3-s2-2 (1).jpg', 'despada-ds1004-c3-s2-1 (2).jpg', 'despada-ds1047-c4-s2-2 (1).jpg', 'despada-ds1004-c3-s2-2 (1).jpg', 'despada-ds1047-c4-s2-1 (2).jpg', 'despada-ds1005-c2-s2-1 (2).jpg', 'despada-ds1005-c3-s2-1 (2).jpg', 'despada-ds1005-c2-s2-2 (1).jpg', 'despada-ds991-c2-s2-1 (2).jpg', 'despada-ds992-c4-s2-1 (2).jpg', 'despada-ds990-c2-s2-2 (1).jpg', 'despada-ds991-c2-s2-2 (1).jpg', 'despada-ds992-c4-s2-2 (1).jpg', 'despada-ds990-c2-s2-1 (2).jpg', 'armani-exchange-ax3072-8235-s2-1 (2).jpg', 'armani-exchange-ax3072-8235-s2-2 (3).jpg', 'dosuno-du205482-s2-1 (2).jpg', 'dosuno-du205482-s2-2 (3).jpg', 'dosuno-du125408-s2-1 (2).jpg', 'dosuno-du125408-s2-2 (3).jpg', 'dosuno-du335204-s2-1 (2).jpg', 'dosuno-du335204-s2-2 (3).jpg', 'calando-junior-trj16-c6-s2-1 (2).jpg', 'calando-junior-trj16-c6-s2-2 (3).jpg', 'calando-junior-trd06-c6-s2-1 (2).jpg', 'calando-junior-trd06-c6-s2-2 (3).jpg', 'calando-junior-trd09-c12-s2-2 (3).jpg', 'calando-junior-trd09-c12-s2-1 (2).jpg', 'calando-junior-trd21-c5-s2-1 (2).jpg', 'calando-junior-trd21-c5-s2-2 (3).jpg', 'calando-junior-trd21-c3-s2-1 (2).jpg', 'calando-junior-trd21-c3-s2-2 (3).jpg', 'calando-junior-trd01-c10-s2-1 (2).jpg', 'calando-junior-trd01-c10-s2-2 (3).jpg', 'calando-junior-trd12-c6-s2-1 (2).jpg', 'calando-junior-trd12-c6-s2-2 (3).jpg', 'calando-junior-trj12-c3-s2-1 (2).jpg', 'calando-junior-trj12-c3-s2-2 (3).jpg', 'calando-junior-trd06-c4-s2-1 (2).jpg', 'calando-junior-trd06-c4-s2-2 (3).jpg', 'calando-junior-trd21-c4-s2-1 (2).jpg', 'calando-junior-trd21-c4-s2-2 (1).jpg', 'barbie-kids-bbcl002-blk-s2-1 (1).jpg', 'barbie-kids-bbcl002-pnk-s2-1 (1).jpg', 'barbie-kids-bbcl001-pnk-s2-1 (1).jpg', 'barbie-kids-bbcl002-blk-s2-3 (2).jpg', 'barbie-kids-bbcl002-pnk-s2-3 (2).jpg', 'barbie-kids-bbcl001-pnk-s2-3 (2).jpg', 'filos-ff3042-07-s2-2 (2).jpg', 'filos-ff3042-07-s2-1 (1).jpg', 'barbie-kids-bbcl003-blk-s2-3 (4).jpg', 'barbie-kids-bbcl003-blk-s2-2 (3).jpg', 'fisher-price-fpcl005-ylw-s2-3 (3).jpg', 'fisher-price-fpcl005-ylw-s2-2 (2).jpg', 'fisher-price-fpm007-c12-s2-2 (2).jpg', 'fisher-price-fpvn009-ptl-s2-3 (3).jpg', 'fisher-price-fpvn019-ptl-s2-3 (3).jpg', 'fisher-price-fpvn020-blue-s2-3 (3).jpg', 'fisher-price-fpvn025-blk-s2-2 (2).jpg', 'fisher-price-fpvn018-gry-s2-2 (2).jpg', 'fisher-price-fpm007-c12-s2-3 (3).jpg', 'fisher-price-fpvn025-blk-s2-3 (3).jpg', 'fisher-price-fpvn009-ptl-s2-2 (2).jpg', 'fisher-price-fpvn020-blue-s2-2 (2).jpg', 'fisher-price-fpvn018-gry-s2-3 (3).jpg', 'fisher-price-fpvn016-blk-s2-2 (2).jpg', 'fisher-price-fpvn016-blk-s2-3 (3).jpg', 'fisher-price-fpvn019-ptl-s2-2 (2).jpg', 'fisher-price-fpvn019-blue-s2-1 (2).jpg', 'fisher-price-fpvn019-blue-s2-3 (3).jpg']\n",
            "\n",
            "В папке \"class_2m\" всего 400 картинок:\n",
            "['dario-martini-dm393-7-s2-1 (3).jpg', 'dario-martini-dm393-7-s2-2 (2).jpg', 'dario-martini-dm393-2-s2-2 (5).jpg', 'dario-martini-dm393-2-s2-1 (3).jpg', 'dario-martini-dm375-1-s2-2 (2).jpg', 'dario-martini-dm375-1-s2-1 (3).jpg', 'dario-martini-dm375-2-s2-2 (2).jpg', 'dario-martini-dm375-2-s2-1 (3).jpg', 'dario-martini-dm393-007-s2-2 (2).jpg', 'dario-martini-dm393-007-s2-1 (3).jpg', 'dario-martini-dm393-002-s2-2 (2).jpg', 'dario-martini-dm375-002-s2-2 (2).jpg', 'dario-martini-dm375-002-s2-1 (3).jpg', 'dario-martini-dm375-001-s2-2 (2).jpg', 'dario-martini-dm375-001-s2-1 (3).jpg', 'dario-martini-dm393-002-s2-1 (3).jpg', 'dario-martini-dm391-3-s2-2 (2).jpg', 'dario-martini-dm391-3-s2-1 (3).jpg', 'dario-martini-dm390-6-s2-2 (3).jpg', 'dario-martini-dm390-6-s2-1 (4).jpg', 'grand-5631-c1-s2-2 (2).jpg', 'grand-5631-c1-s2-1 (3).jpg', 'grand-5599-c2-s2-2 (2).jpg', 'grand-5599-c2-s2-1 (3).jpg', 'grand-5600-c6matt-s2-2 (2).jpg', 'grand-5600-c6matt-s2-1 (3).jpg', 'grand-5619-c6matt-s2-2 (2).jpg', 'grand-5619-c6matt-s2-1 (3).jpg', 'grand-5616-c1-s2-2 (2).jpg', 'grand-5616-c1-s2-1 (3).jpg', 'grand-5616-c3-s2-2 (2).jpg', 'grand-5616-c3-s2-1 (3).jpg', 'grand-5599-c3-s2-2 (2).jpg', 'grand-5599-c3-s2-1 (3).jpg', 'grand-5653-c6-s2-2 (8).jpg', 'grand-5653-c6-s2-1 (9).jpg', 'grand-5644-c3m-s2-1 (12).jpg', 'grand-5644-c3m-s2-2 (11).jpg', 'grand-5600-c3matt-s2-2 (14).jpg', 'grand-5600-c3matt-s2-1 (15).jpg', 'grand-5670-c3m-s2-2 (20).jpg', 'grand-5670-c3m-s2-1 (21).jpg', 'grand-5665-c5l-s2-2 (23).jpg', 'grand-5665-c5l-s2-1 (24).jpg', 'grand-5653-c2-s2-2 (26).jpg', 'grand-5653-c2-s2-1 (27).jpg', 'grand-5645-c3-s2-2 (29).jpg', 'grand-5645-c3-s2-1 (30).jpg', 'grand-5659-c6m-s2-2 (32).jpg', 'grand-5659-c6m-s2- (33).jpg', 'grand-5644-c1-s2-2 (35).jpg', 'grand-5644-c1-s2-1 (36).jpg', 'grand-5661-c3-s2-2 (38).jpg', 'grand-5661-c3-s2-1 (39).jpg', 'grand-5626-c6matt-s2-2 (41).jpg', 'grand-5626-c6matt-s2-1 (42).jpg', 'grand-5650-c3m-s2-2 (44).jpg', 'grand-5650-c3m-s2-1 (42).jpg', 'guess-gu2617-091-s2-2 (2).jpg', 'guess-gu2617-091-s2-1 (3).jpg', 'guess-gu2605-049-s2-2 (2).jpg', 'guess-gu2605-049-s2-1 (3).jpg', 'guess-gu1925-091-s2-2 (2).jpg', 'guess-gu1925-091-s2-1 (3).jpg', 'guess-gu1925-005-s2-2 (2).jpg', 'guess-gu1925-005-s2-1 (3).jpg', 'guess-gu2669-032-s2-2.jpg', 'guess-gu2669-032-s2-1.jpg', 'guess-gu2669-010-s2-1.jpg', 'guess-gu2669-010-s2-2.jpg', 'guess-gu2693-005-s2-1.jpg', 'guess-gu2693-005-s2-2.jpg', 'guess-gu2694-092-s2-2.jpg', 'guess-gu2694-092-s2-1.jpg', 'guess-gu2693-092-s2-2.jpg', 'guess-gu2693-092-s2-1.jpg', 'guess-gu2693-047-s2-1.jpg', 'guess-gu2693-047-s2-2.jpg', 'guess-gu2693-083-s2-2.jpg', 'guess-gu2693-083-s2-1.jpg', 'guess-gu2694-047-s2-1.jpg', 'guess-gu2694-047-s2-2.jpg', 'guess-gu2694-083-s2-2.jpg', 'guess-gu2694-083-s2-1.jpg', 'guess-gu2682-028-s2-1.jpg', 'guess-gu2682-028-s2-2.jpg', 'guess-gu2682-092-s2-2.jpg', 'guess-gu2682-092-s2-1.jpg', 'guess-gu3030-021-s2-2.jpg', 'guess-gu3030-021-s2-1.jpg', 'guess-gu2670-032-s2-2.jpg', 'guess-gu2670-032-s2-1.jpg', 'guess-gu2665-090-s2-1.jpg', 'guess-gu2665-090-s2-2.jpg', 'guess-gu3029-021-s2-2.jpg', 'guess-gu3029-021-s2-1.jpg', 'guess-gu2685-032-s2-1.jpg', 'guess-gu2685-032-s2-2.jpg', 'grand-5665-c5-s2-2 (2).jpg', 'grand-5665-c5-s2-1 (3).jpg', 'grand-5665-c1-s2-2 (5).jpg', 'grand-5665-c1-s2-1 (3).jpg', 'grand-5676-c6m-s2-2 (2).jpg', 'grand-5676-c6m-s2-1 (3).jpg', 'grand-5617-c3-s2-2 (2).jpg', 'grand-5617-c3-s2-1 (3).jpg', 'grand-5675-c6m-s2-2 (2).jpg', 'grand-5675-c6m-s2-1 (3).jpg', 'grand-5672-c6m-s2-2 (2).jpg', 'grand-5672-c6m-s2-1 (3).jpg', 'grand-5626-c6-mats2-2 (2).jpg', 'grand-5626-c6-mats2-1 (3).jpg', 'grand-5672-c3-s2-2 (2).jpg', 'grand-5672-c3-s2-1 (3).jpg', 'despada-ds768-c2-s2-2 (10).jpg', 'despada-ds768-c2-s2-1 (11).jpg', 'despada-ds732-c1-s2-2 (16).jpg', 'despada-ds732-c1-s2-1 (17).jpg', 'despada-ds764-c4-s2-2 (28).jpg', 'despada-ds764-c4-s2-1 (29).jpg', 'armani-exchange-ax1035-6112-s2-2 (16).jpg', 'armani-exchange-ax1035-6112-s2-1 (14).jpg', 'armani-exchange-ax1034-6103-s2-2 (16).jpg', 'armani-exchange-ax1034-6103-s2-1 (17).jpg', 'armani-exchange-ax1033-6103-s2-2 (4).jpg', 'armani-exchange-ax1033-6103-s2-1 (5).jpg', 'despada-ds812-c3-s2-2 (2).jpg', 'despada-ds812-c3-s2-1 (3).jpg', 'despada-ds804-c3-s2-2 (2).jpg', 'despada-ds804-c3-s2-1 (3).jpg', 'despada-ds802-c3-s2-2 (2).jpg', 'despada-ds802-c3-s2-1 (3).jpg', 'despada-ds804-c2-s2-2 (2).jpg', 'despada-ds804-c2-s2-1 (3).jpg', 'grand-5651-c2-s2-1 (3).jpg', 'grand-5651-c2-s2-2 (2).jpg', 'grand-5679-c3-s2-2 (2).jpg', 'grand-5679-c3-s2-1 (3).jpg', 'grand-5637-c3-s2-1 (3).jpg', 'grand-5637-c3-s2-2 (2).jpg', 'grand-5654-c6m-s2-2 (2).jpg', 'grand-5654-c6m-s2-1 (3).jpg', 'grand-5661-c1-s2-2 (2).jpg', 'grand-5661-c1-s2-1 (3).jpg', 'grand-5656-c3-s2-2 (2).jpg', 'grand-5656-c3-s2-1 (3).jpg', 'grand-5650-c1-s2-2 (2).jpg', 'grand-5650-c1-s2-1 (3).jpg', 'grand-5657-c6-s2-2 (2).jpg', 'grand-5657-c6-s2-1 (3).jpg', 'grand-5637-c6m-s2-2 (2).jpg', 'grand-5637-c6m-s2-1 (3).jpg', 'despada-ds882-c3-s2-2 (2).jpg', 'despada-ds882-c3-s2-1 (3).jpg', 'despada-ds810-c2-s2-2 (2).jpg', 'despada-ds810-c2-s2-1 (3).jpg', 'despada-ds806-c2-s2-2 (2).jpg', 'despada-ds806-c2-s2-1 (3).jpg', 'despada-ds847-c2-s2-2 (2).jpg', 'despada-ds847-c2-s2-1 (3).jpg', 'despada-ds846-c4-s2-2 (5).jpg', 'despada-ds871-c2-s2-3 (3).jpg', 'despada-ds871-c2-s2-3 (2).jpg', 'despada-ds762-c4-s2-1 (3).jpg', 'despada-ds762-c4-s2-2 (2).jpg', 'armani-exchange-ax1034-6103-s2-2 (13).jpg', 'armani-exchange-ax1034-6103-s2-1 (14).jpg', 'grand-5679-c5m-s2-2 (2).jpg', 'grand-5679-c5m-s2-1 (3).jpg', 'grand-5651-c1-s2-2 (2).jpg', 'grand-5651-c1-s2-1 (3).jpg', 'grand-5652-c3-s2-2 (2).jpg', 'grand-5652-c3-s2-1 (3).jpg', 'grand-8555-c6m-s2-2 (5).jpg', 'grand-8555-c6m-s2-1 (3).jpg', 'grand-5674-c1-s2-2 (2).jpg', 'grand-5674-c1-s2-1 (3).jpg', 'grand-5678-c3m-s2-2 (2).jpg', 'grand-5678-c3m-s2-1 (3).jpg', 'grand-5678-c6m-s2-2 (3).jpg', 'grand-5678-c6m-s2-1 (2).jpg', 'grand-5674-c2-s2-2 (5).jpg', 'grand-5674-c2-s2-1 (3).jpg', 'grand-5696-c12m-s2-2 (2).jpg', 'grand-5696-c12m-s2-1 (3) - копия.jpg', 'grand-5696-c12m-s2-1 (3).jpg', 'grand-5678-c6-s2-2 (3).jpg', 'grand-5678-c6-s2-1 (4).jpg', 'grand- 8555-c3m-s2-2(5).jpg', 'grand- 8555-c3m-s2-1(3).jpg', 'grand-5674-c3-s2-2 (2).jpg', 'grand-5674-c3-s2-1 (3).jpg', 'grand-5650-c3-s2-2 (2).jpg', 'grand-5650-c3-s2-1 (3).jpg', 'grand-5702-c3-s2-2 (2).jpg', 'grand-5702-c3-s2-1 (3).jpg', 'barton-ba0119-c2-s2-2 (2).jpg', 'barton-ba0119-c2-s2-1 (3).jpg', 'barton-ba0113-c3-s2-2 (2).jpg', 'barton-ba0113-c3-s2-1 (3).jpg', 'barton-ba0115-c6-s2-2 (2).jpg', 'barton-ba0115-c6-s2-1 (3).jpg', 'despada-ds846-c4-s2-2 (2).jpg', 'despada-ds846-c4-s2-1 (3).jpg', 'despada-ds846-c3-s2-2 (2).jpg', 'despada-ds846-c3-s2-1 (3).jpg', 'despada-ds842-c3-s2-2 (2).jpg', 'despada-ds842-c3-s2-1 (3).jpg', 'despada-ds764-c2-s2-2 (2).jpg', 'despada-ds764-c2-s2-1 (3).jpg', 'cerruti-cs6546-03-s2-2 (2).jpg', 'cerruti-cs6546-03-s2-1 (3).jpg', 'grand-5696-c6m-s2-2 (3).jpg', 'grand-5696-c6m-s2-1 (2).jpg', 'grand-5699-c6-s2-2 (2).jpg', 'grand-5699-c6-s2-1 (3).jpg', 'grand-5699-c3-s2-1 (3).jpg', 'grand-5699-c3-s2-2 (2).jpg', 'grand-5676-c1-s2-2 (2).jpg', 'grand-5676-c1-s2-1 (3).jpg', 'despada-ds875-c2-s2-2 (2).jpg', 'despada-ds875-c2-s2-1 (3).jpg', 'guess-gu2716-005-s2-2 (2).jpg', 'guess-gu2716-005-s2-1 (3).jpg', 'guess-gu2715-050-s2-1 (3).jpg', 'guess-gu2715-050-s2-2 (2).jpg', 'guess-gu2716-068-s2-1 (3).jpg', 'guess-gu2716-068-s2-2 (2).jpg', 'armani-exchange-ax1029-6080-s2-1 (3).jpg', 'armani-exchange-ax1029-6080-s2-2 (2).jpg', 'grand-5722-c3m-s2-1 (2).jpg', 'grand-5716-c3-s2-1 (2).jpg', 'grand-5724-c2-s2-2 (1).jpg', 'grand-5727-c6m-s2-2 (1).jpg', 'grand-5718-c6m-s2-1 (2).jpg', 'grand-5730-c3m-s2-2 (1).jpg', 'grand-5724-c3m-s2-2 (1).jpg', 'grand-5724-c1-s2-2 (1).jpg', 'grand-5721-c6m-s2-2 (1).jpg', 'grand-5721-c3-s2-1 (2).jpg', 'grand-5718-c6m-s2-2 (1).jpg', 'grand-5727-c3m-s2-2 (1).jpg', 'grand-5716-c3-s2-2 (1).jpg', 'grand-5724-c2-s2-1 (2).jpg', 'grand-5652-c3m-s2-2 (1).jpg', 'grand-5727-c3m-s2-1 (2).jpg', 'grand-5726-c3m-s2-1 (2).jpg', 'grand-5726-c3m-s2-2 (1).jpg', 'grand-5722-c3m-s2-2 (1).jpg', 'grand-5721-c3-s2-2 (1).jpg', 'grand-5727-c6m-s2-1 (2).jpg', 'grand-5652-c3m-s2-1 (2).jpg', 'grand-5724-c3m-s2-1 (2).jpg', 'grand-5724-c1-s2-1 (2).jpg', 'grand-5721-c6m-s2-1 (2).jpg', 'grand-5730-c3m-s2-1 (2).jpg', 'grand-5731-c3m-c3-s2-2 (1).jpg', 'grand-5732-c12m-c3-s2-1 (2).jpg', 'grand-5732-c6m-c3-s2-1 (2).jpg', 'grand-5731-c3m-c3-s2-1 (2).jpg', 'grand-5731-c6m-c3-s2-1 (2).jpg', 'grand-5732-c12m-c3-s2-2 (1).jpg', 'grand-5732-c6m-c3-s2-2 (1).jpg', 'grand-5731-c6m-c3-s2-2 (1).jpg', 'grand-5696-c3m-s2-1 (2).jpg', 'grand-5696-c3m-s2-2 (1).jpg', 'barton-ba0123-c3-s2-2 (1).jpg', 'barton-ba0125-c6-s2-2 (1).jpg', 'barton-ba0118-c2-s2-1 (2).jpg', 'barton-ba0134-c3-s2-2 (1).jpg', 'barton-ba0120-c2-s2-2 (1).jpg', 'barton-ba0125-c6-s2-1 (2).jpg', 'barton-ba0134-c6-s2-1 (2).jpg', 'barton-ba0123-c3-s2-1 (2).jpg', 'barton-ba0134-c6-s2-2 (1).jpg', 'barton-ba0120-c2-s2-1 (2).jpg', 'barton-ba0134-c3-s2-1 (2).jpg', 'barton-ba0118-c2-s2-2 (1).jpg', 'barton-ba0128-c3-s2-1 (2).jpg', 'barton-ba0128-c3-s2-2 (1).jpg', 'armani-exchange-ax1043-6000-s2-1 (2).jpg', 'armani-exchange-ax1043-6000-s2-2 (1).jpg', 'armani-exchange-ax1035-6063-s2-1 (2).jpg', 'armani-exchange-ax1035-6063-s2-2 (1).jpg', 'armani-exchange-ax1043-6003-s2-2 (1).jpg', 'armani-exchange-ax1043-6003-s2-1 (2).jpg', 'barton-ba0116-c3-s2-1 (2).jpg', 'barton-ba0132-c1-s2-1 (2).jpg', 'barton-ba0125-c3-s2-2 (1).jpg', 'barton-ba0132-c1-s2-2 (1).jpg', 'barton-ba0125-c3-s2-1 (2).jpg', 'barton-ba0130-c3-s2-1 (2).jpg', 'barton-ba0130-c3-s2-2 (1).jpg', 'barton-ba0116-c3-s2-2 (1).jpg', 'barton-ba0128-c6-s2-2 (1).jpg', 'barton-ba0128-c6-s2-1.jpg', 'cerruti-ce6579-c3-s2-2 (1).jpg', 'cerruti-ce6579-c3-s2-1 (2).jpg', 'cerruti-ce6579-c1-s2-1 (2).jpg', 'cerruti-ce6579-c1-s2-2 (1).jpg', 'bulget-bg1686mt-02a-s2-1 (2).jpg', 'bulget-bg1686mt-06a-s2-1 (2).jpg', 'bulget-bg1692t-08a-s2-2 (1).jpg', 'bulget-bg1686mt-06a-s2-2 (1).jpg', 'bulget-bg1686mt-02a-s2-2 (1).jpg', 'bulget-bg1692t-08a-s2-1 (2).jpg', 'bulget-bg1695t-07a-s2-1 (2).jpg', 'bulget-bg1738t-07a-s2-3 (3).jpg', 'bulget-bg1700mt-04a-s2-2 (1).jpg', 'bulget-bg1735-07a-s2-2 (1).jpg', 'bulget-bg1697t-07a-s2-1 (2).jpg', 'bulget-bg1714m-c9-s2-1 (2).jpg', 'bulget-bg1735-09b-s2-1 (2).jpg', 'bulget-bg1747-06a-s2-2 (1).jpg', 'bulget-bg1699mt-02a-s2-2 (1).jpg', 'bulget-bg1747-06a-s2-1 (2).jpg', 'bulget-bg1735-07a-s2-1 (2).jpg', 'bulget-bg1738t-07a-s2-2 (1).jpg', 'bulget-bg1735-09b-s2-2 (1).jpg', 'bulget-bg1699mt-02a-s2-1 (2).jpg', 'bulget-bg1700mt-04a-s2-1 (2).jpg', 'bulget-bg1695t-07a-s2-2 (1).jpg', 'bulget-bg1714m-c9-s2-2 (1).jpg', 'bulget-bg1697t-07a-s2-2 (1).jpg', 'bulget-bg1738t-07a-s2-1 (2).jpg', 'bulget-bg1715m-c2-s2-1 (2).jpg', 'bulget-bg1715m-c2-s2-2 (1).jpg', 'ana-hickmann-ah1392-05a-s2-1 (2).jpg', 'ana-hickmann-ah1392-05a-s2-2 (1).jpg', 'armani-exchange-ax1034-6000-s2-2 (1).jpg', 'armani-exchange-ax1034-6000-s2-1 (2).jpg', 'despada-ds812-c1-s2-1 (2).jpg', 'despada-ds812-c1-s2-2 (1).jpg', 'armani-exchange-ax1029-6088-s2-1 (2).jpg', 'armani-exchange-ax1029-6088-s2-2 (3).jpg', 'bulget-bg1672m-06a-s2-1 (1).jpg', 'bulget-bg1678mt-09a-s2-2 (2).jpg', 'bulget-bg1742-09a-s2-2 (2).jpg', 'bulget-bg1742-07a-s2-1 (1).jpg', 'bulget-bg1742-07a-s2-2 (2).jpg', 'bulget-bg1717m-c4-s2-2 (2).jpg', 'bulget-bg1676-06a-s2-1 (1).jpg', 'bulget-bg1738t-09a-s2-2 (2).jpg', 'bulget-bg1672m-06a-s2-2 (2).jpg', 'bulget-bg1678mt-09a-s2-1 (1).jpg', 'bulget-bg1717m-c4-s2-1 (1).jpg', 'bulget-bg1738t-09a-s2-1 (1).jpg', 'bulget-bg1678mt-06a-s2-1 (1).jpg', 'bulget-bg1738t-09a-s2-3 (3).jpg', 'bulget-bg1678mt-06a-s2-2 (2).jpg', 'bulget-bg1676-06a-s2-2 (2).jpg', 'bulget-bg1769mt-09a-s2-2 (2).jpg', 'bulget-bg1768mt-06a-s2-1 (1).jpg', 'bulget-bg1769mt-09a-s2-1 (1).jpg', 'bulget-bg1768mt-06a-s2-2 (2).jpg', 'bulget-bg1751t-12a-s2-1 (1).jpg', 'bulget-bg1754m-02b-s2-2 (2).jpg', 'bulget-bg1754m-02b-s2-1 (1).jpg', 'bulget-bg1751t-12a-s2-2 (2).jpg', 'bulget-bg1750t-09a-s2-2 (2).jpg', 'bulget-bg1750t-09a-s2-1 (1).jpg', 'bulget-bg1742-09a-s2-1 (1).jpg', 'despada-ds5068-c4-s2-2 (2).jpg', 'despada-ds5068-c4-s2-1 (1).jpg', 'bulget-bg1762-06a-s2-1 (1).jpg', 'bulget-bg1762-06a-s2-2 (2).jpg', 'despada-ds5066-c3-s2-2 (3).jpg', 'despada-ds5066-c3-s2-3 (4).jpg', 'blancia-bc168-c2-s2-1 (1).jpg', 'blancia-bc168-c2-s2-2 (2).jpg', 'blancia-bc205-c3-s2-2 (2).jpg', 'blancia-bc205-c3-s2-1 (1).jpg', 'bulget-bg1636-08a-s2-2 (2).jpg', 'bulget-bg1743-05a-s2-2 (2).jpg', 'bulget-bg1743-09a-s2-1 (1).jpg', 'bulget-bg1741t-07a-s2-2 (2).jpg', 'bulget-bg1743-09a-s2-2 (2).jpg', 'bulget-bg1636-08a-s2-1 (1).jpg', 'bulget-bg1750t-01a-s2-2 (2).jpg', 'bulget-bg1740t-09a-s2-1 (1).jpg', 'bulget-bg1743-05a-s2-1 (1).jpg', 'bulget-bg1741t-07a-s2-1 (1).jpg', 'bulget-bg1740t-09a-s2-2 (2).jpg', 'bulget-bg1646t-09a-s2-2 (2).jpg', 'bulget-bg1750t-01a-s2-1 (1).jpg', 'bulget-bg1646t-09a-s2-1 (1).jpg', 'bulget-bg1646t-05a-s2-2 (2).jpg', 'bulget-bgy1605ut-09a-s2-1 (1).jpg', 'bulget-bg1646t-05a-s2-1 (1).jpg', 'bulget-bgy1605ut-09a-s2-2 (2).jpg', 'bulget-bg1740t-05b-s2-1 (1).jpg', 'bulget-bg1750t-07a-s2-1 (1).jpg', 'bulget-bg1751t-05a-s2-1 (1).jpg', 'bulget-bg1751t-09a-s2-2 (2).jpg', 'bulget-bg1750t-07a-s2-2 (2).jpg', 'bulget-bg1637t-05a-s2-1 (1).jpg', 'bulget-bg1751t-09a-s2-1 (1).jpg', 'bulget-bg1637t-05a-s2-2 (2).jpg', 'bulget-bg1751t-05a-s2-2 (2).jpg', 'bulget-bg1740t-05b-s2-2 (2).jpg']\n",
            "\n",
            "Подпапки в папке Test для проверки:\n",
            "\n",
            "В папке \"class_1p\" всего 18 картинок:\n",
            "['gucci-gg3625-6f4-s2-2 (2).jpg', 'gucci-gg3625-6f7-s2-2 (2).jpg', 'gucci-gg3625-6f7-s2-1 (3).jpg', 'gucci-gg3627-cs2-s2-2 (2).jpg', 'gucci-gg3627-cs2-s2-1 (3).jpg', 'gucci-gg3629-dxz-s2-2 (2).jpg', 'gucci-gg3629-dxz-s2-1 (3).jpg', 'gucci-gg3629-dxf-s2-2 (2).jpg', 'gucci-gg3629-dxf-s2-1 (3).jpg', 'gucci-gg3648-iee-s2-2 (2).jpg', 'gucci-gg3648-iee-s2-1 (3).jpg', 'hickmann-hiy6000-p02-s2-2 (1).jpg', 'hickmann-hiy6000-p02-s2-1 (2).jpg', 'hot-wheels-hwbb001-blk-s2-1 (1).jpg', 'hot-wheels-hwbb001-blk-s2-2 (2).jpg', 'hot-wheels-hwbb004-grey-s2-2 (2).jpg', 'hot-wheels-hwbb004-grey-s2-1 (1).jpg', 'hot-wheels-hwcl003-blk-s2-2 (3).jpg']\n",
            "\n",
            "В папке \"class_2m\" всего 18 картинок:\n",
            "['harley-davidson-hd0769-002-s2-2 (1).jpg', 'harley-davidson-hd0769-002-s2-2 (2).jpg', 'harley-davidson-hd0769-002-s2-1 (3).jpg', 'harley-davidson-hd0770-002-s2-2 (1).jpg', 'harley-davidson-hd0770-002-s2-2 (2).jpg', 'harley-davidson-hd0770-002-s2-1 (3).jpg', 'hickmann-hi1168t-05b-s2-2 (1).jpg', 'hickmann-hi1164-01a-s2-2 (1).jpg', 'hickmann-hi1168t-05b-s2-1 (2).jpg', 'hickmann-hi1164-01a-s2-1 (2).jpg', 'hickmann-hic1048t-09a-s2-1 (1).jpg', 'hermossa-hmo268-c1-s2-2 (2).jpg', 'hermossa-hmo262-c2-s2-1 (1).jpg', 'hermossa-hmo268-c1-s2-1 (1).jpg', 'hermossa-hmo268-c03-s2-2 (2).jpg', 'hermossa-hmo262-c2-s2-2 (2).jpg', 'hermossa-hmo268-c03-s2-1 (1).jpg', 'hickmann-hic1048t-09a-s2-2 (2).jpg']\n"
          ]
        }
      ]
    },
    {
      "cell_type": "markdown",
      "source": [
        "### *Изображение каждого класса*"
      ],
      "metadata": {
        "id": "YpQe9DAL7D4S"
      }
    },
    {
      "cell_type": "code",
      "source": [
        "# Создание заготовки для изображений всех классов\n",
        "fig, axs = plt.subplots(1, TRAIN_CLASS_COUNT, figsize=(8, 4))\n",
        "\n",
        "# Для всех номеров классов:\n",
        "for i in range(TRAIN_CLASS_COUNT):\n",
        "\n",
        "    # Формирование пути к папке содержимого класса\n",
        "    class_path = f'{train_dir}/{TRAIN_CLASS_LIST[i]}/'\n",
        "\n",
        "    # Выбор случайного фото из i-го класса\n",
        "    img_path = class_path + random.choice(os.listdir(class_path))\n",
        "\n",
        "    # Отображение фотографии\n",
        "    axs[i].set_title(TRAIN_CLASS_LIST[i])\n",
        "    axs[i].imshow(Image.open(img_path))\n",
        "    axs[i].axis('off')\n",
        "\n",
        "print('Случайное Train изображение из каждого класса (пластик и металл):')\n",
        "# Отрисовка всего полотна\n",
        "plt.show()\n"
      ],
      "metadata": {
        "colab": {
          "base_uri": "https://localhost:8080/",
          "height": 265
        },
        "id": "0ChrbD2i2xKX",
        "outputId": "fd429aa3-e0a9-4e82-db5d-fecfd953e9e9"
      },
      "execution_count": null,
      "outputs": [
        {
          "output_type": "stream",
          "name": "stdout",
          "text": [
            "Случайное Train изображение из каждого класса (пластик и металл):\n"
          ]
        },
        {
          "output_type": "display_data",
          "data": {
            "text/plain": [
              "<Figure size 800x400 with 2 Axes>"
            ],
            "image/png": "[encoded data removed]"
          },
          "metadata": {}
        }
      ]
    },
    {
      "cell_type": "markdown",
      "source": [
        "# Подготовка изображений"
      ],
      "metadata": {
        "id": "_qxPL9bsdI2b"
      }
    },
    {
      "cell_type": "markdown",
      "source": [
        "**ImageDataGenerator (генератор изображений)** - это класс в библиотеке Keras, который используется для различных преобразований к входным изображениям (увеличения, повороты, изменения размера, отражения и пр.)"
      ],
      "metadata": {
        "id": "rvhJEjxZqDQ_"
      }
    },
    {
      "cell_type": "markdown",
      "source": [
        "Из генератора datagen создадим экземпляры обучающего/проверочного/тестового датагенератора: train_generator/val_generator/test_generator\n",
        "\n",
        "Используем:\n",
        "*   datagen.flow_from_directory - если изображения хранятся на диске.\n",
        "*   datagen.flow(x_train, y_train, batch_size=32, subset='training') - если изображения уже подгружены в рабочую среду"
      ],
      "metadata": {
        "id": "ztheQQ-Tnxny"
      }
    },
    {
      "cell_type": "markdown",
      "source": [
        "## Генераторы - Train_Val_Test"
      ],
      "metadata": {
        "id": "63K4dskurMUs"
      }
    },
    {
      "cell_type": "markdown",
      "source": [
        "Создаем генератор данных на основе изображений из каталога:"
      ],
      "metadata": {
        "id": "XLDOjZbShrnV"
      }
    },
    {
      "cell_type": "code",
      "source": [
        "from keras.applications.vgg16 import preprocess_input\n",
        "\n",
        "# Создаем экземпляр класса ImageDataGenerator, который будет использоваться для генерации преобразованных изображений\n",
        "# Генератор изображений с аугментацией данных:\n",
        "datagen = ImageDataGenerator(\n",
        "    # rescale=1. / 255,                             # Перескалирование значений пикселей изображений, чтобы они находились в диапазоне от 0 до 1\n",
        "    rotation_range=12,                            # случайные повороты в диапазоне [-12, 12] градусов\n",
        "    width_shift_range=3.0,                        # случайное горизонтальное смещение в диапазоне [-3.0, 3.0]\n",
        "    height_shift_range=5.0 ,                      # случайное вертикальное смещение в диапазоне [-4.0, 4.0]\n",
        "    zoom_range=0.2,                               # случайное масштабирование (увеличение или уменьшение) в диапазоне от 0.9 до 1.1 раз (если 0.2 - от 0.8 до 1.2)\n",
        "    horizontal_flip=True,                         # Случайное отражение изображений по горизонтали\n",
        "    validation_split=validation_split,            # доля отводимая на валидацию от общего количества фото для валидации\n",
        "    preprocessing_function=preprocess_input       # нормализация изображений, согласно предварительным требованиям VGG16\n",
        ")\n",
        "\n",
        "# Генератор данных для ОБУЧЕНИЯ на основе изображений из каталога\n",
        "train_generator = datagen.flow_from_directory(\n",
        "    train_dir,                                    # Путь к изображениям обучающей выборки\n",
        "    target_size=(img_height, img_width),          # Размер изображений\n",
        "    batch_size=batch_size,                        # Размер batch_size\n",
        "    class_mode='binary',                          # Тип выборки\n",
        "    # shuffle=False,                                # Не перемешивание выборки\n",
        "    shuffle=True,                                 # Перемешивание выборки\n",
        "    subset='training',                            # устанавливаем как набор для обучения\n",
        "    seed=42                                       # начальное состояние генератора, позволяет повторять повторяемость результатов при каждом запуске кода\n",
        ")\n",
        "# Генератор данных для ПРОВЕРКИ на основе изображений из каталога\n",
        "val_generator = datagen.flow_from_directory(\n",
        "    train_dir,\n",
        "    target_size=(img_height, img_width),\n",
        "    batch_size=batch_size,\n",
        "    class_mode='binary',\n",
        "    # shuffle=False,\n",
        "    shuffle=True,\n",
        "    subset='validation',                          # Указываем, что это валидационная выборка\n",
        "    seed=42\n",
        ")\n",
        "# Генератор для тестового набора данных, без аугментации\n",
        "# test_datagen = ImageDataGenerator(rescale=1. / 255)\n",
        "test_datagen = ImageDataGenerator(\n",
        "    preprocessing_function=preprocess_input                                     # нормализация изображений, согласно предварительным требованиям VGG16\n",
        ")\n",
        "\n",
        "# Генератор данных для ТЕСТИРОВАНИЯ на основе изображений из каталога\n",
        "test_generator = test_datagen.flow_from_directory(\n",
        "    test_dir,\n",
        "    target_size=(img_height, img_width),\n",
        "    batch_size=batch_size,\n",
        "    class_mode='binary',\n",
        "    # shuffle=False,\n",
        "    shuffle=True,\n",
        "    seed=42\n",
        ")\n",
        "# Генератор данных для ТЕСТИРОВАНИЯ на основе изображений из каталога\n",
        "test_generator_a = test_datagen.flow_from_directory(\n",
        "    test_dir_a,                                                                  # Путь к тестовой выборке с аугментированными изображениями\n",
        "    target_size=(img_height, img_width),\n",
        "    batch_size=batch_size,\n",
        "    class_mode='binary',\n",
        "    shuffle=False,\n",
        "    # shuffle=True,\n",
        "    seed=21\n",
        ")"
      ],
      "metadata": {
        "id": "jQzVdPjvooAW",
        "colab": {
          "base_uri": "https://localhost:8080/"
        },
        "outputId": "ddf4a200-932f-4d64-d662-8fa09236663d"
      },
      "execution_count": null,
      "outputs": [
        {
          "output_type": "stream",
          "name": "stdout",
          "text": [
            "Found 640 images belonging to 2 classes.\n",
            "Found 160 images belonging to 2 classes.\n",
            "Found 36 images belonging to 2 classes.\n",
            "Found 144 images belonging to 2 classes.\n"
          ]
        }
      ]
    },
    {
      "cell_type": "markdown",
      "source": [
        "### Распределение меток (подбор)"
      ],
      "metadata": {
        "id": "jwsUh4bvHPtu"
      }
    },
    {
      "cell_type": "markdown",
      "source": [
        "Подбор seed=42 для равномерного распределения"
      ],
      "metadata": {
        "id": "Ti1GmftgzZbV"
      }
    },
    {
      "cell_type": "code",
      "source": [
        "# Функция для подсчета меток\n",
        "def Проверка_меток(arr):\n",
        "    count_0 = np.count_nonzero(arr == 0)\n",
        "    count_1 = np.count_nonzero(arr == 1)\n",
        "    return count_0, count_1\n",
        "\n",
        "# Функция для печати количества меток\n",
        "def Печать_меток(count_0, count_1):\n",
        "    print(\"Количество элементов сметкой 0 в массиве:\", count_0)\n",
        "    print(\"Количество элементов сметкой 1 в массиве:\", count_1)"
      ],
      "metadata": {
        "id": "mMBVhhLtrs7t"
      },
      "execution_count": null,
      "outputs": []
    },
    {
      "cell_type": "code",
      "source": [
        "# Получаем данные и соответствующие им метки для обучения\n",
        "x_train, y_train = train_generator.next()\n",
        "\n",
        "for i in range(len(TRAIN_CLASS_LIST)):\n",
        "    print(f'У класса \"{TRAIN_CLASS_LIST[i]}\" метка-{i}.', end=' ')\n",
        "\n",
        "print('\\n\\nРаспределение данных в y_train:')\n",
        "count_0_train, count_1_train = Проверка_меток(np.array(y_train))\n",
        "Печать_меток(count_0_train, count_1_train)\n",
        "\n",
        "print(f'Всего: {count_0_train+count_1_train}')"
      ],
      "metadata": {
        "colab": {
          "base_uri": "https://localhost:8080/"
        },
        "id": "ucJQ1dqaHckx",
        "outputId": "fccfddfc-77c5-404d-8e58-b9d54f5ae134"
      },
      "execution_count": null,
      "outputs": [
        {
          "output_type": "stream",
          "name": "stdout",
          "text": [
            "У класса \"class_1p\" метка-0. У класса \"class_2m\" метка-1. \n",
            "\n",
            "Распределение данных в y_train:\n",
            "Количество элементов сметкой 0 в массиве: 16\n",
            "Количество элементов сметкой 1 в массиве: 16\n",
            "Всего: 32\n"
          ]
        }
      ]
    },
    {
      "cell_type": "code",
      "source": [
        "# Получаем данные и соответствующие им метки для валидации\n",
        "x_val, y_val = val_generator.next()\n",
        "\n",
        "for i in range(len(TRAIN_CLASS_LIST)):\n",
        "    print(f'У класса \"{TRAIN_CLASS_LIST[i]}\" метка-{i}.', end=' ')\n",
        "\n",
        "print('\\n\\nРаспределение данных в y_val:')\n",
        "count_0_val, count_1_val = Проверка_меток(np.array(y_val))\n",
        "Печать_меток(count_0_val, count_1_val)\n",
        "\n",
        "print(f'Всего: {count_0_val + count_1_val}')"
      ],
      "metadata": {
        "colab": {
          "base_uri": "https://localhost:8080/"
        },
        "id": "8RUOU7LDt2gf",
        "outputId": "1df6af50-318b-4041-e7e2-feaa3b1da1a7"
      },
      "execution_count": null,
      "outputs": [
        {
          "output_type": "stream",
          "name": "stdout",
          "text": [
            "У класса \"class_1p\" метка-0. У класса \"class_2m\" метка-1. \n",
            "\n",
            "Распределение данных в y_val:\n",
            "Количество элементов сметкой 0 в массиве: 16\n",
            "Количество элементов сметкой 1 в массиве: 16\n",
            "Всего: 32\n"
          ]
        }
      ]
    },
    {
      "cell_type": "code",
      "source": [
        "# Получаем данные и соответствующие им метки для тестирования\n",
        "x_test, y_test = test_generator.next()\n",
        "\n",
        "for i in range(len(TEST_CLASS_LIST)):\n",
        "    print(f'У класса \"{TEST_CLASS_LIST[i]}\" метка-{i}.', end=' ')\n",
        "\n",
        "print('\\n\\n\\nРаспределение данных в y_test:')\n",
        "count_0_test, count_1_test = Проверка_меток(np.array(y_test))\n",
        "Печать_меток(count_0_test, count_1_test)\n",
        "\n",
        "print(f'Всего: {count_0_test + count_1_test}')"
      ],
      "metadata": {
        "colab": {
          "base_uri": "https://localhost:8080/"
        },
        "id": "yBh32UvMsYHD",
        "outputId": "92861c4c-fff7-4bc6-e6b3-b85a21148b99"
      },
      "execution_count": null,
      "outputs": [
        {
          "output_type": "stream",
          "name": "stdout",
          "text": [
            "У класса \"class_1p\" метка-0. У класса \"class_2m\" метка-1. \n",
            "\n",
            "\n",
            "Распределение данных в y_test:\n",
            "Количество элементов сметкой 0 в массиве: 16\n",
            "Количество элементов сметкой 1 в массиве: 16\n",
            "Всего: 32\n"
          ]
        }
      ]
    },
    {
      "cell_type": "code",
      "source": [
        "# Получаем данные и соответствующие им метки для тестирования\n",
        "X_test, Y_test = test_generator_a.next()\n",
        "\n",
        "for i in range(len(TEST_CLASS_LIST_a)):\n",
        "    print(f'У класса \"{TEST_CLASS_LIST_a[i]}\" метка-{i}.', end=' ')\n",
        "\n",
        "print('\\n\\n\\nРаспределение данных в Y_test:')\n",
        "count_0_test_a, count_1_test_a = Проверка_меток(np.array(Y_test))\n",
        "Печать_меток(count_0_test_a, count_1_test_a)\n",
        "\n",
        "print(f'Всего: {count_0_test_a + count_1_test_a}')"
      ],
      "metadata": {
        "colab": {
          "base_uri": "https://localhost:8080/"
        },
        "id": "xT4FX6AcEKbR",
        "outputId": "b9b5a02d-0f5c-4d2a-b4dc-6ca19d0aa554"
      },
      "execution_count": null,
      "outputs": [
        {
          "output_type": "stream",
          "name": "stdout",
          "text": [
            "У класса \"class_1p\" метка-0. У класса \"class_2m\" метка-1. \n",
            "\n",
            "\n",
            "Распределение данных в Y_test:\n",
            "Количество элементов сметкой 0 в массиве: 32\n",
            "Количество элементов сметкой 1 в массиве: 0\n",
            "Всего: 32\n"
          ]
        }
      ]
    },
    {
      "cell_type": "markdown",
      "source": [
        "Вывод: seed=42 подобрано правильно, после перемешивания случайное распределение изображений по классам равномерное"
      ],
      "metadata": {
        "id": "77YWg9r37Wer"
      }
    },
    {
      "cell_type": "markdown",
      "source": [
        "### *Аугментация фото*"
      ],
      "metadata": {
        "id": "utcADammBOiG"
      }
    },
    {
      "cell_type": "markdown",
      "source": [
        "Проверяем работу генератора на аугментацию:"
      ],
      "metadata": {
        "id": "TA9xQGfgA8wm"
      }
    },
    {
      "cell_type": "code",
      "source": [
        "# Изображение из Train\n",
        "print('Изображение из Train-обучающей выборки:')\n",
        "image_file_name = f'{train_dir}/class_1p' + '/adidas-ah57-6056-s2-1 (3).jpg'\n",
        "img = image.load_img(image_file_name, target_size=(450, 675))\n",
        "plt.xlabel(\"\\nРазличные вариаты преобразований:\")           # добавляем метку к изображению\n",
        "plt.imshow(img)\n",
        "# plt.show()\n",
        "\n",
        "x = image.img_to_array(img)\n",
        "x = x.reshape((1,) + x.shape)\n",
        "i = 0\n",
        "# Создание заготовки для изображений\n",
        "fig, axs = plt.subplots(1, 6, figsize=(10, 5))\n",
        "\n",
        "# различные виды сгенерированных изображений\n",
        "for batch in datagen.flow(x, batch_size=1):\n",
        "    plt.subplot(1, 6, i+1)                      # изменяем параметры subplot для вывода в одну строку\n",
        "    plt.xlabel(\"Изменение \" + str(i))           # добавляем метку к изображению\n",
        "    plt.imshow(image.array_to_img(batch[0]))\n",
        "    i += 1\n",
        "    if i % 6 == 0:\n",
        "        break\n",
        "\n",
        "plt.show()"
      ],
      "metadata": {
        "colab": {
          "base_uri": "https://localhost:8080/",
          "height": 592
        },
        "id": "gSliQoh6FCrv",
        "outputId": "dc1bef41-3bb8-4479-eae9-df121ec3f0cc"
      },
      "execution_count": null,
      "outputs": [
        {
          "output_type": "stream",
          "name": "stdout",
          "text": [
            "Изображение из Train-обучающей выборки:\n"
          ]
        },
        {
          "output_type": "display_data",
          "data": {
            "text/plain": [
              "<Figure size 640x480 with 1 Axes>"
            ],
            "image/png": "[encoded data removed]"
          },
          "metadata": {}
        },
        {
          "output_type": "display_data",
          "data": {
            "text/plain": [
              "<Figure size 1000x500 with 6 Axes>"
            ],
            "image/png": "[encoded data removed]"
          },
          "metadata": {}
        }
      ]
    },
    {
      "cell_type": "markdown",
      "source": [
        "## X_ , Y_ выборки:"
      ],
      "metadata": {
        "id": "vPi6Z_odAG3r"
      }
    },
    {
      "cell_type": "markdown",
      "source": [
        "Сгенерируем выборку в виде уже готовых X_train, Y_train, с помощью готового генератора train_generator использующего изображения с диска"
      ],
      "metadata": {
        "id": "V_k7VDjT9g4-"
      }
    },
    {
      "cell_type": "markdown",
      "source": [
        "### x_train, y_train"
      ],
      "metadata": {
        "id": "TarlxrKTbxew"
      }
    },
    {
      "cell_type": "code",
      "source": [
        "x_train = []                                                                     # Пустые списки, для хранения данных тренировочного набора\n",
        "y_train = []\n",
        "num = 0\n",
        "for x, y in train_generator:                                                    # проход через генератор данных train_generator\n",
        "    x_train.append(x)                                                           # в списки x_train и y_train добавлям очередной\n",
        "    y_train.append(y)                                                           # пакет данных тренировочного набора (переменные x и y)\n",
        "    num += 1\n",
        "    if num == 20:                                                               # \"num\" = количество образцов в обучающем наборе данных = 640, деленному на размер пакета batch_size = 32\n",
        "        break\n",
        "x_train = np.concatenate(x_train)                                               # объединяем все пакеты данных x_train и y_train в один массив и\n",
        "y_train = np.concatenate(y_train)                                               # новые значения x_train и y_train присваиваются переменным x_train и y_train\n",
        "\n",
        "print('Общее количество образцов, высота-ширина изображений, количество цветовых каналов:')\n",
        "print('x_train:', x_train.shape)                                                # Размер выборок\n",
        "print('Общее количество образцов:')\n",
        "print('y_train:', y_train.shape)"
      ],
      "metadata": {
        "colab": {
          "base_uri": "https://localhost:8080/"
        },
        "id": "JD2H8TrM-1wx",
        "outputId": "7cde9f76-035e-4661-f301-35ec48786954"
      },
      "execution_count": null,
      "outputs": [
        {
          "output_type": "stream",
          "name": "stdout",
          "text": [
            "Общее количество образцов, высота-ширина изображений, количество цветовых каналов:\n",
            "x_train: (640, 450, 675, 3)\n",
            "Общее количество образцов:\n",
            "y_train: (640,)\n"
          ]
        }
      ]
    },
    {
      "cell_type": "code",
      "source": [
        "print(y_train)"
      ],
      "metadata": {
        "id": "pebpz90H6I4U"
      },
      "execution_count": null,
      "outputs": []
    },
    {
      "cell_type": "markdown",
      "source": [
        "### x_val, y_val"
      ],
      "metadata": {
        "id": "-PR-lm0ZX__3"
      }
    },
    {
      "cell_type": "code",
      "source": [
        "x_val = []\n",
        "y_val = []\n",
        "num = 0\n",
        "for x, y in val_generator:                                                      # проход через генератор данных val_generator\n",
        "    x_val.append(x)\n",
        "    y_val.append(y)\n",
        "    num += 1\n",
        "    if num == 5:                                                                # \"num\" = количество образцов в валидационном наборе данных = 160, деленному на размер пакета (batch_size = 32)\n",
        "        break\n",
        "x_val = np.concatenate(x_val)\n",
        "y_val = np.concatenate(y_val)\n",
        "\n",
        "print('Общее количество образцов, высота-ширина изображений, количество цветовых каналов:')\n",
        "print('x_val:', x_val.shape)\n",
        "print('Общее количество образцов:')\n",
        "print('y_val:', y_val.shape)"
      ],
      "metadata": {
        "colab": {
          "base_uri": "https://localhost:8080/"
        },
        "id": "Aj-Bl0UNGxDN",
        "outputId": "07ddf9e5-1b55-42de-b3ab-8660220672e5"
      },
      "execution_count": null,
      "outputs": [
        {
          "output_type": "stream",
          "name": "stdout",
          "text": [
            "Общее количество образцов, высота-ширина изображений, количество цветовых каналов:\n",
            "x_val: (160, 450, 675, 3)\n",
            "Общее количество образцов:\n",
            "y_val: (160,)\n"
          ]
        }
      ]
    },
    {
      "cell_type": "code",
      "source": [
        "print(y_val)"
      ],
      "metadata": {
        "colab": {
          "base_uri": "https://localhost:8080/"
        },
        "id": "ap1FR6Vj6R_3",
        "outputId": "fc4e5f02-b814-4cc3-9889-cc22cac4c697"
      },
      "execution_count": null,
      "outputs": [
        {
          "output_type": "stream",
          "name": "stdout",
          "text": [
            "[0. 1. 0. 1. 0. 0. 0. 1. 0. 1. 1. 1. 1. 0. 1. 0. 1. 0. 1. 0. 0. 1. 0. 0.\n",
            " 0. 1. 1. 0. 0. 1. 0. 1. 1. 0. 0. 1. 1. 0. 1. 1. 0. 0. 1. 0. 0. 1. 0. 0.\n",
            " 1. 0. 0. 1. 1. 1. 1. 0. 1. 0. 0. 0. 1. 1. 1. 0. 1. 1. 1. 0. 0. 1. 1. 0.\n",
            " 0. 1. 0. 0. 0. 0. 0. 0. 1. 1. 1. 1. 1. 1. 1. 0. 1. 0. 0. 1. 0. 0. 0. 0.\n",
            " 1. 1. 0. 0. 1. 0. 1. 0. 0. 1. 0. 0. 1. 1. 0. 1. 0. 0. 1. 1. 1. 1. 1. 0.\n",
            " 1. 1. 0. 0. 1. 0. 1. 1. 0. 0. 0. 1. 1. 1. 1. 0. 1. 0. 0. 0. 1. 1. 0. 0.\n",
            " 1. 0. 1. 0. 1. 1. 0. 1. 0. 1. 0. 0. 0. 0. 1. 0.]\n"
          ]
        }
      ]
    },
    {
      "cell_type": "markdown",
      "source": [
        "### x_test, y_test"
      ],
      "metadata": {
        "id": "RHSI3j27_cYF"
      }
    },
    {
      "cell_type": "code",
      "source": [
        "x_test = []\n",
        "y_test = []\n",
        "num = 0\n",
        "for x, y in test_generator:                                                     # проход через генератор данных test_generator\n",
        "    x_test.append(x)\n",
        "    y_test.append(y)\n",
        "    num += 1\n",
        "    if num == 2:                                                                # \"num\" = количество образцов в проверочном наборе данных = 36, деленному на размер пакета (batch_size = 32)\n",
        "        break\n",
        "x_test = np.concatenate(x_test)\n",
        "y_test = np.concatenate(y_test)\n",
        "\n",
        "print('Общее количество образцов, высота-ширина изображений, количество цветовых каналов:')\n",
        "print('x_test:', x_test.shape)\n",
        "print('Общее количество образцов:')\n",
        "print('y_test:', y_test.shape)"
      ],
      "metadata": {
        "colab": {
          "base_uri": "https://localhost:8080/"
        },
        "id": "h2gPLerKH28s",
        "outputId": "2d38f23a-0172-49ef-ffd9-fc0955de96f0"
      },
      "execution_count": null,
      "outputs": [
        {
          "output_type": "stream",
          "name": "stdout",
          "text": [
            "Общее количество образцов, высота-ширина изображений, количество цветовых каналов:\n",
            "x_test: (36, 450, 675, 3)\n",
            "Общее количество образцов:\n",
            "y_test: (36,)\n"
          ]
        }
      ]
    },
    {
      "cell_type": "code",
      "source": [
        "print(y_test)"
      ],
      "metadata": {
        "colab": {
          "base_uri": "https://localhost:8080/"
        },
        "id": "oLMyVEHB4fC9",
        "outputId": "9e9ebd58-bfef-4802-838d-ffc7e523ef19"
      },
      "execution_count": null,
      "outputs": [
        {
          "output_type": "stream",
          "name": "stdout",
          "text": [
            "[1. 0. 0. 1. 0. 0. 0. 1. 0. 1. 0. 1. 0. 1. 0. 1. 0. 1. 1. 0. 0. 0. 0. 0.\n",
            " 0. 1. 1. 0. 1. 1. 1. 1. 1. 0. 0. 1.]\n"
          ]
        }
      ]
    },
    {
      "cell_type": "code",
      "source": [
        "X_test = []\n",
        "Y_test = []\n",
        "num = 0\n",
        "for X, Y in test_generator_a:                                                     # проход через генератор данных test_generator\n",
        "    X_test.append(X)\n",
        "    Y_test.append(Y)\n",
        "    num += 1\n",
        "    if num == 5:                                                                # \"num\" = количество образцов в проверочном наборе данных = 108(аугм)+36(исх)=144, деленному на размер пакета (batch_size = 32)\n",
        "        break\n",
        "X_test = np.concatenate(X_test)\n",
        "Y_test = np.concatenate(Y_test)\n",
        "\n",
        "print('Общее количество образцов, высота-ширина изображений, количество цветовых каналов:')\n",
        "print('X_test:', X_test.shape)\n",
        "print('Общее количество образцов:')\n",
        "print('Y_test:', Y_test.shape)"
      ],
      "metadata": {
        "colab": {
          "base_uri": "https://localhost:8080/"
        },
        "id": "QWe9xXitFonV",
        "outputId": "605f9067-7156-49e4-fc5d-7395320fdf9e"
      },
      "execution_count": null,
      "outputs": [
        {
          "output_type": "stream",
          "name": "stdout",
          "text": [
            "Общее количество образцов, высота-ширина изображений, количество цветовых каналов:\n",
            "X_test: (144, 450, 675, 3)\n",
            "Общее количество образцов:\n",
            "Y_test: (144,)\n"
          ]
        }
      ]
    },
    {
      "cell_type": "code",
      "source": [
        "print(Y_test)"
      ],
      "metadata": {
        "colab": {
          "base_uri": "https://localhost:8080/"
        },
        "id": "dyzzPS7WJ9QS",
        "outputId": "65916e50-28a3-487b-f2f1-28f745d6a6b5"
      },
      "execution_count": null,
      "outputs": [
        {
          "output_type": "stream",
          "name": "stdout",
          "text": [
            "[0. 0. 0. 0. 0. 0. 0. 0. 0. 0. 0. 0. 0. 0. 0. 0. 0. 0. 0. 0. 0. 0. 0. 0.\n",
            " 0. 0. 0. 0. 0. 0. 0. 0. 0. 0. 0. 0. 0. 0. 0. 0. 1. 1. 1. 1. 1. 1. 1. 1.\n",
            " 1. 1. 1. 1. 1. 1. 1. 1. 1. 1. 1. 1. 1. 1. 1. 1. 1. 1. 1. 1. 1. 1. 1. 1.\n",
            " 1. 1. 1. 1. 1. 1. 1. 1. 1. 1. 1. 1. 1. 1. 1. 1. 1. 1. 1. 1. 1. 1. 1. 1.\n",
            " 1. 1. 1. 1. 1. 1. 1. 1. 1. 1. 1. 1. 1. 1. 1. 1. 0. 0. 0. 0. 0. 0. 0. 0.\n",
            " 0. 0. 0. 0. 0. 0. 0. 0. 0. 0. 0. 0. 0. 0. 0. 0. 0. 0. 0. 0. 0. 0. 0. 0.]\n"
          ]
        }
      ]
    },
    {
      "cell_type": "markdown",
      "source": [
        "### **Проверка:**"
      ],
      "metadata": {
        "id": "XqlNyMGNes0b"
      }
    },
    {
      "cell_type": "markdown",
      "source": [
        "### *Кол-во изображений*"
      ],
      "metadata": {
        "id": "F_hKP_3Li6C_"
      }
    },
    {
      "cell_type": "code",
      "source": [
        "# Подсчитываем общее количество сгенерированных изображений в наборе данных\n",
        "num_images_train = train_generator.samples\n",
        "num_images_val = val_generator.samples\n",
        "num_images_test = test_generator.samples\n",
        "print(\"Количество изображений в тренировочном наборе данных:\", num_images_train)\n",
        "print(\"Количество изображений в тренировочном наборе данных:\", num_images_val)\n",
        "print(\"Количество изображений в тренировочном наборе данных:\", num_images_test)\n",
        "\n",
        "# Подсчитываем количество ПАКЕТОВ со сгенерированными изображениями\n",
        "num_generated_images_train = len(train_generator)\n",
        "num_generated_images_val = len(val_generator)\n",
        "num_generated_images_test = len(test_generator)\n",
        "\n",
        "print(\"\\nbatch_size=\", batch_size)\n",
        "print(\"Количество batch-пакетов со сгенерированными train-изображениями:\", num_generated_images_train)\n",
        "print(\"Количество batch-пакетов со сгенерированными val-изображениями:\", num_generated_images_val)\n",
        "print(\"Количество batch-пакетов со сгенерированными test-изображениями:\", num_generated_images_test)\n",
        "\n",
        "# Подсчет количества меток\n",
        "print(\"\\nМЕТКИ:\")\n",
        "\n",
        "# Подсчет количества меток для train_generator\n",
        "train_labels = train_generator.classes\n",
        "train_labels_count = {class_name: train_labels[train_labels == class_idx].size for class_name, class_idx in train_generator.class_indices.items()}\n",
        "print(f'Количество меток в train_generator: {train_labels_count}')\n",
        "\n",
        "# Подсчет количества меток для val_generator\n",
        "val_labels = val_generator.classes\n",
        "val_labels_count = {class_name: val_labels[val_labels == class_idx].size for class_name, class_idx in val_generator.class_indices.items()}\n",
        "print(f\"Количество меток в val_generator: {val_labels_count}\")\n",
        "\n",
        "# Подсчет количества меток для test_generator\n",
        "test_labels = test_generator.classes\n",
        "test_labels_count = {class_name: test_labels[test_labels == class_idx].size for class_name, class_idx in test_generator.class_indices.items()}\n",
        "print(f\"Количество меток в test_generator: {test_labels_count}\")"
      ],
      "metadata": {
        "colab": {
          "base_uri": "https://localhost:8080/"
        },
        "id": "0Hm4e2hLi201",
        "outputId": "683d27c5-b418-44c0-81f0-4bc9fbffdc19"
      },
      "execution_count": null,
      "outputs": [
        {
          "output_type": "stream",
          "name": "stdout",
          "text": [
            "Количество изображений в тренировочном наборе данных: 640\n",
            "Количество изображений в тренировочном наборе данных: 160\n",
            "Количество изображений в тренировочном наборе данных: 36\n",
            "\n",
            "batch_size= 32\n",
            "Количество batch-пакетов со сгенерированными train-изображениями: 20\n",
            "Количество batch-пакетов со сгенерированными val-изображениями: 5\n",
            "Количество batch-пакетов со сгенерированными test-изображениями: 2\n",
            "\n",
            "МЕТКИ:\n",
            "Количество меток в train_generator: {'class_1p': 320, 'class_2m': 320}\n",
            "Количество меток в val_generator: {'class_1p': 80, 'class_2m': 80}\n",
            "Количество меток в test_generator: {'class_1p': 18, 'class_2m': 18}\n"
          ]
        }
      ]
    },
    {
      "cell_type": "markdown",
      "source": [
        "## Сохранение x_y_train,val,test"
      ],
      "metadata": {
        "id": "XM9gEHC_KevT"
      }
    },
    {
      "cell_type": "code",
      "source": [
        "import pickle\n",
        "\n",
        "# Сохранение x_train y_train и x_val y_val\n",
        "with open('/content/drive/MyDrive/НетОптик/Dataset/DS_2classes/train_test-pickle/x_train-2class.pickle', 'wb') as file:\n",
        "    pickle.dump(x_train, file)\n",
        "print('x_train сохранено')\n",
        "with open('/content/drive/MyDrive/НетОптик/Dataset/DS_2classes/train_test-pickle/y_train-2class.pickle', 'wb') as file:\n",
        "    pickle.dump(y_train, file)\n",
        "print('y_train сохранено')\n",
        "with open('/content/drive/MyDrive/НетОптик/Dataset/DS_2classes/train_test-pickle/x_val-2class.pickle', 'wb') as file:\n",
        "    pickle.dump(x_val, file)\n",
        "print('x_val сохранено')\n",
        "with open('/content/drive/MyDrive/НетОптик/Dataset/DS_2classes/train_test-pickle/y_val-2class.pickle', 'wb') as file:\n",
        "    pickle.dump(y_val, file)\n",
        "print('y_val сохранено')\n",
        "with open('/content/drive/MyDrive/НетОптик/Dataset/DS_2classes/train_test-pickle/x_test-2class.pickle', 'wb') as file:\n",
        "    pickle.dump(x_test, file)\n",
        "print('x_test сохранено')\n",
        "with open('/content/drive/MyDrive/НетОптик/Dataset/DS_2classes/train_test-pickle/y_test-2class.pickle', 'wb') as file:\n",
        "    pickle.dump(y_test, file)\n",
        "print('y_test сохранено')\n",
        "with open('/content/drive/MyDrive/НетОптик/Dataset/DS_2classes/train_test-pickle/X_test-2class.pickle', 'wb') as file:\n",
        "    pickle.dump(X_test, file)\n",
        "print('X_test сохранено')\n",
        "with open('/content/drive/MyDrive/НетОптик/Dataset/DS_2classes/train_test-pickle/Y_test-2class.pickle', 'wb') as file:\n",
        "    pickle.dump(Y_test, file)\n",
        "print('Y_test сохранено')"
      ],
      "metadata": {
        "colab": {
          "base_uri": "https://localhost:8080/"
        },
        "id": "7JrQewMNK0Ol",
        "outputId": "6fc44951-0df7-4855-cd52-e45c456dd46a"
      },
      "execution_count": null,
      "outputs": [
        {
          "output_type": "stream",
          "name": "stdout",
          "text": [
            "x_train сохранено\n",
            "y_train сохранено\n",
            "x_val сохранено\n",
            "y_val сохранено\n",
            "x_test сохранено\n",
            "y_test сохранено\n",
            "X_test сохранено\n",
            "Y_test сохранено\n"
          ]
        }
      ]
    },
    {
      "cell_type": "markdown",
      "source": [
        "## Загрузка x_y_train, x_y_val"
      ],
      "metadata": {
        "id": "V8iStI30KlAi"
      }
    },
    {
      "cell_type": "code",
      "source": [
        "import pickle\n",
        "\n",
        "# Загрузка x_train y_train и x_val y_val\n",
        "with open('/content/drive/MyDrive/НетОптик/Dataset/DS_2classes/train_test-pickle/x_train-2class.pickle', 'rb') as file:\n",
        "    x_train = pickle.load(file)\n",
        "print('x_train загружен')\n",
        "with open('/content/drive/MyDrive/НетОптик/Dataset/DS_2classes/train_test-pickle/y_train-2class.pickle', 'rb') as file:\n",
        "    y_train = pickle.load(file)\n",
        "print('y_train загружен')\n",
        "with open('/content/drive/MyDrive/НетОптик/Dataset/DS_2classes/train_test-pickle/x_val-2class.pickle', 'rb') as file:\n",
        "    x_val = pickle.load(file)\n",
        "print('x_val загружен')\n",
        "with open('/content/drive/MyDrive/НетОптик/Dataset/DS_2classes/train_test-pickle/y_val-2class.pickle', 'rb') as file:\n",
        "    y_val = pickle.load(file)\n",
        "print('y_val загружен')"
      ],
      "metadata": {
        "colab": {
          "base_uri": "https://localhost:8080/"
        },
        "id": "om5FL41YLMR2",
        "outputId": "fcfde86c-fb4d-491b-d9bd-2cc52c81eabc"
      },
      "execution_count": null,
      "outputs": [
        {
          "output_type": "stream",
          "name": "stdout",
          "text": [
            "x_train загружен\n",
            "y_train загружен\n",
            "x_val загружен\n",
            "y_val загружен\n"
          ]
        }
      ]
    },
    {
      "cell_type": "markdown",
      "source": [
        "## Загрузка x_y_test"
      ],
      "metadata": {
        "id": "QLbm0oKFKrC9"
      }
    },
    {
      "cell_type": "code",
      "source": [
        "import pickle\n",
        "\n",
        "with open('/content/drive/MyDrive/НетОптик/Dataset/DS_2classes/train_test-pickle/x_test-2class.pickle', 'rb') as file:\n",
        "    x_test = pickle.load(file)\n",
        "print('x_test загружен')\n",
        "with open('/content/drive/MyDrive/НетОптик/Dataset/DS_2classes/train_test-pickle/y_test-2class.pickle', 'rb') as file:\n",
        "    y_test = pickle.load(file)\n",
        "print('y_test загружен')\n",
        "with open('/content/drive/MyDrive/НетОптик/Dataset/DS_2classes/train_test-pickle/X_test-2class.pickle', 'rb') as file:\n",
        "    X_test = pickle.load(file)\n",
        "print('X_test загружен')\n",
        "with open('/content/drive/MyDrive/НетОптик/Dataset/DS_2classes/train_test-pickle/Y_test-2class.pickle', 'rb') as file:\n",
        "    Y_test = pickle.load(file)\n",
        "print('Y_test загружен')"
      ],
      "metadata": {
        "colab": {
          "base_uri": "https://localhost:8080/"
        },
        "id": "NKqqtEHvLY6b",
        "outputId": "72c29b11-7696-4ad6-a68f-cf1b229b06da"
      },
      "execution_count": null,
      "outputs": [
        {
          "output_type": "stream",
          "name": "stdout",
          "text": [
            "x_test загружен\n",
            "y_test загружен\n",
            "X_test загружен\n",
            "Y_test загружен\n"
          ]
        }
      ]
    },
    {
      "cell_type": "markdown",
      "source": [
        "# МОДЕЛЬ-1"
      ],
      "metadata": {
        "id": "KWFK_JIABxvF"
      }
    },
    {
      "cell_type": "markdown",
      "source": [
        "## Архитектура сети-1"
      ],
      "metadata": {
        "id": "Nxy_XMxLu1wq"
      }
    },
    {
      "cell_type": "code",
      "source": [
        "# Создаем сверточную нейронную сеть\n",
        "\n",
        "model = Sequential()                                                            # последовательная сеть\n",
        "model.add(Conv2D(32, (3, 3), input_shape=input_shape))                          # input_shape=(img_height, img_width, 3)\n",
        "model.add(Activation('relu'))\n",
        "model.add(MaxPooling2D(pool_size=(2, 2)))\n",
        "\n",
        "model.add(Conv2D(32, (3, 3)))\n",
        "model.add(Activation('relu'))\n",
        "model.add(MaxPooling2D(pool_size=(2, 2)))\n",
        "\n",
        "model.add(Conv2D(64, (3, 3)))\n",
        "model.add(Activation('relu'))\n",
        "model.add(MaxPooling2D(pool_size=(2, 2)))\n",
        "\n",
        "model.add(Flatten())\n",
        "model.add(Dense(64))\n",
        "model.add(Activation('relu'))\n",
        "model.add(Dropout(0.5))\n",
        "model.add(Dense(1))\n",
        "model.add(Activation('sigmoid'))"
      ],
      "metadata": {
        "id": "sEsVgryTrHQr"
      },
      "execution_count": null,
      "outputs": []
    },
    {
      "cell_type": "markdown",
      "source": [
        "## Граф модели-1"
      ],
      "metadata": {
        "id": "7HLTrCZQw4xI"
      }
    },
    {
      "cell_type": "code",
      "source": [
        "# Вывод суммарной информации о модели\n",
        "model.summary()"
      ],
      "metadata": {
        "colab": {
          "base_uri": "https://localhost:8080/"
        },
        "id": "cwPiSN-4wy8U",
        "outputId": "d08a38fd-a98f-4b4d-8dbb-121f2c03011b"
      },
      "execution_count": null,
      "outputs": [
        {
          "output_type": "stream",
          "name": "stdout",
          "text": [
            "Model: \"sequential_2\"\n",
            "_________________________________________________________________\n",
            " Layer (type)                Output Shape              Param #   \n",
            "=================================================================\n",
            " conv2d_3 (Conv2D)           (None, 448, 673, 32)      896       \n",
            "                                                                 \n",
            " activation_7 (Activation)   (None, 448, 673, 32)      0         \n",
            "                                                                 \n",
            " max_pooling2d_3 (MaxPoolin  (None, 224, 336, 32)      0         \n",
            " g2D)                                                            \n",
            "                                                                 \n",
            " conv2d_4 (Conv2D)           (None, 222, 334, 32)      9248      \n",
            "                                                                 \n",
            " activation_8 (Activation)   (None, 222, 334, 32)      0         \n",
            "                                                                 \n",
            " max_pooling2d_4 (MaxPoolin  (None, 111, 167, 32)      0         \n",
            " g2D)                                                            \n",
            "                                                                 \n",
            " conv2d_5 (Conv2D)           (None, 109, 165, 64)      18496     \n",
            "                                                                 \n",
            " activation_9 (Activation)   (None, 109, 165, 64)      0         \n",
            "                                                                 \n",
            " max_pooling2d_5 (MaxPoolin  (None, 54, 82, 64)        0         \n",
            " g2D)                                                            \n",
            "                                                                 \n",
            " flatten_2 (Flatten)         (None, 283392)            0         \n",
            "                                                                 \n",
            " dense_4 (Dense)             (None, 64)                18137152  \n",
            "                                                                 \n",
            " activation_10 (Activation)  (None, 64)                0         \n",
            "                                                                 \n",
            " dropout_2 (Dropout)         (None, 64)                0         \n",
            "                                                                 \n",
            " dense_5 (Dense)             (None, 1)                 65        \n",
            "                                                                 \n",
            " activation_11 (Activation)  (None, 1)                 0         \n",
            "                                                                 \n",
            "=================================================================\n",
            "Total params: 18165857 (69.30 MB)\n",
            "Trainable params: 18165857 (69.30 MB)\n",
            "Non-trainable params: 0 (0.00 Byte)\n",
            "_________________________________________________________________\n"
          ]
        }
      ]
    },
    {
      "cell_type": "markdown",
      "source": [
        "## Компиляция сети-1"
      ],
      "metadata": {
        "id": "c1aPSKf8vGeN"
      }
    },
    {
      "cell_type": "code",
      "source": [
        "model.compile(loss='binary_crossentropy',\n",
        "              optimizer='adam',\n",
        "              metrics=['accuracy'])"
      ],
      "metadata": {
        "id": "sC-4g9RevBlx"
      },
      "execution_count": null,
      "outputs": []
    },
    {
      "cell_type": "markdown",
      "source": [
        "## Callback"
      ],
      "metadata": {
        "id": "sbNfx1NoidqD"
      }
    },
    {
      "cell_type": "markdown",
      "source": [
        "Callback для ModelCheckpoint - для сохранение нейронной сети на каждом этапе (или лучший результат) обучения\n",
        "\n",
        "EarlyStopping Callback - для остановки обучения нейросети при переобучении"
      ],
      "metadata": {
        "id": "8t-IqeOiL5ca"
      }
    },
    {
      "cell_type": "code",
      "source": [
        "from tensorflow.keras.callbacks import ModelCheckpoint\n",
        "from tensorflow.keras.callbacks import EarlyStopping\n",
        "\n",
        "# Сохраняем сеть на каждой эпохе\n",
        "# {epoch:02d} - номер эпохи\n",
        "# {val_acc:.4f} - значение аккуратности на проверочном наборе данных\n",
        "# callbacks = [ModelCheckpoint('Save_models/next-accuracy-{epoch:02d}-{val_accuracy:.4f}.hdf5')]\n",
        "\n",
        "# Сохраняем только лучший вариант сети\n",
        "callbacks = [ModelCheckpoint('/content/drive/MyDrive/НетОптик/Save_models/2_class/best-callback_2c.hdf5', monitor='val_accuracy', save_best_only=True)]\n",
        "\n",
        "# Остановка обучения, если ухудшение метрик (например, val_accuracy) после 6 шагов\n",
        "stopping_callback = EarlyStopping(monitor='val_accuracy', patience=6)"
      ],
      "metadata": {
        "id": "cj-MuJJuLXVS"
      },
      "execution_count": null,
      "outputs": []
    },
    {
      "cell_type": "markdown",
      "source": [
        "# Обучение модели-1"
      ],
      "metadata": {
        "id": "uW_UIi--nV0E"
      }
    },
    {
      "cell_type": "markdown",
      "source": [
        "Обучаем модель с использованием генераторов\n",
        "\n",
        "*   train_generator - генератор данных для обучения\n",
        "*   validation_data - генератор данных для проверки\n",
        "\n",
        "**steps_per_epoch** - сколько раз нужно обратиться модели к генератору за получением новых данных. Может быть полезным когда данных на диске очень много и простая передача по bath_size примеров может длиться очень долго"
      ],
      "metadata": {
        "id": "wjLKPx-VqQjE"
      }
    },
    {
      "cell_type": "code",
      "source": [
        "# Обучение модели с использованием генератора изображений\n",
        "history = model.fit(train_generator,\n",
        "                              steps_per_epoch = train_generator.samples // batch_size,\n",
        "                              validation_data=val_generator,\n",
        "                              validation_steps = val_generator.samples // batch_size,\n",
        "                              epochs=20,\n",
        "                              verbose= 1,\n",
        "                              # callbacks=callbacks,                # лучший результат\n",
        "                              callbacks=[stopping_callback]       # остановка после ухудшения\n",
        "                              )\n",
        "print()\n",
        "print(\"Обучение остановлено на эпохе:\", stopping_callback.stopped_epoch)"
      ],
      "metadata": {
        "colab": {
          "base_uri": "https://localhost:8080/"
        },
        "id": "MhhsoDwGnOjn",
        "outputId": "2b782b2a-e6f5-4681-939e-18806e30de6e"
      },
      "execution_count": null,
      "outputs": [
        {
          "output_type": "stream",
          "name": "stdout",
          "text": [
            "Epoch 1/20\n",
            "20/20 [==============================] - 82s 4s/step - loss: 196.1340 - accuracy: 0.5437 - val_loss: 0.5373 - val_accuracy: 0.4812\n",
            "Epoch 2/20\n",
            "20/20 [==============================] - 75s 4s/step - loss: 0.7186 - accuracy: 0.5359 - val_loss: 0.6758 - val_accuracy: 0.4125\n",
            "Epoch 3/20\n",
            "20/20 [==============================] - 73s 4s/step - loss: 0.7666 - accuracy: 0.5328 - val_loss: 0.6326 - val_accuracy: 0.6375\n",
            "Epoch 4/20\n",
            "20/20 [==============================] - 72s 4s/step - loss: 0.6692 - accuracy: 0.5422 - val_loss: 0.6891 - val_accuracy: 0.5063\n",
            "Epoch 5/20\n",
            "20/20 [==============================] - 73s 4s/step - loss: 0.7400 - accuracy: 0.5047 - val_loss: 0.6804 - val_accuracy: 0.5375\n",
            "Epoch 6/20\n",
            "20/20 [==============================] - 73s 4s/step - loss: 0.6567 - accuracy: 0.5562 - val_loss: 0.5497 - val_accuracy: 0.7437\n",
            "Epoch 7/20\n",
            "20/20 [==============================] - 76s 4s/step - loss: 0.6535 - accuracy: 0.5953 - val_loss: 0.5529 - val_accuracy: 0.7375\n",
            "Epoch 8/20\n",
            "20/20 [==============================] - 73s 4s/step - loss: 0.6143 - accuracy: 0.6266 - val_loss: 0.5667 - val_accuracy: 0.7125\n",
            "Epoch 9/20\n",
            "20/20 [==============================] - 75s 4s/step - loss: 0.6266 - accuracy: 0.6000 - val_loss: 0.5391 - val_accuracy: 0.7688\n",
            "Epoch 10/20\n",
            "20/20 [==============================] - 72s 4s/step - loss: 0.6032 - accuracy: 0.6438 - val_loss: 0.5271 - val_accuracy: 0.7625\n",
            "Epoch 11/20\n",
            "20/20 [==============================] - 99s 5s/step - loss: 0.6141 - accuracy: 0.6203 - val_loss: 0.5582 - val_accuracy: 0.7125\n",
            "Epoch 12/20\n",
            "20/20 [==============================] - 73s 4s/step - loss: 0.6495 - accuracy: 0.5672 - val_loss: 0.5553 - val_accuracy: 0.7188\n",
            "Epoch 13/20\n",
            "20/20 [==============================] - 73s 4s/step - loss: 0.6314 - accuracy: 0.6266 - val_loss: 0.5210 - val_accuracy: 0.7563\n",
            "Epoch 14/20\n",
            "20/20 [==============================] - 72s 4s/step - loss: 0.6506 - accuracy: 0.5891 - val_loss: 0.5863 - val_accuracy: 0.6625\n",
            "Epoch 15/20\n",
            "20/20 [==============================] - 72s 4s/step - loss: 0.6028 - accuracy: 0.6484 - val_loss: 0.5264 - val_accuracy: 0.7375\n",
            "\n",
            "Обучение остановлено на эпохе: 14\n"
          ]
        }
      ]
    },
    {
      "cell_type": "code",
      "source": [
        "# Обучение модели с использованием генератора изображений\n",
        "history = model.fit(train_generator,\n",
        "                              steps_per_epoch = train_generator.samples // batch_size,\n",
        "                              validation_data=val_generator,\n",
        "                              validation_steps = val_generator.samples // batch_size,\n",
        "                              epochs=20,\n",
        "                              verbose= 1,\n",
        "                              # callbacks=callbacks,                # лучший результат\n",
        "                              callbacks=[stopping_callback]       # остановка после ухудшения\n",
        "                              )\n",
        "print()\n",
        "print(\"Обучение остановлено на эпохе:\", stopping_callback.stopped_epoch)"
      ],
      "metadata": {
        "colab": {
          "base_uri": "https://localhost:8080/"
        },
        "id": "SakVU2ElJNht",
        "outputId": "faa75296-238b-4c21-a493-2eb615dcd895"
      },
      "execution_count": null,
      "outputs": [
        {
          "output_type": "stream",
          "name": "stdout",
          "text": [
            "Epoch 1/20\n",
            "20/20 [==============================] - 86s 4s/step - loss: 0.8309 - accuracy: 0.5281 - val_loss: 0.6527 - val_accuracy: 0.7500\n",
            "Epoch 2/20\n",
            "20/20 [==============================] - 72s 4s/step - loss: 0.6126 - accuracy: 0.6641 - val_loss: 0.4480 - val_accuracy: 0.8375\n",
            "Epoch 3/20\n",
            "20/20 [==============================] - 73s 4s/step - loss: 0.4951 - accuracy: 0.7812 - val_loss: 0.3474 - val_accuracy: 0.8938\n",
            "Epoch 4/20\n",
            "20/20 [==============================] - 73s 4s/step - loss: 0.4128 - accuracy: 0.8266 - val_loss: 0.2845 - val_accuracy: 0.9062\n",
            "Epoch 5/20\n",
            "20/20 [==============================] - 74s 4s/step - loss: 0.5437 - accuracy: 0.7766 - val_loss: 0.4531 - val_accuracy: 0.8000\n",
            "Epoch 6/20\n",
            "20/20 [==============================] - 73s 4s/step - loss: 0.4657 - accuracy: 0.7859 - val_loss: 0.3136 - val_accuracy: 0.8687\n",
            "Epoch 7/20\n",
            "20/20 [==============================] - 74s 4s/step - loss: 0.3972 - accuracy: 0.8484 - val_loss: 0.2685 - val_accuracy: 0.9187\n",
            "Epoch 8/20\n",
            "20/20 [==============================] - 75s 4s/step - loss: 0.3757 - accuracy: 0.8562 - val_loss: 0.2758 - val_accuracy: 0.9187\n",
            "Epoch 9/20\n",
            "20/20 [==============================] - 79s 4s/step - loss: 0.3078 - accuracy: 0.8734 - val_loss: 0.1723 - val_accuracy: 0.9250\n",
            "Epoch 10/20\n",
            "20/20 [==============================] - 72s 4s/step - loss: 0.4221 - accuracy: 0.8266 - val_loss: 0.4196 - val_accuracy: 0.8062\n",
            "Epoch 11/20\n",
            "20/20 [==============================] - 73s 4s/step - loss: 0.4292 - accuracy: 0.8078 - val_loss: 0.2973 - val_accuracy: 0.9062\n",
            "Epoch 12/20\n",
            "20/20 [==============================] - 78s 4s/step - loss: 0.5602 - accuracy: 0.7359 - val_loss: 0.3340 - val_accuracy: 0.8375\n",
            "Epoch 13/20\n",
            "20/20 [==============================] - 73s 4s/step - loss: 0.3226 - accuracy: 0.8469 - val_loss: 0.2227 - val_accuracy: 0.9125\n",
            "Epoch 14/20\n",
            "20/20 [==============================] - 74s 4s/step - loss: 0.2655 - accuracy: 0.8828 - val_loss: 0.2163 - val_accuracy: 0.9250\n",
            "Epoch 15/20\n",
            "20/20 [==============================] - 73s 4s/step - loss: 0.2283 - accuracy: 0.9172 - val_loss: 0.2031 - val_accuracy: 0.9000\n",
            "\n",
            "Обучение остановлено на эпохе: 14\n"
          ]
        }
      ]
    },
    {
      "cell_type": "markdown",
      "source": [
        "# Сохранение/Загрузка сети-1\n",
        "При сохранении нейронной сети в файл записываются:\n",
        "- Архитектура нейросети\n",
        "- Веса обученной нейросети\n",
        "- Конфигурация обучения (функция ошибки, тип оптимизатора)\n",
        "- Состояние оптимизатора (можно продолжить обучение с х-момента)"
      ],
      "metadata": {
        "id": "vkrXbGFx4ksZ"
      }
    },
    {
      "cell_type": "code",
      "source": [
        "print('Сохраняем модель')\n",
        "\n",
        "model.save('/content/drive/MyDrive/НетОптик/Save_models/2_class/netoptic_model_2c.keras')\n",
        "\n",
        "print('Сохранение модели в файл netoptic_model_2c.keras завершено')"
      ],
      "metadata": {
        "colab": {
          "base_uri": "https://localhost:8080/"
        },
        "id": "nNsE0iqn4qQY",
        "outputId": "f043dc26-6f22-4ef2-819c-c43db5ba56fd"
      },
      "execution_count": null,
      "outputs": [
        {
          "output_type": "stream",
          "name": "stdout",
          "text": [
            "Сохраняем модель\n",
            "Сохранение модели в файл netoptic_model_2c.keras завершено\n"
          ]
        }
      ]
    },
    {
      "cell_type": "markdown",
      "source": [
        "Сохранение истории:"
      ],
      "metadata": {
        "id": "JWesWiIWM24L"
      }
    },
    {
      "cell_type": "code",
      "source": [
        "import pickle\n",
        "\n",
        "# Сохранение истории обучения\n",
        "print('Сохраняем историю обучения')\n",
        "\n",
        "with open('/content/drive/MyDrive/НетОптик/Save_models/2_class/history-2c.pickle', 'wb') as file:\n",
        "    pickle.dump(history, file)\n",
        "\n",
        "print('Сохранение истории обучения в файл history-2c.pickle завершено')"
      ],
      "metadata": {
        "id": "sW2BAvNTIA24",
        "colab": {
          "base_uri": "https://localhost:8080/"
        },
        "outputId": "766fd462-9dc3-4b75-bff7-b7f5627f4f4a"
      },
      "execution_count": null,
      "outputs": [
        {
          "output_type": "stream",
          "name": "stdout",
          "text": [
            "Сохраняем историю обучения\n",
            "Сохранение истории обучения в файл history-2c.pickle завершено\n"
          ]
        }
      ]
    },
    {
      "cell_type": "markdown",
      "source": [
        "Сохранение весов"
      ],
      "metadata": {
        "id": "aPc8O9JjNCzm"
      }
    },
    {
      "cell_type": "code",
      "source": [
        "# Сохранение весов в файл h5\n",
        "model.save_weights(\"/content/drive/MyDrive/НетОптик/Save_models/2_class/netoptic_w.h5\")"
      ],
      "metadata": {
        "id": "j862R6srEEjS"
      },
      "execution_count": null,
      "outputs": []
    },
    {
      "cell_type": "markdown",
      "source": [
        "## *Загрузка модели-1*"
      ],
      "metadata": {
        "id": "05_zwiIz68Lx"
      }
    },
    {
      "cell_type": "code",
      "source": [
        "from tensorflow.keras.models import load_model\n",
        "\n",
        "print('Загружаем модель-1')\n",
        "\n",
        "# Загружаем модель из файла\n",
        "model = load_model(\"/content/drive/MyDrive/НетОптик/Save_models/2_class/netoptic_model_2c.keras\")\n",
        "\n",
        "print('Загрузка модели-1 из файла netoptic_model_2c.keras завершена')"
      ],
      "metadata": {
        "colab": {
          "base_uri": "https://localhost:8080/"
        },
        "id": "TB5wA0Np6R4e",
        "outputId": "73dc8e88-27ae-4011-b418-ccd213b479a7"
      },
      "execution_count": null,
      "outputs": [
        {
          "output_type": "stream",
          "name": "stdout",
          "text": [
            "Загружаем модель-1\n",
            "Загрузка модели-1 из файла netoptic_model_2c.keras завершена\n"
          ]
        }
      ]
    },
    {
      "cell_type": "code",
      "source": [
        "# Загрузка весов в модель\n",
        "model.load_weights(\"/content/drive/MyDrive/НетОптик/Save_models/2_class/netoptic_w.h5\")"
      ],
      "metadata": {
        "id": "grF210MFEL13"
      },
      "execution_count": null,
      "outputs": []
    },
    {
      "cell_type": "markdown",
      "source": [
        "# РАСПОЗНОВАНИЕ (Test-1)"
      ],
      "metadata": {
        "id": "NrqJHr_77cZr"
      }
    },
    {
      "cell_type": "code",
      "source": [
        "y_pred = model.predict(x_test)\n",
        "print(\"Класс Y_pred:\", y_pred[17])\n",
        "print(\"Класс Y_pred:\", y_pred[18])"
      ],
      "metadata": {
        "colab": {
          "base_uri": "https://localhost:8080/"
        },
        "id": "0wo_xOkyE4_L",
        "outputId": "72a519af-793a-44c8-dcc8-c75f037e26d1"
      },
      "execution_count": null,
      "outputs": [
        {
          "output_type": "stream",
          "name": "stdout",
          "text": [
            "2/2 [==============================] - 1s 392ms/step\n",
            "Класс Y_pred: [0.5197669]\n",
            "Класс Y_pred: [0.5197669]\n"
          ]
        }
      ]
    },
    {
      "cell_type": "code",
      "source": [
        "print(\"Класс Y_test:\", y_test[17])\n",
        "print(\"Класс Y_test:\", y_test[18])"
      ],
      "metadata": {
        "colab": {
          "base_uri": "https://localhost:8080/"
        },
        "id": "i8W6qonEE-mC",
        "outputId": "b8f2b146-483f-4721-92fb-6e9ebf129322"
      },
      "execution_count": null,
      "outputs": [
        {
          "output_type": "stream",
          "name": "stdout",
          "text": [
            "Класс Y_test: 1.0\n",
            "Класс Y_test: 1.0\n"
          ]
        }
      ]
    },
    {
      "cell_type": "markdown",
      "source": [
        "## Kачество работы Сети-1"
      ],
      "metadata": {
        "id": "8uTZJf6okeVL"
      }
    },
    {
      "cell_type": "markdown",
      "source": [
        "Accuracy (точность работы модели) - это отношение правильных ответов модели к общему числу примеров\n",
        "\n",
        "Оцениваем качество работы сети с помощью генератора"
      ],
      "metadata": {
        "id": "tKeZYrVpxJ7T"
      }
    },
    {
      "cell_type": "code",
      "source": [
        "scores = model.evaluate(test_generator, steps=test_samples // batch_size)\n",
        "print(\"\\nTest_accuracy (точность работы модели) на тестовых данных: %.2f%%\" % (scores[1]*100))"
      ],
      "metadata": {
        "colab": {
          "base_uri": "https://localhost:8080/"
        },
        "id": "tul4hsnNFDD2",
        "outputId": "1c31e7ba-8cc4-49bc-e7bc-043a5380d8d4"
      },
      "execution_count": null,
      "outputs": [
        {
          "output_type": "stream",
          "name": "stdout",
          "text": [
            "1/1 [==============================] - 1s 1s/step - loss: 0.5707 - accuracy: 0.6562\n",
            "\n",
            "Test_accuracy (точность работы модели) на тестовых данных: 65.62%\n"
          ]
        }
      ]
    },
    {
      "cell_type": "markdown",
      "source": [
        "# МОДЕЛЬ 2"
      ],
      "metadata": {
        "id": "baiGyYvj8nOq"
      }
    },
    {
      "cell_type": "markdown",
      "source": [
        "# Перенос обучения:\n",
        "Предварительно обученные сети для обработки изображений:\n",
        "1. VGG16 (Very Deep Convolutional Networks for Large-Scale Image Recognition)\n",
        "2. ResNet (Residual Neural Network)\n",
        "3. InceptionNet (Inception V1, V2, V3, V4, Inception-ResNet)\n",
        "4. MobileNet (Efficient Convolutional Neural Networks for Mobile Vision Applications)\n",
        "5. DenseNet (Densely Connected Convolutional Networks)\n",
        "6. AlexNet (Convolutional Neural Networks for Image Classification)\n",
        "7. Xception (Extreme Inception)\n",
        "8. EfficientNet (Efficient Convolutional Neural Networks)\n",
        "\n",
        " которые можно использовать в задачах классификации, распознавания объектов и других задачах обработки изображений."
      ],
      "metadata": {
        "id": "JJ8nJOEIErkX"
      }
    },
    {
      "cell_type": "markdown",
      "source": [
        "## Обученная VGG16"
      ],
      "metadata": {
        "id": "oPTDYyRAhNBx"
      }
    },
    {
      "cell_type": "markdown",
      "source": [
        "Загружаем предварительно обученную нейронную сеть VGG16"
      ],
      "metadata": {
        "id": "iG-O6KSKEnI3"
      }
    },
    {
      "cell_type": "code",
      "source": [
        "# Загрузка библиотек для модели\n",
        "from keras.applications import VGG16\n",
        "\n",
        "# # Загрузка модели VGG16 без весов ImageNet\n",
        "# model = VGG16(weights=None, include_top=True)\n",
        "\n",
        "# Загружаем предварительно обученную нейронную сеть\n",
        "vgg16_net = VGG16(weights='imagenet',                         # признаки из набора данных \"ImageNet\"\n",
        "                  include_top=False,                          # отключаем часть \"классификация\", оставляем только \"сверточную часть\"\n",
        "                  # input_shape=(img_width, img_height, 3))     # размер тензора входных изображений\n",
        "                  input_shape=input_shape)     # размер тензора входных изображений\n",
        "\n",
        "# \"Замораживаем\" веса предварительно обученной нейронной сети VGG16 (сверточную часть обучать не будем)\n",
        "vgg16_net.trainable = False"
      ],
      "metadata": {
        "id": "Crg_PyUKE1lo"
      },
      "execution_count": null,
      "outputs": []
    },
    {
      "cell_type": "markdown",
      "source": [
        "## Граф модели VGG16"
      ],
      "metadata": {
        "id": "zGrrG-WymT_6"
      }
    },
    {
      "cell_type": "code",
      "source": [
        "vgg16_net.summary()"
      ],
      "metadata": {
        "colab": {
          "base_uri": "https://localhost:8080/"
        },
        "id": "_C1kLfm_FR8R",
        "outputId": "a3413bce-48fe-4f5a-89f1-1a33c13f9941"
      },
      "execution_count": null,
      "outputs": [
        {
          "output_type": "stream",
          "name": "stdout",
          "text": [
            "Model: \"vgg16\"\n",
            "_________________________________________________________________\n",
            " Layer (type)                Output Shape              Param #   \n",
            "=================================================================\n",
            " input_1 (InputLayer)        [(None, 450, 675, 3)]     0         \n",
            "                                                                 \n",
            " block1_conv1 (Conv2D)       (None, 450, 675, 64)      1792      \n",
            "                                                                 \n",
            " block1_conv2 (Conv2D)       (None, 450, 675, 64)      36928     \n",
            "                                                                 \n",
            " block1_pool (MaxPooling2D)  (None, 225, 337, 64)      0         \n",
            "                                                                 \n",
            " block2_conv1 (Conv2D)       (None, 225, 337, 128)     73856     \n",
            "                                                                 \n",
            " block2_conv2 (Conv2D)       (None, 225, 337, 128)     147584    \n",
            "                                                                 \n",
            " block2_pool (MaxPooling2D)  (None, 112, 168, 128)     0         \n",
            "                                                                 \n",
            " block3_conv1 (Conv2D)       (None, 112, 168, 256)     295168    \n",
            "                                                                 \n",
            " block3_conv2 (Conv2D)       (None, 112, 168, 256)     590080    \n",
            "                                                                 \n",
            " block3_conv3 (Conv2D)       (None, 112, 168, 256)     590080    \n",
            "                                                                 \n",
            " block3_pool (MaxPooling2D)  (None, 56, 84, 256)       0         \n",
            "                                                                 \n",
            " block4_conv1 (Conv2D)       (None, 56, 84, 512)       1180160   \n",
            "                                                                 \n",
            " block4_conv2 (Conv2D)       (None, 56, 84, 512)       2359808   \n",
            "                                                                 \n",
            " block4_conv3 (Conv2D)       (None, 56, 84, 512)       2359808   \n",
            "                                                                 \n",
            " block4_pool (MaxPooling2D)  (None, 28, 42, 512)       0         \n",
            "                                                                 \n",
            " block5_conv1 (Conv2D)       (None, 28, 42, 512)       2359808   \n",
            "                                                                 \n",
            " block5_conv2 (Conv2D)       (None, 28, 42, 512)       2359808   \n",
            "                                                                 \n",
            " block5_conv3 (Conv2D)       (None, 28, 42, 512)       2359808   \n",
            "                                                                 \n",
            " block5_pool (MaxPooling2D)  (None, 14, 21, 512)       0         \n",
            "                                                                 \n",
            "=================================================================\n",
            "Total params: 14714688 (56.13 MB)\n",
            "Trainable params: 0 (0.00 Byte)\n",
            "Non-trainable params: 14714688 (56.13 MB)\n",
            "_________________________________________________________________\n"
          ]
        }
      ]
    },
    {
      "cell_type": "markdown",
      "source": [
        "*   Кол-во параметров:  14,714,688\n",
        "*   Кол-во параметров обучаем: 0\n",
        "*   Кол-во параметров НЕ обучаем: 14,714,688\n"
      ],
      "metadata": {
        "id": "kCejU5gMfkkx"
      }
    },
    {
      "cell_type": "markdown",
      "source": [
        "## Модель составной сети"
      ],
      "metadata": {
        "id": "A1eh0TVAhXWu"
      }
    },
    {
      "cell_type": "markdown",
      "source": [
        "Создаем составную нейронную сеть на основе VGG16"
      ],
      "metadata": {
        "id": "c8M00nqpFcVF"
      }
    },
    {
      "cell_type": "code",
      "source": [
        "model = Sequential()\n",
        "# Добавляем в модель сеть VGG16 вместо слоя\n",
        "model.add(vgg16_net)\n",
        "# Добавляем слои, для классификации\n",
        "model.add(Flatten())\n",
        "model.add(Dense(256))\n",
        "model.add(Activation('relu'))\n",
        "model.add(Dropout(0.5))\n",
        "model.add(Dense(1))\n",
        "model.add(Activation('sigmoid'))\n",
        "# Вывод архитектуры\n",
        "model.summary()"
      ],
      "metadata": {
        "id": "z0DtfYtAFa2d",
        "colab": {
          "base_uri": "https://localhost:8080/"
        },
        "outputId": "f1e60717-2b51-4fb9-a249-1e2a4e11e0f6"
      },
      "execution_count": null,
      "outputs": [
        {
          "output_type": "stream",
          "name": "stdout",
          "text": [
            "Model: \"sequential_1\"\n",
            "_________________________________________________________________\n",
            " Layer (type)                Output Shape              Param #   \n",
            "=================================================================\n",
            " vgg16 (Functional)          (None, 14, 21, 512)       14714688  \n",
            "                                                                 \n",
            " flatten_1 (Flatten)         (None, 150528)            0         \n",
            "                                                                 \n",
            " dense_2 (Dense)             (None, 256)               38535424  \n",
            "                                                                 \n",
            " activation_5 (Activation)   (None, 256)               0         \n",
            "                                                                 \n",
            " dropout_1 (Dropout)         (None, 256)               0         \n",
            "                                                                 \n",
            " dense_3 (Dense)             (None, 1)                 257       \n",
            "                                                                 \n",
            " activation_6 (Activation)   (None, 1)                 0         \n",
            "                                                                 \n",
            "=================================================================\n",
            "Total params: 53250369 (203.13 MB)\n",
            "Trainable params: 38535681 (147.00 MB)\n",
            "Non-trainable params: 14714688 (56.13 MB)\n",
            "_________________________________________________________________\n"
          ]
        }
      ]
    },
    {
      "cell_type": "markdown",
      "source": [
        "*   Кол-во параметров:  53,250,369 (14,714,688 + 38,535,424 + 257)\n",
        "*   Кол-во параметров обучаем: 38,535,681 (38,535,424 + 257)\n",
        "*   Кол-во параметров НЕ обучаем: 14,714,688"
      ],
      "metadata": {
        "id": "H0rxVgYoh4v0"
      }
    },
    {
      "cell_type": "markdown",
      "source": [
        "## Компиляция (с VGG16)"
      ],
      "metadata": {
        "id": "1y7DILs7Q1nR"
      }
    },
    {
      "cell_type": "markdown",
      "source": [
        "Компиляция составной нейронной сети"
      ],
      "metadata": {
        "id": "iH3Z6lymFmts"
      }
    },
    {
      "cell_type": "code",
      "source": [
        "model.compile(loss='binary_crossentropy',\n",
        "              optimizer=Adam(learning_rate=1e-5),         # должна быть низкой, чтобы алгоритм обучения сошелся\n",
        "              metrics=['accuracy'])"
      ],
      "metadata": {
        "id": "lx2pcRqQFpSF"
      },
      "execution_count": null,
      "outputs": []
    },
    {
      "cell_type": "markdown",
      "source": [
        "## Callback (VGG16)"
      ],
      "metadata": {
        "id": "Q1TDJ6EJlR6v"
      }
    },
    {
      "cell_type": "markdown",
      "source": [
        "Callback для ModelCheckpoint - для сохранение нейронной сети на каждом этапе (или лучший результат) обучения\n",
        "\n",
        "EarlyStopping Callback - для остановки обучения нейросети при переобучении"
      ],
      "metadata": {
        "id": "t9X4Lqp1ldWK"
      }
    },
    {
      "cell_type": "code",
      "source": [
        "from tensorflow.keras.callbacks import ModelCheckpoint\n",
        "from tensorflow.keras.callbacks import EarlyStopping\n",
        "\n",
        "# Сохраняем сеть на каждой эпохе\n",
        "# {epoch:02d} - номер эпохи\n",
        "# {val_acc:.4f} - значение аккуратности на проверочном наборе данных\n",
        "# callbacks = [ModelCheckpoint('Save_models/next-accuracy-{epoch:02d}-{val_accuracy:.4f}.hdf5')]\n",
        "\n",
        "# Сохраняем только лучший вариант сети\n",
        "callbacks = [ModelCheckpoint('/content/drive/MyDrive/НетОптик/Save_models/2_class/best-callback_vgg16.hdf5', monitor='val_accuracy', save_best_only=True)]\n",
        "# callbacks = [ModelCheckpoint('/content/drive/MyDrive/НетОптик/Save_models/2_class/best-callback_vgg16.keras', monitor='val_accuracy', save_best_only=True)]\n",
        "\n",
        "\n",
        "# остановка если ухудшение после 5 шагов\n",
        "stopping_callback = EarlyStopping(monitor='val_accuracy', patience=3)"
      ],
      "metadata": {
        "id": "kE6qz5cclgpr"
      },
      "execution_count": null,
      "outputs": []
    },
    {
      "cell_type": "markdown",
      "source": [
        "## Обучение (VGG16)"
      ],
      "metadata": {
        "id": "WwcAqaq0RLyz"
      }
    },
    {
      "cell_type": "markdown",
      "source": [
        "Обучаем составную модель с использованием генераторов fit_generator\n",
        "\n",
        "*   train_generator - генератор данных для обучения\n",
        "*   validation_data - генератор данных для проверки"
      ],
      "metadata": {
        "id": "SHdBCbDEnf1X"
      }
    },
    {
      "cell_type": "code",
      "source": [
        "# Обучение модели с использованием генератора изображений\n",
        "history = model.fit(train_generator,\n",
        "                              steps_per_epoch = train_generator.samples // batch_size,\n",
        "                              validation_data=val_generator,\n",
        "                              validation_steps = val_generator.samples // batch_size,\n",
        "                              epochs=6,\n",
        "                              verbose= 1,\n",
        "                              callbacks=callbacks,                # лучший результат\n",
        "                              # callbacks=[stopping_callback]     # остановка после ухудшения\n",
        "                              )"
      ],
      "metadata": {
        "colab": {
          "base_uri": "https://localhost:8080/"
        },
        "id": "IlHgkuoM8cBH",
        "outputId": "6abbf684-5716-4eb1-cd40-98dd8036f156"
      },
      "execution_count": null,
      "outputs": [
        {
          "output_type": "stream",
          "name": "stdout",
          "text": [
            "Epoch 1/6\n",
            "20/20 [==============================] - ETA: 0s - loss: 1.7302 - accuracy: 0.7391"
          ]
        },
        {
          "output_type": "stream",
          "name": "stderr",
          "text": [
            "/usr/local/lib/python3.10/dist-packages/keras/src/engine/training.py:3000: UserWarning: You are saving your model as an HDF5 file via `model.save()`. This file format is considered legacy. We recommend using instead the native Keras format, e.g. `model.save('my_model.keras')`.\n",
            "  saving_api.save_model(\n"
          ]
        },
        {
          "output_type": "stream",
          "name": "stdout",
          "text": [
            "\b\b\b\b\b\b\b\b\b\b\b\b\b\b\b\b\b\b\b\b\b\b\b\b\b\b\b\b\b\b\b\b\b\b\b\b\b\b\b\b\b\b\b\b\b\b\b\b\b\b\b\b\b\b\b\b\b\b\b\b\b\b\b\b\b\b\b\b\b\b\b\b\b\b\b\b\b\b\b\b\b\b\r20/20 [==============================] - 121s 5s/step - loss: 1.7302 - accuracy: 0.7391 - val_loss: 0.0912 - val_accuracy: 0.9563\n",
            "Epoch 2/6\n",
            "20/20 [==============================] - 80s 4s/step - loss: 0.2584 - accuracy: 0.9516 - val_loss: 0.2128 - val_accuracy: 0.9375\n",
            "Epoch 3/6\n",
            "20/20 [==============================] - 91s 5s/step - loss: 0.2268 - accuracy: 0.9563 - val_loss: 0.1400 - val_accuracy: 0.9625\n",
            "Epoch 4/6\n",
            "20/20 [==============================] - 90s 5s/step - loss: 0.1429 - accuracy: 0.9656 - val_loss: 0.0414 - val_accuracy: 0.9875\n",
            "Epoch 5/6\n",
            "20/20 [==============================] - 83s 4s/step - loss: 0.1378 - accuracy: 0.9750 - val_loss: 0.0208 - val_accuracy: 0.9875\n",
            "Epoch 6/6\n",
            "20/20 [==============================] - 80s 4s/step - loss: 0.0918 - accuracy: 0.9750 - val_loss: 0.0140 - val_accuracy: 0.9875\n"
          ]
        }
      ]
    },
    {
      "cell_type": "code",
      "source": [
        "# Обучение модели с использованием генератора изображений\n",
        "history = model.fit_generator(train_generator,\n",
        "                              steps_per_epoch = train_generator.samples // batch_size,\n",
        "                              validation_data=val_generator,\n",
        "                              validation_steps = val_generator.samples // batch_size,\n",
        "                              epochs=5,\n",
        "                              verbose= 1,\n",
        "                              callbacks=callbacks,                # лучший результат\n",
        "                              # callbacks=[stopping_callback]     # остановка после ухудшения\n",
        "                              )"
      ],
      "metadata": {
        "colab": {
          "base_uri": "https://localhost:8080/"
        },
        "id": "p59xcVFUGVob",
        "outputId": "a4ab56ad-3bb5-466a-c56b-f586dbec25c0"
      },
      "execution_count": null,
      "outputs": [
        {
          "output_type": "stream",
          "name": "stderr",
          "text": [
            "<ipython-input-81-67b5f0f90d2f>:2: UserWarning: `Model.fit_generator` is deprecated and will be removed in a future version. Please use `Model.fit`, which supports generators.\n",
            "  history = model.fit_generator(train_generator,\n"
          ]
        },
        {
          "output_type": "stream",
          "name": "stdout",
          "text": [
            "Epoch 1/5\n",
            "20/20 [==============================] - 112s 4s/step - loss: 8.9278 - accuracy: 0.5156 - val_loss: 0.9645 - val_accuracy: 0.8250\n",
            "Epoch 2/5\n",
            "20/20 [==============================] - 101s 5s/step - loss: 1.3647 - accuracy: 0.8547 - val_loss: 0.5543 - val_accuracy: 0.9312\n",
            "Epoch 3/5\n",
            "20/20 [==============================] - 98s 5s/step - loss: 0.5065 - accuracy: 0.9172 - val_loss: 0.1578 - val_accuracy: 0.9438\n",
            "Epoch 4/5\n",
            "20/20 [==============================] - 115s 6s/step - loss: 0.5128 - accuracy: 0.9219 - val_loss: 0.0903 - val_accuracy: 0.9688\n",
            "Epoch 5/5\n",
            "20/20 [==============================] - 82s 4s/step - loss: 0.2519 - accuracy: 0.9500 - val_loss: 0.1126 - val_accuracy: 0.9625\n"
          ]
        }
      ]
    },
    {
      "cell_type": "markdown",
      "source": [
        "# Сохранение/Загрузка сети-2"
      ],
      "metadata": {
        "id": "cGzVKoaKKUQz"
      }
    },
    {
      "cell_type": "markdown",
      "source": [
        "## *Сохранение модели-2*"
      ],
      "metadata": {
        "id": "jdSYZ5l6kspD"
      }
    },
    {
      "cell_type": "code",
      "source": [
        "print('Сохраняем сеть')\n",
        "\n",
        "model.save('/content/drive/MyDrive/НетОптик/Save_models/2_class/netoptic_VGG16.keras')\n",
        "\n",
        "print('Сохранение сети в файл netoptic_VGG16.keras завершено')"
      ],
      "metadata": {
        "colab": {
          "base_uri": "https://localhost:8080/"
        },
        "id": "b4-IxwkoOS7T",
        "outputId": "c8ad5b0b-3d38-4157-eb1c-2a9097bdd284"
      },
      "execution_count": null,
      "outputs": [
        {
          "output_type": "stream",
          "name": "stdout",
          "text": [
            "Сохраняем сеть\n",
            "Сохранение сети в файл netoptic_VGG16.keras завершено\n"
          ]
        }
      ]
    },
    {
      "cell_type": "markdown",
      "source": [
        "Сохранение истории:"
      ],
      "metadata": {
        "id": "d7oJ04e-JHbf"
      }
    },
    {
      "cell_type": "code",
      "source": [
        "import pickle\n",
        "\n",
        "# Сохранение истории обучения\n",
        "with open('/content/drive/MyDrive/НетОптик/Save_models/2_class/history-vgg16.pickle', 'wb') as file:\n",
        "    pickle.dump(history, file)"
      ],
      "metadata": {
        "id": "mq0bDyOzJDFi"
      },
      "execution_count": null,
      "outputs": []
    },
    {
      "cell_type": "markdown",
      "source": [
        "Сохранение весов"
      ],
      "metadata": {
        "id": "NMrQowB0NWWi"
      }
    },
    {
      "cell_type": "code",
      "source": [
        "# Сохранение весов в файл h5\n",
        "model.save_weights(\"/content/drive/MyDrive/НетОптик/Save_models/2_class/netoptic_w_VGG16.h5\")"
      ],
      "metadata": {
        "id": "6cFwkHeymVxb"
      },
      "execution_count": null,
      "outputs": []
    },
    {
      "cell_type": "markdown",
      "source": [
        "## *Загрузка модели-2*"
      ],
      "metadata": {
        "id": "QaJHxtqTlAtU"
      }
    },
    {
      "cell_type": "markdown",
      "source": [
        "Загрузка модели-2"
      ],
      "metadata": {
        "id": "ppYdiqX8O2eh"
      }
    },
    {
      "cell_type": "code",
      "source": [
        "from tensorflow.keras.models import load_model\n",
        "\n",
        "print('Загружаем модель-2 с vgg16')\n",
        "\n",
        "# Загружаем модель из файла\n",
        "model = load_model(\"/content/drive/MyDrive/НетОптик/Save_models/2_class/netoptic_VGG16.keras\")\n",
        "\n",
        "print('Загрузка моделb-2 с vgg16 из файла netoptic_VGG16.keras завершена')"
      ],
      "metadata": {
        "colab": {
          "base_uri": "https://localhost:8080/"
        },
        "id": "kwNqkhrRKbob",
        "outputId": "58f1323e-1342-4f05-97f0-8728c2acc969"
      },
      "execution_count": null,
      "outputs": [
        {
          "output_type": "stream",
          "name": "stdout",
          "text": [
            "Загружаем модель-2 с vgg16\n",
            "Загрузка моделb-2 с vgg16 из файла netoptic_VGG16.keras завершена\n"
          ]
        }
      ]
    },
    {
      "cell_type": "markdown",
      "source": [
        "Загрузка истории:"
      ],
      "metadata": {
        "id": "RNRYuzAKOPGZ"
      }
    },
    {
      "cell_type": "code",
      "source": [
        "print('Загружаем историю обучения')\n",
        "\n",
        "# Загрузка истории обучения\n",
        "with open('/content/drive/MyDrive/НетОптик/Save_models/2_class/history-vgg16.pickle', 'rb') as file:\n",
        "    history = pickle.load(file)\n",
        "print('Загрузка истории обучения из файла history-vgg16.pickle завершена')"
      ],
      "metadata": {
        "id": "ObXXS11kOEdp",
        "colab": {
          "base_uri": "https://localhost:8080/"
        },
        "outputId": "f0eed1dd-6d13-4e62-eb25-9fb10f21bee0"
      },
      "execution_count": null,
      "outputs": [
        {
          "output_type": "stream",
          "name": "stdout",
          "text": [
            "Загружаем историю обучения\n",
            "Загрузка истории обучения из файла history-vgg16.pickle завершена\n"
          ]
        }
      ]
    },
    {
      "cell_type": "markdown",
      "source": [
        "Загрузка весов"
      ],
      "metadata": {
        "id": "_06Zi55eOzrK"
      }
    },
    {
      "cell_type": "code",
      "source": [
        "# Загрузка весов в модель\n",
        "model.load_weights(\"/content/drive/MyDrive/НетОптик/Save_models/2_class/netoptic_w_VGG16.h5\")"
      ],
      "metadata": {
        "id": "9jB-xeXLmcrI"
      },
      "execution_count": null,
      "outputs": []
    },
    {
      "cell_type": "markdown",
      "source": [
        "# Выводы о качестве работы модели-2"
      ],
      "metadata": {
        "id": "rdNq_Iy4lkGA"
      }
    },
    {
      "cell_type": "markdown",
      "source": [
        "Оценка качества работы модели нейронной сети может быть выполнена с помощью различных метрик. Некоторые из них:\n",
        "\n",
        "1. Точность (Accuracy): определяет, насколько часто модель дает правильный ответ. Это отношение количества правильных предсказаний к общему числу предсказаний.\n",
        "\n",
        "2. Полнота (Recall): измеряет, насколько хорошо модель находит положительные примеры из всего множества положительных примеров. Это отношение количества верно классифицированных положительных примеров к общему числу положительных примеров.\n",
        "\n",
        "3. Точность предсказания (Precision): определяет, насколько точно модель классифицирует положительные примеры. Это отношение количества верно классифицированных положительных примеров к общему числу предсказанных положительных примеров.\n",
        "\n",
        "4. F-мера (F1-score): это гармоническое среднее между полнотой и точностью предсказания. Она дает более сбалансированную оценку качества модели, учитывая и полноту, и точность."
      ],
      "metadata": {
        "id": "TexCSnwpnaUg"
      }
    },
    {
      "cell_type": "markdown",
      "source": [
        "### Точность (Accuracy)"
      ],
      "metadata": {
        "id": "sHZrfho2ophQ"
      }
    },
    {
      "cell_type": "markdown",
      "source": [
        "Оценка модели на тестовых (144) данных (включают заранее сгененерированные (108) и исходные(36) изображения)"
      ],
      "metadata": {
        "id": "10y8aYRmo_dA"
      }
    },
    {
      "cell_type": "code",
      "source": [
        "# Вычисляем метрику accuracy\n",
        "loss, accuracy = model.evaluate(X_test, Y_test)\n",
        "\n",
        "# Выводим полученные результаты\n",
        "print(f'Loss: {loss}')\n",
        "print(f'Accuracy: {accuracy}')"
      ],
      "metadata": {
        "colab": {
          "base_uri": "https://localhost:8080/"
        },
        "id": "01ytE8oeAFBc",
        "outputId": "9d81b7d7-dc18-478d-a39f-f362e1580d29"
      },
      "execution_count": null,
      "outputs": [
        {
          "output_type": "stream",
          "name": "stdout",
          "text": [
            "5/5 [==============================] - 4s 637ms/step - loss: 0.0143 - accuracy: 0.9931\n",
            "Loss: 0.014327575452625751\n",
            "Accuracy: 0.9930555820465088\n"
          ]
        }
      ]
    },
    {
      "cell_type": "markdown",
      "source": [
        "Оцениваем качество работы сети с помощью генератора. Генератор test_generator_a подает нормализуя и перемешивая те же тестовые образцы в модель, с шагами, определенными как test_samples_a // batch_size."
      ],
      "metadata": {
        "id": "C-v7tkF-MVdM"
      }
    },
    {
      "cell_type": "code",
      "source": [
        "print(f'Всего тестовых изображений: {test_samples_a}\\n')\n",
        "scores = model.evaluate(test_generator_a, steps=test_samples_a // batch_size)\n",
        "print(\"\\nTest_accuracy (точность работы модели) на тестовых данных: %.2f%%\" % (scores[1]*100))"
      ],
      "metadata": {
        "colab": {
          "base_uri": "https://localhost:8080/"
        },
        "id": "bbw8Qo__NBKN",
        "outputId": "4948156c-5657-4320-f3b7-4ef777cebb30"
      },
      "execution_count": null,
      "outputs": [
        {
          "output_type": "stream",
          "name": "stdout",
          "text": [
            "Всего тестовых изображений: 144\n",
            "\n",
            "4/4 [==============================] - 4s 728ms/step - loss: 0.0161 - accuracy: 0.9922\n",
            "\n",
            "Test_accuracy (точность работы модели) на тестовых данных: 99.22%\n"
          ]
        }
      ]
    },
    {
      "cell_type": "markdown",
      "source": [
        "## Графики потерь и точности"
      ],
      "metadata": {
        "id": "mJe1C5e6SpI_"
      }
    },
    {
      "cell_type": "code",
      "source": [
        "# Значения потерь и точности из истории обучения\n",
        "train_loss = history.history['loss']\n",
        "val_loss = history.history['val_loss']\n",
        "train_acc = history.history['accuracy']\n",
        "val_acc = history.history['val_accuracy']\n",
        "\n",
        "# График с двумя подграфиками\n",
        "fig, (ax1, ax2) = plt.subplots(2, 1, figsize=(10, 8))\n",
        "\n",
        "# График потерь\n",
        "ax1.plot(train_loss, label='Доля потерь на обучающем наборе')\n",
        "ax1.plot(val_loss, label='Доля потерь на проверочном наборе')\n",
        "ax1.legend()\n",
        "ax1.set_title('График потерь')\n",
        "ax1.set_xlabel('Эпоха обучения')\n",
        "ax1.set_ylabel('Доля потерь')\n",
        "\n",
        "# График точности\n",
        "ax2.plot(train_acc, label='Доля верных ответов на обучающем наборе')\n",
        "ax2.plot(val_acc, label='Доля верных ответов на проверочном наборе')\n",
        "ax2.legend()\n",
        "ax2.set_title('График точности')\n",
        "ax2.set_xlabel('Эпоха обучения')\n",
        "ax2.set_ylabel('Доля верных ответов')\n",
        "\n",
        "# Отображение графиков\n",
        "plt.tight_layout()\n",
        "plt.show()"
      ],
      "metadata": {
        "colab": {
          "base_uri": "https://localhost:8080/",
          "height": 807
        },
        "id": "J40qu8kQ-p-d",
        "outputId": "e92512d5-972d-4ae6-b4b9-48f41906396b"
      },
      "execution_count": null,
      "outputs": [
        {
          "output_type": "display_data",
          "data": {
            "text/plain": [
              "<Figure size 1000x800 with 2 Axes>"
            ],
            "image/png": "[encoded data removed]"
          },
          "metadata": {}
        }
      ]
    },
    {
      "cell_type": "markdown",
      "source": [
        "## График confusion_matrix"
      ],
      "metadata": {
        "id": "7HiYrRfMS0Uj"
      }
    },
    {
      "cell_type": "markdown",
      "source": [
        "confusion_matrix (матрица неточностей) позволяет отобразить количество правильно и неправильно классифицированных образцов для каждого класса."
      ],
      "metadata": {
        "id": "1YZmku93tP_x"
      }
    },
    {
      "cell_type": "markdown",
      "source": [
        "### Test (36=18+18 исходные изображения)"
      ],
      "metadata": {
        "id": "fWnLGv7kx-rv"
      }
    },
    {
      "cell_type": "code",
      "source": [
        "# Импорт метода построения confusion_matrix\n",
        "from sklearn.metrics import confusion_matrix\n",
        "# Импорт метода визуализации confusion_matrix\n",
        "from sklearn.metrics import ConfusionMatrixDisplay\n",
        "\n",
        "# # Получение предсказанных значений модели для тестового набора данных\n",
        "# y_pred = model.predict(test_generator)\n",
        "y_pred = model.predict(x_test)\n",
        "y_pred = np.round(y_pred).flatten()                    # округление до целых чисел и преобразование в одномерный массив\n",
        "\n",
        "# # Получение истинных значений тестового набора данных\n",
        "# y_test = test_generator.classes\n",
        "# y_test = y_test\n",
        "\n",
        "# Построение confusion matrix\n",
        "cm = confusion_matrix(y_test, y_pred)\n",
        "\n",
        "# # Визуализация матрицы ошибок\n",
        "# disp = ConfusionMatrixDisplay(confusion_matrix=cm, display_labels = ['Пластик', 'Метал'])\n",
        "display_label = np.arange(len(TRAIN_CLASS_LIST))\n",
        "disp = ConfusionMatrixDisplay(confusion_matrix=cm, display_labels = display_label)\n",
        "disp.plot()\n",
        "\n",
        "plt.title('Матрица ошибок')\n",
        "plt.xticks(display_label, TRAIN_CLASS_LIST, rotation=45)\n",
        "plt.yticks(display_label, TRAIN_CLASS_LIST, rotation=45)\n",
        "plt.xlabel('Предсказания модели')\n",
        "plt.ylabel('Правильные ответы')\n",
        "plt.show()"
      ],
      "metadata": {
        "colab": {
          "base_uri": "https://localhost:8080/",
          "height": 531
        },
        "id": "gRr0NaHz-1kG",
        "outputId": "b7a0f35d-f042-43cc-ee60-455b478d298e"
      },
      "execution_count": null,
      "outputs": [
        {
          "output_type": "stream",
          "name": "stdout",
          "text": [
            "2/2 [==============================] - 1s 765ms/step\n"
          ]
        },
        {
          "output_type": "display_data",
          "data": {
            "text/plain": [
              "<Figure size 640x480 with 2 Axes>"
            ],
            "image/png": "[encoded data removed]"
          },
          "metadata": {}
        }
      ]
    },
    {
      "cell_type": "markdown",
      "source": [
        "Ось x - предсказания модели Ось y - правильные ответы\n",
        "\n",
        "Пластик - class_1p |||| Метал - class_2m\n",
        "\n",
        "Получаем:\n",
        "\n",
        "18 раз модель предсказала пластик (правильный ответ пластик)\n",
        "\n",
        "1 раза модель предсказала метал (правильный ответ пластик)\n",
        "\n",
        "0 раз модель предсказала пластик (правильный ответ метал)\n",
        "\n",
        "17 раза модель предсказала метал (правильный ответ метал)"
      ],
      "metadata": {
        "id": "uCZYyKk-RoEH"
      }
    },
    {
      "cell_type": "markdown",
      "source": [
        "### Test (144=72+72 изображений)"
      ],
      "metadata": {
        "id": "XAbh71kAzfNF"
      }
    },
    {
      "cell_type": "markdown",
      "source": [
        "Увеличим входные тестовые данные с 36 = из первого класса (18исх)+из второго класса (18исх) до 144 = из первого класса (18исх+54аугм)+из второго класса (18исх+54аугм) изображений"
      ],
      "metadata": {
        "id": "GHEO3X8Yz_sT"
      }
    },
    {
      "cell_type": "code",
      "source": [
        "# # Получение предсказанных значений модели для тестового набора данных\n",
        "# y_pred = model.predict(test_generator)\n",
        "Y_pred = model.predict(X_test)\n",
        "Y_pred = np.round(Y_pred).flatten()                    # округление до целых чисел и преобразование в одномерный массив\n",
        "\n",
        "# # Получение истинных значений тестового набора данных\n",
        "# y_test = test_generator.classes\n",
        "# y_test = y_test\n",
        "\n",
        "# Построение confusion matrix\n",
        "cm_a = confusion_matrix(Y_test, Y_pred)\n",
        "\n",
        "# # Визуализация матрицы ошибок\n",
        "# disp = ConfusionMatrixDisplay(confusion_matrix=cm, display_labels = ['Пластик', 'Метал'])\n",
        "display_label = np.arange(len(TEST_CLASS_LIST_a))\n",
        "disp = ConfusionMatrixDisplay(confusion_matrix=cm_a, display_labels = display_label)\n",
        "disp.plot()\n",
        "\n",
        "plt.title('Матрица ошибок')\n",
        "plt.xticks(display_label, TEST_CLASS_LIST_a, rotation=45)\n",
        "plt.yticks(display_label, TEST_CLASS_LIST_a, rotation=45)\n",
        "plt.xlabel('Предсказания модели')\n",
        "plt.ylabel('Правильные ответы')\n",
        "plt.show()"
      ],
      "metadata": {
        "colab": {
          "base_uri": "https://localhost:8080/",
          "height": 531
        },
        "id": "jqTGB0VoAepa",
        "outputId": "3ec0c219-539c-464a-bfa9-fcadfff3c077"
      },
      "execution_count": null,
      "outputs": [
        {
          "output_type": "stream",
          "name": "stdout",
          "text": [
            "5/5 [==============================] - 3s 727ms/step\n"
          ]
        },
        {
          "output_type": "display_data",
          "data": {
            "text/plain": [
              "<Figure size 640x480 with 2 Axes>"
            ],
            "image/png": "[encoded data removed]"
          },
          "metadata": {}
        }
      ]
    },
    {
      "cell_type": "markdown",
      "source": [
        "71 раза модель предсказала пластик (правильный ответ пластик)\n",
        "\n",
        "1 раза модель предсказала металл (правильный ответ пластик)\n",
        "\n",
        "0 раз модель предсказала пластик (правильный ответ металл)\n",
        "\n",
        "72 раза модель предсказала металл (правильный ответ металл)\n",
        "\n",
        "**Вывод**: Модель с классом металл классифицирует (справляется) лучше."
      ],
      "metadata": {
        "id": "jR-bPvL_thpb"
      }
    },
    {
      "cell_type": "markdown",
      "source": [
        "## Расчет метрики precision"
      ],
      "metadata": {
        "id": "16fl3U2O5mt6"
      }
    },
    {
      "cell_type": "markdown",
      "source": [
        "Метрика precision показывает: насколько хорошо модель способна отличать выбранный класс от всех остальных. Для этого количество правильных ответов для выбранного класса (71 для пластика) нужно разделить на количество примеров, когда модель предсказала выбранный класс пластик (71)."
      ],
      "metadata": {
        "id": "iSdtYWjB5x61"
      }
    },
    {
      "cell_type": "code",
      "source": [
        "# Где cm_a = confusion_matrix(Y_test, Y_pred)\n",
        "\n",
        "# Расчет метрики precision для класса пластик\n",
        "precision_class_p = cm_a[0,0] / sum(cm_a[:,0])\n",
        "print('Метрика precision для класса пластик', precision_class_p)\n",
        "\n",
        "# Расчет метрики precision для класса металл\n",
        "precision_class_m = cm_a[1,1] / sum(cm_a[:,1])\n",
        "print('Метрика precision для класса металл',precision_class_m)"
      ],
      "metadata": {
        "colab": {
          "base_uri": "https://localhost:8080/"
        },
        "id": "AKl1WkQTPm45",
        "outputId": "52e2dfac-ec5c-4d92-e8ae-49a815b31c8a"
      },
      "execution_count": null,
      "outputs": [
        {
          "output_type": "stream",
          "name": "stdout",
          "text": [
            "Метрика precision для класса пластик 1.0\n",
            "Метрика precision для класса металл 0.9863013698630136\n"
          ]
        }
      ]
    },
    {
      "cell_type": "markdown",
      "source": [
        "**Вывод**: Модель отлично справляется с фильтрацией пластика от металла (100%), и чуть хуже в обратном случае, когда нужно отличить металл от пластика (98,6%)"
      ],
      "metadata": {
        "id": "w1NgOyG87W2Z"
      }
    },
    {
      "cell_type": "markdown",
      "source": [
        "## Метрика recall"
      ],
      "metadata": {
        "id": "k-sEdNfP7nao"
      }
    },
    {
      "cell_type": "markdown",
      "source": [
        "Метрика recall показыает насколько хорошо модель в принципе способна находить выбранный класс. В случае этой метрики мы берем общеее количество правильных ответов выбранного класса пластик (71) и делим на общее количество примеров выбранного класса - пластик в проверочном наборе (71+1)."
      ],
      "metadata": {
        "id": "TCUq0Wr97sFG"
      }
    },
    {
      "cell_type": "code",
      "source": [
        "# Расчет метрики recall для класса пластик\n",
        "recall_class_p = cm_a[0,0] / sum(cm_a[0])\n",
        "print('Метрика recall для класса пластик', recall_class_p)\n",
        "\n",
        "# Расчет метрики recall для класса металл\n",
        "recall_class_m = cm_a[1,1] / sum(cm_a[1])\n",
        "print('Метрика recall для класса металл', recall_class_m)"
      ],
      "metadata": {
        "colab": {
          "base_uri": "https://localhost:8080/"
        },
        "id": "RDG579JCPt9e",
        "outputId": "e743434f-0d47-4ac4-b7da-9c77c3bb1994"
      },
      "execution_count": null,
      "outputs": [
        {
          "output_type": "stream",
          "name": "stdout",
          "text": [
            "Метрика recall для класса пластик 0.9861111111111112\n",
            "Метрика recall для класса металл 1.0\n"
          ]
        }
      ]
    },
    {
      "cell_type": "markdown",
      "source": [
        "После подсчета метрики для каждого класса, можно объединить их для получения результирующих метрик.\n",
        "\n",
        "Есть различные подходы к подобному объединению. В sklearn'е реализовано два варианта.\n",
        "\n",
        "1. С помощью простого среднего арифметического\n",
        "2. С помощью взвешенного среднего арифметического"
      ],
      "metadata": {
        "id": "lXUZ0Neq8_vO"
      }
    },
    {
      "cell_type": "code",
      "source": [
        "# Расчет метрик через среднее арифметическое (_1)\n",
        "precision_1 = (precision_class_p + precision_class_m) / 2\n",
        "recall_1 = (recall_class_p + recall_class_m) / 2\n",
        "print('Через среднее арифметическое:')\n",
        "print(f'precision {precision_1}')\n",
        "print(f'recall {recall_1}')\n",
        "\n",
        "# Расчет метрик через среднее арифметическое взвешенное (_2)\n",
        "precision_2 = (precision_class_p * sum(cm_a[0]) + precision_class_m * sum(cm_a[1])) / len(Y_test)\n",
        "recall_2 = (recall_class_p * sum(cm_a[0]) + recall_class_m * sum(cm_a[1]))  / len(Y_test)\n",
        "print('\\nЧерез среднее арифметическое взвешенное:')\n",
        "print(f'precision {precision_2}')\n",
        "print(f'recall {recall_2}')"
      ],
      "metadata": {
        "colab": {
          "base_uri": "https://localhost:8080/"
        },
        "id": "NY8MTMl1Py-l",
        "outputId": "197616e2-c7ee-4ed4-f70f-bf9bc2947848"
      },
      "execution_count": null,
      "outputs": [
        {
          "output_type": "stream",
          "name": "stdout",
          "text": [
            "Через среднее арифметическое:\n",
            "precision 0.9931506849315068\n",
            "recall 0.9930555555555556\n",
            "\n",
            "Через среднее арифметическое взвешенное:\n",
            "precision 0.9931506849315068\n",
            "recall 0.9930555555555556\n"
          ]
        }
      ]
    },
    {
      "cell_type": "markdown",
      "source": [
        "## Метрика f1-score"
      ],
      "metadata": {
        "id": "kmNRTMib-XUt"
      }
    },
    {
      "cell_type": "markdown",
      "source": [
        "Метрика f1-score является средним гармоническим между presicion и recall и расчитывается по формуле:\n",
        "\n",
        "\n",
        "$f1 = 2 * \\frac{recall *precision}{recall + precision}$\n",
        "\n",
        "По аналогии метрика f1-score расчитывается для каждого класса отдельно, а затем через среднее арифметическое (простое или взвешанное) получается финальный результат"
      ],
      "metadata": {
        "id": "2FWWRAhr-b5s"
      }
    },
    {
      "cell_type": "code",
      "source": [
        "# Расчет f1_score для класса пластик\n",
        "f1_class_p = 2 * (precision_class_p * recall_class_p) / (precision_class_p + recall_class_p)\n",
        "\n",
        "# Расчет f1_score для класса металл\n",
        "f1_class_m = 2 * (precision_class_m * recall_class_m) / (precision_class_m + recall_class_m)\n",
        "\n",
        "print('Через среднее арифметическое:')\n",
        "print(f'Для пластика: {f1_class_p}')\n",
        "print(f'Для металла: {f1_class_m}')"
      ],
      "metadata": {
        "colab": {
          "base_uri": "https://localhost:8080/"
        },
        "id": "x3vXBcqe-jp6",
        "outputId": "af33a5b9-d691-43a5-a155-aef779c0a3d4"
      },
      "execution_count": null,
      "outputs": [
        {
          "output_type": "stream",
          "name": "stdout",
          "text": [
            "Через среднее арифметическое:\n",
            "Для пластика: 0.993006993006993\n",
            "Для металла: 0.993103448275862\n"
          ]
        }
      ]
    },
    {
      "cell_type": "code",
      "source": [
        "# Расчет f1-score через среднее арифметическое\n",
        "f1_score_1 = (f1_class_p + f1_class_m) / 2\n",
        "\n",
        "# Расчет f1-score через среднее арифметическое взвешенное\n",
        "f1_score_2 = (f1_class_p *  sum(cm_a[0]) + f1_class_m  * sum(cm_a[1])) / len(Y_test)\n",
        "\n",
        "print('Через среднее арифметическое:')\n",
        "print(f'Для двух классов: {f1_score_1}')\n",
        "print('\\nЧерез среднее арифметическое взвешенное:')\n",
        "print(f'Для двух классов: {f1_score_2}')"
      ],
      "metadata": {
        "colab": {
          "base_uri": "https://localhost:8080/"
        },
        "id": "t_lrKtiK-273",
        "outputId": "ce9f4a25-39a1-4c1c-ff5b-12e9fc0b0da1"
      },
      "execution_count": null,
      "outputs": [
        {
          "output_type": "stream",
          "name": "stdout",
          "text": [
            "Через среднее арифметическое:\n",
            "Для двух классов: 0.9930552206414276\n",
            "\n",
            "Через среднее арифметическое взвешенное:\n",
            "Для двух классов: 0.9930552206414275\n"
          ]
        }
      ]
    },
    {
      "cell_type": "markdown",
      "source": [
        "### Метод precision_recall_fscore_support"
      ],
      "metadata": {
        "id": "p47QsJ3ewq1L"
      }
    },
    {
      "cell_type": "markdown",
      "source": [
        "Расчет метрик можно выполнить с помощью готового метода библиотеки sclearn"
      ],
      "metadata": {
        "id": "uCh7jQQR0R7H"
      }
    },
    {
      "cell_type": "code",
      "source": [
        "# Импорт метода расчета метрик\n",
        "from sklearn.metrics import precision_recall_fscore_support\n",
        "\n",
        "metrics1 = precision_recall_fscore_support(Y_test, Y_pred, average='macro')\n",
        "\n",
        "print(f'precision: {metrics1[0]}')\n",
        "print(f'recall:    {metrics1[1]}')\n",
        "print(f'f1_score:  {metrics1[2]}')"
      ],
      "metadata": {
        "colab": {
          "base_uri": "https://localhost:8080/"
        },
        "id": "nBpnVtHSAmqu",
        "outputId": "0f14769e-4756-466c-a9cd-83688b252f3e"
      },
      "execution_count": null,
      "outputs": [
        {
          "output_type": "stream",
          "name": "stdout",
          "text": [
            "precision: 0.9931506849315068\n",
            "recall:    0.9930555555555556\n",
            "f1_score:  0.9930552206414276\n"
          ]
        }
      ]
    }
  ]
}