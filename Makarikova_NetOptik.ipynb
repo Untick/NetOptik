{
  "nbformat": 4,
  "nbformat_minor": 0,
  "metadata": {
    "colab": {
      "provenance": [],
      "authorship_tag": "ABX9TyNIzDbhYF+96MsGB6kSo9/A",
      "include_colab_link": true
    },
    "kernelspec": {
      "name": "python3",
      "display_name": "Python 3"
    },
    "language_info": {
      "name": "python"
    }
  },
  "cells": [
    {
      "cell_type": "markdown",
      "metadata": {
        "id": "view-in-github",
        "colab_type": "text"
      },
      "source": [
        "<a href=\"https://colab.research.google.com/github/Untick/NetOptik/blob/Makarikova-Olga-branch/Makarikova_NetOptik.ipynb\" target=\"_parent\"><img src=\"https://colab.research.google.com/assets/colab-badge.svg\" alt=\"Open In Colab\"/></a>"
      ]
    },
    {
      "cell_type": "markdown",
      "source": [
        "# Базовые команды"
      ],
      "metadata": {
        "id": "34x6jXrTqyG7"
      }
    },
    {
      "cell_type": "code",
      "execution_count": null,
      "metadata": {
        "colab": {
          "base_uri": "https://localhost:8080/",
          "height": 35
        },
        "id": "WPwFhQYxpF2E",
        "outputId": "4976c7a1-cbff-48cd-e09a-8da866c6df74"
      },
      "outputs": [
        {
          "output_type": "execute_result",
          "data": {
            "text/plain": [
              "'/content'"
            ],
            "application/vnd.google.colaboratory.intrinsic+json": {
              "type": "string"
            }
          },
          "metadata": {},
          "execution_count": 1
        }
      ],
      "source": [
        "!pwd()"
      ]
    },
    {
      "cell_type": "markdown",
      "source": [
        "## Импорт необходимых библиотек"
      ],
      "metadata": {
        "id": "0RIEAMxQqvCm"
      }
    },
    {
      "cell_type": "code",
      "source": [
        "!pip install lxml"
      ],
      "metadata": {
        "colab": {
          "base_uri": "https://localhost:8080/"
        },
        "id": "jMD32JpXPaGt",
        "outputId": "30fd1fea-b977-4763-eb52-bb2b89b23ece"
      },
      "execution_count": null,
      "outputs": [
        {
          "output_type": "stream",
          "name": "stdout",
          "text": [
            "Requirement already satisfied: lxml in /usr/local/lib/python3.10/dist-packages (4.9.3)\n"
          ]
        }
      ]
    },
    {
      "cell_type": "code",
      "source": [
        "!pip install wget"
      ],
      "metadata": {
        "colab": {
          "base_uri": "https://localhost:8080/"
        },
        "id": "pv84bkSmZ_Gz",
        "outputId": "ad2d81b0-1a2f-4707-866e-c129eecfd9c5"
      },
      "execution_count": null,
      "outputs": [
        {
          "output_type": "stream",
          "name": "stdout",
          "text": [
            "Collecting wget\n",
            "  Downloading wget-3.2.zip (10 kB)\n",
            "  Preparing metadata (setup.py) ... \u001b[?25l\u001b[?25hdone\n",
            "Building wheels for collected packages: wget\n",
            "  Building wheel for wget (setup.py) ... \u001b[?25l\u001b[?25hdone\n",
            "  Created wheel for wget: filename=wget-3.2-py3-none-any.whl size=9657 sha256=9eb3c7af4b89b0fe7950bd4dad4cda853b4e3555b5ad80ca49019622b88691aa\n",
            "  Stored in directory: /root/.cache/pip/wheels/8b/f1/7f/5c94f0a7a505ca1c81cd1d9208ae2064675d97582078e6c769\n",
            "Successfully built wget\n",
            "Installing collected packages: wget\n",
            "Successfully installed wget-3.2\n"
          ]
        }
      ]
    },
    {
      "cell_type": "code",
      "source": [
        "from bs4 import BeautifulSoup\n",
        "import lxml\n",
        "import requests\n",
        "#import wget"
      ],
      "metadata": {
        "id": "IIjzRxVIRxMR"
      },
      "execution_count": null,
      "outputs": []
    },
    {
      "cell_type": "markdown",
      "source": [
        "## Парсинг сайта Netoptik"
      ],
      "metadata": {
        "id": "9XbqDW9XqfTx"
      }
    },
    {
      "cell_type": "markdown",
      "source": [
        "Загрузим саму страницу по адресу https://www.netoptik.ru/yandexmarket.yml к себе на компьютер и откроем в BS"
      ],
      "metadata": {
        "id": "SNASrBbXsNrB"
      }
    },
    {
      "cell_type": "code",
      "source": [
        "# парсинг кода страницы\n",
        "content = []\n",
        "with open('netoptik.ru_yandexmarket.yml', 'r') as f:\n",
        "  content = f.readlines()\n",
        "content = \"\".join(content)\n",
        "bs = BeautifulSoup(content, \"lxml\")"
      ],
      "metadata": {
        "id": "zTpS4tvHrC3p",
        "colab": {
          "base_uri": "https://localhost:8080/"
        },
        "outputId": "a0da9117-c55a-4025-c49d-d214720d3ae4"
      },
      "execution_count": null,
      "outputs": [
        {
          "output_type": "stream",
          "name": "stderr",
          "text": [
            "/usr/local/lib/python3.10/dist-packages/bs4/builder/__init__.py:545: XMLParsedAsHTMLWarning: It looks like you're parsing an XML document using an HTML parser. If this really is an HTML document (maybe it's XHTML?), you can ignore or filter this warning. If it's XML, you should know that using an XML parser will be more reliable. To parse this document as XML, make sure you have the lxml package installed, and pass the keyword argument `features=\"xml\"` into the BeautifulSoup constructor.\n",
            "  warnings.warn(\n"
          ]
        }
      ]
    },
    {
      "cell_type": "markdown",
      "source": [
        "Найдем ссылки на изображения"
      ],
      "metadata": {
        "id": "eDhnTrBnsGSf"
      }
    },
    {
      "cell_type": "code",
      "source": [
        "# <picture>\n",
        "allimgs = bs.find_all('picture')\n",
        "allimgs"
      ],
      "metadata": {
        "id": "Tt99P9Narlxf"
      },
      "execution_count": null,
      "outputs": []
    },
    {
      "cell_type": "code",
      "source": [
        "allimgs[0].text"
      ],
      "metadata": {
        "colab": {
          "base_uri": "https://localhost:8080/",
          "height": 35
        },
        "id": "q3M3slasVvdx",
        "outputId": "f0857edd-c979-44f5-d58b-2ea1c19d9494"
      },
      "execution_count": null,
      "outputs": [
        {
          "output_type": "execute_result",
          "data": {
            "text/plain": [
              "'https://www.netoptik.ru/image/cache/data/med_opravi/BALENCIAGA/balenciagabal01088o0s213-600x600.jpg'"
            ],
            "application/vnd.google.colaboratory.intrinsic+json": {
              "type": "string"
            }
          },
          "metadata": {},
          "execution_count": 32
        }
      ]
    },
    {
      "cell_type": "markdown",
      "source": [
        "Сохраним все изображения"
      ],
      "metadata": {
        "id": "nvwzmwy5VrUX"
      }
    },
    {
      "cell_type": "code",
      "source": [
        "url = \"https://www.netoptik.ru/image/cache/data/med_opravi/BALENCIAGA/balenciagabal01088o0s213-600x600.jpg\"\n",
        "#wget.download(url)"
      ],
      "metadata": {
        "colab": {
          "base_uri": "https://localhost:8080/",
          "height": 35
        },
        "id": "CFZySNm-YM72",
        "outputId": "a21e73c9-f404-4b9d-b4ac-dd0a41844efc"
      },
      "execution_count": null,
      "outputs": [
        {
          "output_type": "execute_result",
          "data": {
            "text/plain": [
              "'balenciagabal01088o0s213-600x600 (1).jpg'"
            ],
            "application/vnd.google.colaboratory.intrinsic+json": {
              "type": "string"
            }
          },
          "metadata": {},
          "execution_count": 42
        }
      ]
    },
    {
      "cell_type": "code",
      "source": [
        "# номер изображения\n",
        "num = 1\n",
        "\n",
        "# проходим по всем объектам img\n",
        "for img in allimgs[:]:\n",
        "\n",
        "  # достаем ссылку на изображение\n",
        "  img_url = img.text\n",
        "  print(img_url)\n",
        "\n",
        "  # get запрос\n",
        "  filename = requests.download(img_url)\n",
        "#  print(filename.text)\n",
        "\n",
        "  # сохраняем изображение в файл\n",
        "  with open(f'img_{num}.jpg', \"wb\") as out:\n",
        "    out.write(filename.content)\n",
        "\n",
        "  num+=1"
      ],
      "metadata": {
        "id": "lxMoRfi2sxXh"
      },
      "execution_count": null,
      "outputs": []
    },
    {
      "cell_type": "markdown",
      "source": [
        "Ни wget, ни requests не может загрузить картинки с сайта, так как сервер запрашивает прохождение капчи. Воспользуемся уже скачанными изображениями."
      ],
      "metadata": {
        "id": "rsFWqC64pHb4"
      }
    },
    {
      "cell_type": "markdown",
      "source": [
        "Достанем характеристики очков из файла netoptik.ru_yandexmarket.yml"
      ],
      "metadata": {
        "id": "YrclfAMzpfym"
      }
    },
    {
      "cell_type": "code",
      "source": [
        "offers = bs.find(\"offer\")"
      ],
      "metadata": {
        "id": "NSRrI59yYFq0"
      },
      "execution_count": null,
      "outputs": []
    },
    {
      "cell_type": "code",
      "source": [
        "offers"
      ],
      "metadata": {
        "colab": {
          "base_uri": "https://localhost:8080/"
        },
        "id": "FV0I_gBYsGrF",
        "outputId": "a5a266f0-9b0e-428a-c079-e7430ab40e81"
      },
      "execution_count": null,
      "outputs": [
        {
          "output_type": "execute_result",
          "data": {
            "text/plain": [
              "<offer id=\"11365\">\n",
              "<categoryid>176</categoryid>\n",
              "<name>Оправа Balenciaga, BAL 0108, 8O0</name>\n",
              "<url>https://www.netoptik.ru/frames/oprava-balenciaga-bal-0108-8o0</url>\n",
              "<price>6650</price>\n",
              "<oldprice>9500</oldprice>\n",
              "<currencyid>RUB</currencyid>\n",
              "<vendor>BALENCIAGA</vendor>\n",
              "<model>Оправа Balenciaga, BAL 0108, 8O0</model>\n",
              "<picture>https://www.netoptik.ru/image/cache/data/med_opravi/BALENCIAGA/balenciagabal01088o0s213-600x600.jpg</picture>\n",
              "<picture>https://www.netoptik.ru/image/cache/data/med_opravi/BALENCIAGA/balenciagabal01088o0s231-600x600.jpg</picture>\n",
              "<picture>https://www.netoptik.ru/image/cache/data/med_opravi/BALENCIAGA/balenciagabal01088o0s222-600x600.jpg</picture>\n",
              "<param name=\"Категория\"/>Оправы для очков\n",
              "<param name=\"Ширина оправы (мм)\"/>128\n",
              "<param name=\"Ширина линзы (мм)\"/>55\n",
              "<param name=\"Высота линзы (мм)\"/>40\n",
              "<param name=\"Мост (мм)\"/>16\n",
              "<param name=\"Длина заушника (мм)\"/>140\n",
              "<param name=\"Материал \"/>комбинированный\n",
              "<param name=\"Стиль\"/>Унисекс\n",
              "<param name=\"Строение оправы\"/>Ободковая\n",
              "<param name=\"Цвет оправы\"/>Черепаховый\n",
              "<param name=\"Цвет заушника оправы\"/>серебряный\n",
              "<param name=\"Форма очков\"/>Кошки (кошачий глаз)\n",
              "        <quantity>100</quantity>\n",
              "</offer>"
            ]
          },
          "metadata": {},
          "execution_count": 23
        }
      ]
    },
    {
      "cell_type": "code",
      "source": [
        "from google.colab import drive\n",
        "drive.mount('/content/drive')"
      ],
      "metadata": {
        "id": "qgSfPHMGOVI9"
      },
      "execution_count": null,
      "outputs": []
    },
    {
      "cell_type": "code",
      "source": [
        "offers.find(\"param\", {\"name\":\"Материал \"})"
      ],
      "metadata": {
        "colab": {
          "base_uri": "https://localhost:8080/"
        },
        "id": "JXTk-t7SsI2W",
        "outputId": "fb47d891-d148-4b34-d132-8a4b3652047b"
      },
      "execution_count": null,
      "outputs": [
        {
          "output_type": "execute_result",
          "data": {
            "text/plain": [
              "<param name=\"Материал \"/>"
            ]
          },
          "metadata": {},
          "execution_count": 27
        }
      ]
    },
    {
      "cell_type": "markdown",
      "source": [
        "Скачаем изображения для каждого оффера в разные папки согласно их материалу"
      ],
      "metadata": {
        "id": "VzaphrF5v3QR"
      }
    },
    {
      "cell_type": "code",
      "source": [
        "c = 1 # номер оффера\n",
        "\n",
        "for offer in offers[:2]:\n",
        "  try:\n",
        "      folder = offer.find(\"param\", {\"name\":\"Материал \"}).text # разделим изображения по папкам по материалу\n",
        "  except:\n",
        "      continue\n",
        "  print(folder)\n",
        "  imgs = offer.find_all(\"picture\") # найдем и скачаем все картинки данного оффера\n",
        "  num = 1 # номер изображения\n",
        "  for img in imgs:\n",
        "      img_url = img.text # достаем ссылку на изображение\n",
        "      filename = requests.get(img_url) # скачиваем картинку\n",
        "      with open(f'{folder}/img_{c}_{num}.jpg', \"wb\") as out: # сохраняем изображение в файл\n",
        "          out.write(filename.content)\n",
        "      num += 1\n",
        "  c += 1"
      ],
      "metadata": {
        "colab": {
          "base_uri": "https://localhost:8080/",
          "height": 356
        },
        "id": "okmoaO5Tsic6",
        "outputId": "320d0498-08bb-4bbe-ce47-f988d006ed20"
      },
      "execution_count": null,
      "outputs": [
        {
          "output_type": "error",
          "ename": "TypeError",
          "evalue": "ignored",
          "traceback": [
            "\u001b[0;31m---------------------------------------------------------------------------\u001b[0m",
            "\u001b[0;31mTypeError\u001b[0m                                 Traceback (most recent call last)",
            "\u001b[0;32m<ipython-input-26-65fe21cf58b4>\u001b[0m in \u001b[0;36m<cell line: 3>\u001b[0;34m()\u001b[0m\n\u001b[1;32m      1\u001b[0m \u001b[0mc\u001b[0m \u001b[0;34m=\u001b[0m \u001b[0;36m1\u001b[0m \u001b[0;31m# номер оффера\u001b[0m\u001b[0;34m\u001b[0m\u001b[0;34m\u001b[0m\u001b[0m\n\u001b[1;32m      2\u001b[0m \u001b[0;34m\u001b[0m\u001b[0m\n\u001b[0;32m----> 3\u001b[0;31m \u001b[0;32mfor\u001b[0m \u001b[0moffer\u001b[0m \u001b[0;32min\u001b[0m \u001b[0moffers\u001b[0m\u001b[0;34m[\u001b[0m\u001b[0;34m:\u001b[0m\u001b[0;36m2\u001b[0m\u001b[0;34m]\u001b[0m\u001b[0;34m:\u001b[0m\u001b[0;34m\u001b[0m\u001b[0;34m\u001b[0m\u001b[0m\n\u001b[0m\u001b[1;32m      4\u001b[0m   \u001b[0;32mtry\u001b[0m\u001b[0;34m:\u001b[0m\u001b[0;34m\u001b[0m\u001b[0;34m\u001b[0m\u001b[0m\n\u001b[1;32m      5\u001b[0m       \u001b[0mfolder\u001b[0m \u001b[0;34m=\u001b[0m \u001b[0moffer\u001b[0m\u001b[0;34m.\u001b[0m\u001b[0mfind\u001b[0m\u001b[0;34m(\u001b[0m\u001b[0;34m\"param\"\u001b[0m\u001b[0;34m,\u001b[0m \u001b[0;34m{\u001b[0m\u001b[0;34m\"name\"\u001b[0m\u001b[0;34m:\u001b[0m\u001b[0;34m\"Материал \"\u001b[0m\u001b[0;34m}\u001b[0m\u001b[0;34m)\u001b[0m\u001b[0;34m.\u001b[0m\u001b[0mtext\u001b[0m \u001b[0;31m# разделим изображения по папкам по материалу\u001b[0m\u001b[0;34m\u001b[0m\u001b[0;34m\u001b[0m\u001b[0m\n",
            "\u001b[0;32m/usr/local/lib/python3.10/dist-packages/bs4/element.py\u001b[0m in \u001b[0;36m__getitem__\u001b[0;34m(self, key)\u001b[0m\n\u001b[1;32m   1533\u001b[0m         \"\"\"tag[key] returns the value of the 'key' attribute for the Tag,\n\u001b[1;32m   1534\u001b[0m         and throws an exception if it's not there.\"\"\"\n\u001b[0;32m-> 1535\u001b[0;31m         \u001b[0;32mreturn\u001b[0m \u001b[0mself\u001b[0m\u001b[0;34m.\u001b[0m\u001b[0mattrs\u001b[0m\u001b[0;34m[\u001b[0m\u001b[0mkey\u001b[0m\u001b[0;34m]\u001b[0m\u001b[0;34m\u001b[0m\u001b[0;34m\u001b[0m\u001b[0m\n\u001b[0m\u001b[1;32m   1536\u001b[0m \u001b[0;34m\u001b[0m\u001b[0m\n\u001b[1;32m   1537\u001b[0m     \u001b[0;32mdef\u001b[0m \u001b[0m__iter__\u001b[0m\u001b[0;34m(\u001b[0m\u001b[0mself\u001b[0m\u001b[0;34m)\u001b[0m\u001b[0;34m:\u001b[0m\u001b[0;34m\u001b[0m\u001b[0;34m\u001b[0m\u001b[0m\n",
            "\u001b[0;31mTypeError\u001b[0m: unhashable type: 'slice'"
          ]
        }
      ]
    },
    {
      "cell_type": "markdown",
      "source": [
        "Скачаем изображения для каждого оффера в разные папки согласно их дужкам"
      ],
      "metadata": {
        "id": "BkjWjilSwCuu"
      }
    },
    {
      "cell_type": "code",
      "source": [
        "c = 1 # номер оффера\n",
        "\n",
        "for offer in offers[:2]:\n",
        "  try:\n",
        "      folder = offer.find(\"param\", {\"name\":\"Строение оправы\"}).text # разделим изображения по папкам по типу дужек\n",
        "  except:\n",
        "      continue\n",
        "  imgs = offer.find_all(\"picture\") # найдем и скачаем все картинки данного оффера\n",
        "  num = 1 # номер изображения\n",
        "  for img in imgs:\n",
        "      img_url = img.text # достаем ссылку на изображение\n",
        "      filename = requests.get(img_url) # скачиваем картинку\n",
        "      with open(f'{folder}/img_{c}_{num}.jpg', \"wb\") as out: # сохраняем изображение в файл\n",
        "          out.write(filename.content)\n",
        "      num += 1\n",
        "  c += 1"
      ],
      "metadata": {
        "id": "0IcMfsIawHR9"
      },
      "execution_count": null,
      "outputs": []
    },
    {
      "cell_type": "code",
      "source": [],
      "metadata": {
        "id": "s5Zu1cwyyQrK"
      },
      "execution_count": null,
      "outputs": []
    }
  ]
}